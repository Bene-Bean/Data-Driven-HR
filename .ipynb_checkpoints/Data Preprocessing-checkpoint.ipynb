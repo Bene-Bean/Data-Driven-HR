{
 "cells": [
  {
   "cell_type": "markdown",
   "metadata": {},
   "source": [
    "해당 페이지에서는 직원, 프로그램, 프로젝트, 총 3가지 데이터를 통합하여 볼 수 있는 테이블 등을 생성하는데에 목적을 둔다"
   ]
  },
  {
   "cell_type": "markdown",
   "metadata": {},
   "source": [
    "# Settings\n",
    "#### Import Libraries"
   ]
  },
  {
   "cell_type": "code",
   "execution_count": 5,
   "metadata": {},
   "outputs": [],
   "source": [
    "import os\n",
    "import numpy as np\n",
    "import pandas as pd"
   ]
  },
  {
   "cell_type": "markdown",
   "metadata": {},
   "source": [
    "#### Set pandas option\n",
    "table display 할 때에 컬럼이 많아도 전부 출력되도록 함"
   ]
  },
  {
   "cell_type": "code",
   "execution_count": 143,
   "metadata": {},
   "outputs": [],
   "source": [
    "pd.set_option('display.max_rows', 5, 'display.max_columns', None)"
   ]
  },
  {
   "cell_type": "markdown",
   "metadata": {},
   "source": [
    "# Import Data"
   ]
  },
  {
   "cell_type": "code",
   "execution_count": 7,
   "metadata": {},
   "outputs": [],
   "source": [
    "root = os.path.join(os.getcwd(), 'DATA')"
   ]
  },
  {
   "cell_type": "markdown",
   "metadata": {},
   "source": [
    "### 직원 데이터\n",
    "행내 직원 기본 정보"
   ]
  },
  {
   "cell_type": "code",
   "execution_count": 8,
   "metadata": {},
   "outputs": [],
   "source": [
    "# 직원\n",
    "jikwon_dir = os.path.join(root, 'jikwon.csv')\n",
    "jikwon = pd.read_csv(jikwon_dir, encoding='cp949')"
   ]
  },
  {
   "cell_type": "markdown",
   "metadata": {},
   "source": [
    "### 프로그램 변경 이력 데이터\n",
    "2020년 이후 신규/변경된 프로그램의 변경 이력 정보\n",
    "\n",
    "용량 문제로 인하여 2개의 파일로 존재"
   ]
  },
  {
   "cell_type": "code",
   "execution_count": 9,
   "metadata": {},
   "outputs": [],
   "source": [
    "# 프로그램 변경 이력\n",
    "change_dir_1 = os.path.join(root, 'program_change_1.xlsx')\n",
    "change_dir_2 = os.path.join(root, 'program_change_2.xlsx')\n",
    "program_change_1 = pd.read_excel(change_dir_1)\n",
    "program_change_2 = pd.read_excel(change_dir_2)"
   ]
  },
  {
   "cell_type": "markdown",
   "metadata": {},
   "source": [
    "###  프로젝트 데이터\n",
    "2020년 이후 프로그램을 신규/변경한 프로젝트 정보"
   ]
  },
  {
   "cell_type": "code",
   "execution_count": 10,
   "metadata": {},
   "outputs": [],
   "source": [
    "# 프로젝트\n",
    "project_dir = os.path.join(root, 'project.xlsx')\n",
    "project = pd.read_excel(project_dir, sheet_name='프로젝트정보')\n",
    "project_jikwon = pd.read_excel(project_dir, sheet_name='프로젝트인력')"
   ]
  },
  {
   "cell_type": "markdown",
   "metadata": {},
   "source": [
    "---\n",
    "# Data Overview & Preprocessing _ Jikwon"
   ]
  },
  {
   "cell_type": "code",
   "execution_count": 144,
   "metadata": {},
   "outputs": [
    {
     "data": {
      "text/html": [
       "<div>\n",
       "<style scoped>\n",
       "    .dataframe tbody tr th:only-of-type {\n",
       "        vertical-align: middle;\n",
       "    }\n",
       "\n",
       "    .dataframe tbody tr th {\n",
       "        vertical-align: top;\n",
       "    }\n",
       "\n",
       "    .dataframe thead th {\n",
       "        text-align: right;\n",
       "    }\n",
       "</style>\n",
       "<table border=\"1\" class=\"dataframe\">\n",
       "  <thead>\n",
       "    <tr style=\"text-align: right;\">\n",
       "      <th></th>\n",
       "      <th>JIKWON_NO</th>\n",
       "      <th>NAME</th>\n",
       "      <th>JEOM_NO</th>\n",
       "      <th>JEOM_NAME</th>\n",
       "      <th>JIKGUN</th>\n",
       "      <th>JIKGEUB</th>\n",
       "      <th>JIKWHI</th>\n",
       "      <th>JIKWHI_NAME</th>\n",
       "      <th>JUMINNO</th>\n",
       "      <th>JIKWHI2</th>\n",
       "      <th>JUJKMU_C</th>\n",
       "      <th>JUJKMU_NM</th>\n",
       "      <th>JUJKMU_RATE</th>\n",
       "      <th>BUJKMU_C</th>\n",
       "      <th>BUJKMU_NM</th>\n",
       "      <th>BUJKMU_RATE</th>\n",
       "      <th>JUMJANG_G</th>\n",
       "      <th>HOBONG</th>\n",
       "      <th>TOIJIKGBN</th>\n",
       "      <th>BUIM_ILJA</th>\n",
       "      <th>LST_CHG_ILSI</th>\n",
       "      <th>SILNO_CID</th>\n",
       "      <th>CUSNO</th>\n",
       "      <th>SAME_MN_NO</th>\n",
       "    </tr>\n",
       "  </thead>\n",
       "  <tbody>\n",
       "    <tr>\n",
       "      <th>0</th>\n",
       "      <td>20505190</td>\n",
       "      <td>최태호</td>\n",
       "      <td>4</td>\n",
       "      <td>준법감시부</td>\n",
       "      <td>30000</td>\n",
       "      <td>99999</td>\n",
       "      <td>20425</td>\n",
       "      <td>전문계약직원</td>\n",
       "      <td>NaN</td>\n",
       "      <td>9</td>\n",
       "      <td>NaN</td>\n",
       "      <td>NaN</td>\n",
       "      <td>NaN</td>\n",
       "      <td>NaN</td>\n",
       "      <td>NaN</td>\n",
       "      <td>NaN</td>\n",
       "      <td>0</td>\n",
       "      <td>99998</td>\n",
       "      <td>0</td>\n",
       "      <td>20200401</td>\n",
       "      <td>NaN</td>\n",
       "      <td>fLOjQav3YWgEC</td>\n",
       "      <td>464464292</td>\n",
       "      <td>464464292</td>\n",
       "    </tr>\n",
       "    <tr>\n",
       "      <th>1</th>\n",
       "      <td>6209769</td>\n",
       "      <td>김명희</td>\n",
       "      <td>1107</td>\n",
       "      <td>영등포</td>\n",
       "      <td>20004</td>\n",
       "      <td>3</td>\n",
       "      <td>31053</td>\n",
       "      <td>부지점장겸 WRM</td>\n",
       "      <td>NaN</td>\n",
       "      <td>2</td>\n",
       "      <td>10905.0</td>\n",
       "      <td>WRM</td>\n",
       "      <td>100.0</td>\n",
       "      <td>NaN</td>\n",
       "      <td>NaN</td>\n",
       "      <td>0.0</td>\n",
       "      <td>0</td>\n",
       "      <td>10975</td>\n",
       "      <td>0</td>\n",
       "      <td>20190128</td>\n",
       "      <td>2.019013e+13</td>\n",
       "      <td>yoV049wbj4xLo</td>\n",
       "      <td>478015769</td>\n",
       "      <td>478015769</td>\n",
       "    </tr>\n",
       "    <tr>\n",
       "      <th>...</th>\n",
       "      <td>...</td>\n",
       "      <td>...</td>\n",
       "      <td>...</td>\n",
       "      <td>...</td>\n",
       "      <td>...</td>\n",
       "      <td>...</td>\n",
       "      <td>...</td>\n",
       "      <td>...</td>\n",
       "      <td>...</td>\n",
       "      <td>...</td>\n",
       "      <td>...</td>\n",
       "      <td>...</td>\n",
       "      <td>...</td>\n",
       "      <td>...</td>\n",
       "      <td>...</td>\n",
       "      <td>...</td>\n",
       "      <td>...</td>\n",
       "      <td>...</td>\n",
       "      <td>...</td>\n",
       "      <td>...</td>\n",
       "      <td>...</td>\n",
       "      <td>...</td>\n",
       "      <td>...</td>\n",
       "      <td>...</td>\n",
       "    </tr>\n",
       "    <tr>\n",
       "      <th>13971</th>\n",
       "      <td>20100700</td>\n",
       "      <td>이재상</td>\n",
       "      <td>1207</td>\n",
       "      <td>종로</td>\n",
       "      <td>20004</td>\n",
       "      <td>5</td>\n",
       "      <td>20258</td>\n",
       "      <td>행원</td>\n",
       "      <td>NaN</td>\n",
       "      <td>3</td>\n",
       "      <td>10612.0</td>\n",
       "      <td>상담 FC</td>\n",
       "      <td>90.0</td>\n",
       "      <td>10611.0</td>\n",
       "      <td>후선업무 AS</td>\n",
       "      <td>10.0</td>\n",
       "      <td>0</td>\n",
       "      <td>47345</td>\n",
       "      <td>0</td>\n",
       "      <td>20200206</td>\n",
       "      <td>2.020022e+13</td>\n",
       "      <td>l5xVJSARN5L8m</td>\n",
       "      <td>499646799</td>\n",
       "      <td>499646799</td>\n",
       "    </tr>\n",
       "    <tr>\n",
       "      <th>13972</th>\n",
       "      <td>6211895</td>\n",
       "      <td>김정아</td>\n",
       "      <td>1857</td>\n",
       "      <td>안양비산동</td>\n",
       "      <td>20004</td>\n",
       "      <td>4</td>\n",
       "      <td>20112</td>\n",
       "      <td>차장</td>\n",
       "      <td>NaN</td>\n",
       "      <td>2</td>\n",
       "      <td>10733.0</td>\n",
       "      <td>WM</td>\n",
       "      <td>100.0</td>\n",
       "      <td>NaN</td>\n",
       "      <td>NaN</td>\n",
       "      <td>0.0</td>\n",
       "      <td>0</td>\n",
       "      <td>23170</td>\n",
       "      <td>0</td>\n",
       "      <td>20200708</td>\n",
       "      <td>2.021021e+13</td>\n",
       "      <td>Ydg/fYYORY+c0</td>\n",
       "      <td>438419556</td>\n",
       "      <td>438419556</td>\n",
       "    </tr>\n",
       "  </tbody>\n",
       "</table>\n",
       "<p>13973 rows × 24 columns</p>\n",
       "</div>"
      ],
      "text/plain": [
       "       JIKWON_NO               NAME  JEOM_NO                     JEOM_NAME  \\\n",
       "0       20505190  최태호                      4     준법감시부                       \n",
       "1        6209769  김명희                   1107   영등포                           \n",
       "...          ...                ...      ...                           ...   \n",
       "13971   20100700  이재상                   1207  종로                             \n",
       "13972    6211895  김정아                   1857     안양비산동                       \n",
       "\n",
       "       JIKGUN  JIKGEUB  JIKWHI JIKWHI_NAME JUMINNO  JIKWHI2  JUJKMU_C  \\\n",
       "0       30000    99999   20425      전문계약직원     NaN        9       NaN   \n",
       "1       20004        3   31053   부지점장겸 WRM     NaN        2   10905.0   \n",
       "...       ...      ...     ...         ...     ...      ...       ...   \n",
       "13971   20004        5   20258          행원     NaN        3   10612.0   \n",
       "13972   20004        4   20112          차장     NaN        2   10733.0   \n",
       "\n",
       "      JUJKMU_NM  JUJKMU_RATE  BUJKMU_C BUJKMU_NM  BUJKMU_RATE  JUMJANG_G  \\\n",
       "0           NaN          NaN       NaN       NaN          NaN          0   \n",
       "1           WRM        100.0       NaN       NaN          0.0          0   \n",
       "...         ...          ...       ...       ...          ...        ...   \n",
       "13971     상담 FC         90.0   10611.0   후선업무 AS         10.0          0   \n",
       "13972        WM        100.0       NaN       NaN          0.0          0   \n",
       "\n",
       "       HOBONG  TOIJIKGBN  BUIM_ILJA  LST_CHG_ILSI      SILNO_CID      CUSNO  \\\n",
       "0       99998          0   20200401           NaN  fLOjQav3YWgEC  464464292   \n",
       "1       10975          0   20190128  2.019013e+13  yoV049wbj4xLo  478015769   \n",
       "...       ...        ...        ...           ...            ...        ...   \n",
       "13971   47345          0   20200206  2.020022e+13  l5xVJSARN5L8m  499646799   \n",
       "13972   23170          0   20200708  2.021021e+13  Ydg/fYYORY+c0  438419556   \n",
       "\n",
       "       SAME_MN_NO  \n",
       "0       464464292  \n",
       "1       478015769  \n",
       "...           ...  \n",
       "13971   499646799  \n",
       "13972   438419556  \n",
       "\n",
       "[13973 rows x 24 columns]"
      ]
     },
     "metadata": {},
     "output_type": "display_data"
    }
   ],
   "source": [
    "display(jikwon)"
   ]
  },
  {
   "cell_type": "markdown",
   "metadata": {},
   "source": [
    "### 1. 점번호 필터링\n",
    "데이터 대상자는 ICT 그룹 직원이므로 점번호를 기준으로 필터링\n",
    "\n",
    "- 61(ICT운영부)\n",
    "- 62(정보개발부)\n",
    "- 63(금융개발부)\n",
    "- 64(글로벌개발부)\n",
    "- 66(기관개발부)\n",
    "- 69(디지털개발부)\n",
    "- 507(ICT기획부)"
   ]
  },
  {
   "cell_type": "code",
   "execution_count": 49,
   "metadata": {},
   "outputs": [],
   "source": [
    "jikwon_data = jikwon[(jikwon['JEOM_NO'] == 61) | (jikwon['JEOM_NO'] == 62) | (jikwon['JEOM_NO'] ==  63) |\n",
    "                     (jikwon['JEOM_NO'] == 64) | (jikwon['JEOM_NO'] == 66) | (jikwon['JEOM_NO'] == 69) | (jikwon['JEOM_NO'] ==  507)]"
   ]
  },
  {
   "cell_type": "code",
   "execution_count": 50,
   "metadata": {
    "scrolled": true
   },
   "outputs": [
    {
     "data": {
      "text/plain": [
       "(432, 24)"
      ]
     },
     "execution_count": 50,
     "metadata": {},
     "output_type": "execute_result"
    }
   ],
   "source": [
    "jikwon_data.shape"
   ]
  },
  {
   "cell_type": "markdown",
   "metadata": {},
   "source": [
    "432명의 ICT 그룹 직원이 있음을 확인할 수 있다"
   ]
  },
  {
   "cell_type": "markdown",
   "metadata": {},
   "source": [
    "### 2. 코드 테이블 생성\n",
    "문자열이나 코드로 이루어져 있거나 기타 이유로 사용할 수 없는 데이터가 있다면 제외해준다"
   ]
  },
  {
   "cell_type": "markdown",
   "metadata": {},
   "source": [
    "**점정보**"
   ]
  },
  {
   "cell_type": "code",
   "execution_count": 81,
   "metadata": {},
   "outputs": [],
   "source": [
    "jeom = jikwon_data[['JEOM_NO', 'JEOM_NAME']].drop_duplicates().reset_index(drop=True)"
   ]
  },
  {
   "cell_type": "code",
   "execution_count": 82,
   "metadata": {
    "scrolled": true
   },
   "outputs": [
    {
     "data": {
      "text/html": [
       "<div>\n",
       "<style scoped>\n",
       "    .dataframe tbody tr th:only-of-type {\n",
       "        vertical-align: middle;\n",
       "    }\n",
       "\n",
       "    .dataframe tbody tr th {\n",
       "        vertical-align: top;\n",
       "    }\n",
       "\n",
       "    .dataframe thead th {\n",
       "        text-align: right;\n",
       "    }\n",
       "</style>\n",
       "<table border=\"1\" class=\"dataframe\">\n",
       "  <thead>\n",
       "    <tr style=\"text-align: right;\">\n",
       "      <th></th>\n",
       "      <th>JEOM_NO</th>\n",
       "      <th>JEOM_NAME</th>\n",
       "    </tr>\n",
       "  </thead>\n",
       "  <tbody>\n",
       "    <tr>\n",
       "      <th>0</th>\n",
       "      <td>63</td>\n",
       "      <td>금융개발부</td>\n",
       "    </tr>\n",
       "    <tr>\n",
       "      <th>1</th>\n",
       "      <td>66</td>\n",
       "      <td>기관개발부</td>\n",
       "    </tr>\n",
       "    <tr>\n",
       "      <th>2</th>\n",
       "      <td>62</td>\n",
       "      <td>정보개발부</td>\n",
       "    </tr>\n",
       "    <tr>\n",
       "      <th>3</th>\n",
       "      <td>64</td>\n",
       "      <td>글로벌개발부</td>\n",
       "    </tr>\n",
       "    <tr>\n",
       "      <th>4</th>\n",
       "      <td>69</td>\n",
       "      <td>디지털개발부</td>\n",
       "    </tr>\n",
       "    <tr>\n",
       "      <th>5</th>\n",
       "      <td>507</td>\n",
       "      <td>ICT기획부</td>\n",
       "    </tr>\n",
       "    <tr>\n",
       "      <th>6</th>\n",
       "      <td>61</td>\n",
       "      <td>ICT운영부</td>\n",
       "    </tr>\n",
       "    <tr>\n",
       "      <th>7</th>\n",
       "      <td>507</td>\n",
       "      <td>정보개발부</td>\n",
       "    </tr>\n",
       "  </tbody>\n",
       "</table>\n",
       "</div>"
      ],
      "text/plain": [
       "   JEOM_NO                    JEOM_NAME\n",
       "0       63    금융개발부                    \n",
       "1       66    기관개발부                    \n",
       "2       62    정보개발부                    \n",
       "3       64     글로벌개발부                  \n",
       "4       69     디지털개발부                  \n",
       "5      507  ICT기획부                     \n",
       "6       61  ICT운영부                     \n",
       "7      507    정보개발부                    "
      ]
     },
     "execution_count": 82,
     "metadata": {},
     "output_type": "execute_result"
    }
   ],
   "source": [
    "jeom"
   ]
  },
  {
   "cell_type": "markdown",
   "metadata": {},
   "source": [
    "**직위**"
   ]
  },
  {
   "cell_type": "code",
   "execution_count": 83,
   "metadata": {},
   "outputs": [],
   "source": [
    "jikwhi = jikwon_data[['JIKWHI', 'JIKWHI_NAME']].drop_duplicates().reset_index(drop=True)"
   ]
  },
  {
   "cell_type": "code",
   "execution_count": 84,
   "metadata": {},
   "outputs": [
    {
     "data": {
      "text/html": [
       "<div>\n",
       "<style scoped>\n",
       "    .dataframe tbody tr th:only-of-type {\n",
       "        vertical-align: middle;\n",
       "    }\n",
       "\n",
       "    .dataframe tbody tr th {\n",
       "        vertical-align: top;\n",
       "    }\n",
       "\n",
       "    .dataframe thead th {\n",
       "        text-align: right;\n",
       "    }\n",
       "</style>\n",
       "<table border=\"1\" class=\"dataframe\">\n",
       "  <thead>\n",
       "    <tr style=\"text-align: right;\">\n",
       "      <th></th>\n",
       "      <th>JIKWHI</th>\n",
       "      <th>JIKWHI_NAME</th>\n",
       "    </tr>\n",
       "  </thead>\n",
       "  <tbody>\n",
       "    <tr>\n",
       "      <th>0</th>\n",
       "      <td>20164</td>\n",
       "      <td>대리</td>\n",
       "    </tr>\n",
       "    <tr>\n",
       "      <th>1</th>\n",
       "      <td>20112</td>\n",
       "      <td>차장</td>\n",
       "    </tr>\n",
       "    <tr>\n",
       "      <th>2</th>\n",
       "      <td>20133</td>\n",
       "      <td>부부장</td>\n",
       "    </tr>\n",
       "    <tr>\n",
       "      <th>3</th>\n",
       "      <td>20258</td>\n",
       "      <td>행원</td>\n",
       "    </tr>\n",
       "    <tr>\n",
       "      <th>4</th>\n",
       "      <td>20161</td>\n",
       "      <td>과장</td>\n",
       "    </tr>\n",
       "    <tr>\n",
       "      <th>5</th>\n",
       "      <td>20425</td>\n",
       "      <td>전문계약직원</td>\n",
       "    </tr>\n",
       "    <tr>\n",
       "      <th>6</th>\n",
       "      <td>20456</td>\n",
       "      <td>사무직원</td>\n",
       "    </tr>\n",
       "    <tr>\n",
       "      <th>7</th>\n",
       "      <td>20023</td>\n",
       "      <td>부장</td>\n",
       "    </tr>\n",
       "    <tr>\n",
       "      <th>8</th>\n",
       "      <td>31036</td>\n",
       "      <td>수석</td>\n",
       "    </tr>\n",
       "    <tr>\n",
       "      <th>9</th>\n",
       "      <td>20019</td>\n",
       "      <td>본부장</td>\n",
       "    </tr>\n",
       "    <tr>\n",
       "      <th>10</th>\n",
       "      <td>20399</td>\n",
       "      <td>팀장(부서장대우)</td>\n",
       "    </tr>\n",
       "  </tbody>\n",
       "</table>\n",
       "</div>"
      ],
      "text/plain": [
       "    JIKWHI JIKWHI_NAME\n",
       "0    20164          대리\n",
       "1    20112          차장\n",
       "2    20133         부부장\n",
       "3    20258          행원\n",
       "4    20161          과장\n",
       "5    20425      전문계약직원\n",
       "6    20456        사무직원\n",
       "7    20023          부장\n",
       "8    31036          수석\n",
       "9    20019         본부장\n",
       "10   20399   팀장(부서장대우)"
      ]
     },
     "execution_count": 84,
     "metadata": {},
     "output_type": "execute_result"
    }
   ],
   "source": [
    "jikwhi"
   ]
  },
  {
   "cell_type": "markdown",
   "metadata": {},
   "source": [
    "**직무**"
   ]
  },
  {
   "cell_type": "code",
   "execution_count": 107,
   "metadata": {},
   "outputs": [
    {
     "data": {
      "text/plain": [
       "(67, 2)"
      ]
     },
     "execution_count": 107,
     "metadata": {},
     "output_type": "execute_result"
    }
   ],
   "source": [
    "jkmu = jikwon_data[['JUJKMU_C', 'JUJKMU_NM']].drop_duplicates().reset_index(drop=True)\n",
    "jkmu.shape"
   ]
  },
  {
   "cell_type": "code",
   "execution_count": 110,
   "metadata": {},
   "outputs": [
    {
     "data": {
      "text/plain": [
       "(8, 2)"
      ]
     },
     "execution_count": 110,
     "metadata": {},
     "output_type": "execute_result"
    }
   ],
   "source": [
    "jkmu2 = jikwon_data[['BUJKMU_C', 'BUJKMU_NM']].drop_duplicates().reset_index(drop=True).rename(columns = {'BUJKMU_C': 'JUJKMU_C', 'BUJKMU_NM': 'JUJKMU_NM'}, inplace = False)\n",
    "jkmu2.shape"
   ]
  },
  {
   "cell_type": "code",
   "execution_count": 111,
   "metadata": {},
   "outputs": [],
   "source": [
    "jkmu = pd.concat([jkmu, jkmu2], axis=0).drop_duplicates().reset_index(drop=True)"
   ]
  },
  {
   "cell_type": "code",
   "execution_count": 112,
   "metadata": {
    "scrolled": false
   },
   "outputs": [
    {
     "data": {
      "text/html": [
       "<div>\n",
       "<style scoped>\n",
       "    .dataframe tbody tr th:only-of-type {\n",
       "        vertical-align: middle;\n",
       "    }\n",
       "\n",
       "    .dataframe tbody tr th {\n",
       "        vertical-align: top;\n",
       "    }\n",
       "\n",
       "    .dataframe thead th {\n",
       "        text-align: right;\n",
       "    }\n",
       "</style>\n",
       "<table border=\"1\" class=\"dataframe\">\n",
       "  <thead>\n",
       "    <tr style=\"text-align: right;\">\n",
       "      <th></th>\n",
       "      <th>JUJKMU_C</th>\n",
       "      <th>JUJKMU_NM</th>\n",
       "    </tr>\n",
       "  </thead>\n",
       "  <tbody>\n",
       "    <tr>\n",
       "      <th>0</th>\n",
       "      <td>11609.0</td>\n",
       "      <td>펌/가상</td>\n",
       "    </tr>\n",
       "    <tr>\n",
       "      <th>1</th>\n",
       "      <td>11614.0</td>\n",
       "      <td>시도금고 공금예금</td>\n",
       "    </tr>\n",
       "    <tr>\n",
       "      <th>2</th>\n",
       "      <td>11599.0</td>\n",
       "      <td>자산관리개발</td>\n",
       "    </tr>\n",
       "    <tr>\n",
       "      <th>3</th>\n",
       "      <td>11040.0</td>\n",
       "      <td>글로벌여신개발</td>\n",
       "    </tr>\n",
       "    <tr>\n",
       "      <th>4</th>\n",
       "      <td>11089.0</td>\n",
       "      <td>외환개발</td>\n",
       "    </tr>\n",
       "    <tr>\n",
       "      <th>...</th>\n",
       "      <td>...</td>\n",
       "      <td>...</td>\n",
       "    </tr>\n",
       "    <tr>\n",
       "      <th>63</th>\n",
       "      <td>11218.0</td>\n",
       "      <td>ICT운영부장</td>\n",
       "    </tr>\n",
       "    <tr>\n",
       "      <th>64</th>\n",
       "      <td>10119.0</td>\n",
       "      <td>일반관리</td>\n",
       "    </tr>\n",
       "    <tr>\n",
       "      <th>65</th>\n",
       "      <td>11641.0</td>\n",
       "      <td>ICT감사</td>\n",
       "    </tr>\n",
       "    <tr>\n",
       "      <th>66</th>\n",
       "      <td>10961.0</td>\n",
       "      <td>본부운용지원(기타)</td>\n",
       "    </tr>\n",
       "    <tr>\n",
       "      <th>67</th>\n",
       "      <td>11618.0</td>\n",
       "      <td>공공기관</td>\n",
       "    </tr>\n",
       "  </tbody>\n",
       "</table>\n",
       "<p>68 rows × 2 columns</p>\n",
       "</div>"
      ],
      "text/plain": [
       "    JUJKMU_C   JUJKMU_NM\n",
       "0    11609.0        펌/가상\n",
       "1    11614.0   시도금고 공금예금\n",
       "2    11599.0      자산관리개발\n",
       "3    11040.0     글로벌여신개발\n",
       "4    11089.0        외환개발\n",
       "..       ...         ...\n",
       "63   11218.0     ICT운영부장\n",
       "64   10119.0        일반관리\n",
       "65   11641.0       ICT감사\n",
       "66   10961.0  본부운용지원(기타)\n",
       "67   11618.0        공공기관\n",
       "\n",
       "[68 rows x 2 columns]"
      ]
     },
     "execution_count": 112,
     "metadata": {},
     "output_type": "execute_result"
    }
   ],
   "source": [
    "jkmu"
   ]
  },
  {
   "cell_type": "markdown",
   "metadata": {},
   "source": [
    "### 3. 데이터 선별"
   ]
  },
  {
   "cell_type": "code",
   "execution_count": 113,
   "metadata": {},
   "outputs": [],
   "source": [
    "jikwon_columns = ['JIKWON_NO', 'JEOM_NO', 'JIKGUN', 'JIKGEUB', 'JIKWHI', 'JIKWHI2', 'JUJKMU_C',\n",
    "                  'JUJKMU_RATE', 'BUJKMU_C', 'BUJKMU_RATE', 'JUMJANG_G', 'HOBONG', 'BUIM_ILJA']"
   ]
  },
  {
   "cell_type": "code",
   "execution_count": 125,
   "metadata": {},
   "outputs": [],
   "source": [
    "jikwon_data = jikwon_data[jikwon_columns].reset_index()"
   ]
  },
  {
   "cell_type": "markdown",
   "metadata": {},
   "source": [
    "### 4. 최종"
   ]
  },
  {
   "cell_type": "code",
   "execution_count": 136,
   "metadata": {},
   "outputs": [
    {
     "data": {
      "text/html": [
       "<div>\n",
       "<style scoped>\n",
       "    .dataframe tbody tr th:only-of-type {\n",
       "        vertical-align: middle;\n",
       "    }\n",
       "\n",
       "    .dataframe tbody tr th {\n",
       "        vertical-align: top;\n",
       "    }\n",
       "\n",
       "    .dataframe thead th {\n",
       "        text-align: right;\n",
       "    }\n",
       "</style>\n",
       "<table border=\"1\" class=\"dataframe\">\n",
       "  <thead>\n",
       "    <tr style=\"text-align: right;\">\n",
       "      <th></th>\n",
       "      <th>index</th>\n",
       "      <th>JIKWON_NO</th>\n",
       "      <th>JEOM_NO</th>\n",
       "      <th>JIKGUN</th>\n",
       "      <th>JIKGEUB</th>\n",
       "      <th>JIKWHI</th>\n",
       "      <th>JIKWHI2</th>\n",
       "      <th>JUJKMU_C</th>\n",
       "      <th>JUJKMU_RATE</th>\n",
       "      <th>BUJKMU_C</th>\n",
       "      <th>BUJKMU_RATE</th>\n",
       "      <th>JUMJANG_G</th>\n",
       "      <th>HOBONG</th>\n",
       "      <th>BUIM_ILJA</th>\n",
       "    </tr>\n",
       "  </thead>\n",
       "  <tbody>\n",
       "    <tr>\n",
       "      <th>0</th>\n",
       "      <td>5</td>\n",
       "      <td>20101491</td>\n",
       "      <td>63</td>\n",
       "      <td>20004</td>\n",
       "      <td>5</td>\n",
       "      <td>20164</td>\n",
       "      <td>3</td>\n",
       "      <td>11609.0</td>\n",
       "      <td>100.0</td>\n",
       "      <td>NaN</td>\n",
       "      <td>0.0</td>\n",
       "      <td>0</td>\n",
       "      <td>43440</td>\n",
       "      <td>20210201</td>\n",
       "    </tr>\n",
       "    <tr>\n",
       "      <th>1</th>\n",
       "      <td>34</td>\n",
       "      <td>7101368</td>\n",
       "      <td>66</td>\n",
       "      <td>20004</td>\n",
       "      <td>4</td>\n",
       "      <td>20112</td>\n",
       "      <td>2</td>\n",
       "      <td>11614.0</td>\n",
       "      <td>100.0</td>\n",
       "      <td>NaN</td>\n",
       "      <td>0.0</td>\n",
       "      <td>0</td>\n",
       "      <td>26530</td>\n",
       "      <td>20180619</td>\n",
       "    </tr>\n",
       "    <tr>\n",
       "      <th>...</th>\n",
       "      <td>...</td>\n",
       "      <td>...</td>\n",
       "      <td>...</td>\n",
       "      <td>...</td>\n",
       "      <td>...</td>\n",
       "      <td>...</td>\n",
       "      <td>...</td>\n",
       "      <td>...</td>\n",
       "      <td>...</td>\n",
       "      <td>...</td>\n",
       "      <td>...</td>\n",
       "      <td>...</td>\n",
       "      <td>...</td>\n",
       "      <td>...</td>\n",
       "    </tr>\n",
       "    <tr>\n",
       "      <th>430</th>\n",
       "      <td>13902</td>\n",
       "      <td>10618082</td>\n",
       "      <td>61</td>\n",
       "      <td>40002</td>\n",
       "      <td>99999</td>\n",
       "      <td>20456</td>\n",
       "      <td>9</td>\n",
       "      <td>10961.0</td>\n",
       "      <td>100.0</td>\n",
       "      <td>NaN</td>\n",
       "      <td>0.0</td>\n",
       "      <td>0</td>\n",
       "      <td>99998</td>\n",
       "      <td>20200203</td>\n",
       "    </tr>\n",
       "    <tr>\n",
       "      <th>431</th>\n",
       "      <td>13945</td>\n",
       "      <td>18101798</td>\n",
       "      <td>63</td>\n",
       "      <td>20004</td>\n",
       "      <td>5</td>\n",
       "      <td>20258</td>\n",
       "      <td>3</td>\n",
       "      <td>11029.0</td>\n",
       "      <td>100.0</td>\n",
       "      <td>NaN</td>\n",
       "      <td>0.0</td>\n",
       "      <td>0</td>\n",
       "      <td>45405</td>\n",
       "      <td>20180907</td>\n",
       "    </tr>\n",
       "  </tbody>\n",
       "</table>\n",
       "<p>432 rows × 14 columns</p>\n",
       "</div>"
      ],
      "text/plain": [
       "     index  JIKWON_NO  JEOM_NO  JIKGUN  JIKGEUB  JIKWHI  JIKWHI2  JUJKMU_C  \\\n",
       "0        5   20101491       63   20004        5   20164        3   11609.0   \n",
       "1       34    7101368       66   20004        4   20112        2   11614.0   \n",
       "..     ...        ...      ...     ...      ...     ...      ...       ...   \n",
       "430  13902   10618082       61   40002    99999   20456        9   10961.0   \n",
       "431  13945   18101798       63   20004        5   20258        3   11029.0   \n",
       "\n",
       "     JUJKMU_RATE  BUJKMU_C  BUJKMU_RATE  JUMJANG_G  HOBONG  BUIM_ILJA  \n",
       "0          100.0       NaN          0.0          0   43440   20210201  \n",
       "1          100.0       NaN          0.0          0   26530   20180619  \n",
       "..           ...       ...          ...        ...     ...        ...  \n",
       "430        100.0       NaN          0.0          0   99998   20200203  \n",
       "431        100.0       NaN          0.0          0   45405   20180907  \n",
       "\n",
       "[432 rows x 14 columns]"
      ]
     },
     "metadata": {},
     "output_type": "display_data"
    }
   ],
   "source": [
    "display(jikwon_data)"
   ]
  },
  {
   "cell_type": "markdown",
   "metadata": {},
   "source": [
    "# Data Overview & Preprocessing _ Program"
   ]
  },
  {
   "cell_type": "code",
   "execution_count": 46,
   "metadata": {},
   "outputs": [
    {
     "data": {
      "text/html": [
       "<div>\n",
       "<style scoped>\n",
       "    .dataframe tbody tr th:only-of-type {\n",
       "        vertical-align: middle;\n",
       "    }\n",
       "\n",
       "    .dataframe tbody tr th {\n",
       "        vertical-align: top;\n",
       "    }\n",
       "\n",
       "    .dataframe thead th {\n",
       "        text-align: right;\n",
       "    }\n",
       "</style>\n",
       "<table border=\"1\" class=\"dataframe\">\n",
       "  <thead>\n",
       "    <tr style=\"text-align: right;\">\n",
       "      <th></th>\n",
       "      <th>COL01</th>\n",
       "      <th>COL02</th>\n",
       "      <th>COL03</th>\n",
       "      <th>COL04</th>\n",
       "      <th>COL05</th>\n",
       "      <th>COL06</th>\n",
       "      <th>COL07</th>\n",
       "      <th>COL08</th>\n",
       "      <th>COL09</th>\n",
       "      <th>COL10</th>\n",
       "      <th>COL11</th>\n",
       "      <th>COL12</th>\n",
       "      <th>COL13</th>\n",
       "      <th>COL14</th>\n",
       "      <th>COL15</th>\n",
       "      <th>dw_lst_jukja_dt</th>\n",
       "    </tr>\n",
       "  </thead>\n",
       "  <tbody>\n",
       "    <tr>\n",
       "      <th>0</th>\n",
       "      <td>코어</td>\n",
       "      <td>수신</td>\n",
       "      <td>수신 공통</td>\n",
       "      <td>채널매핑룰</td>\n",
       "      <td>A0_0003200002_SSDM0320A001_I</td>\n",
       "      <td>이창건</td>\n",
       "      <td>BK08101329</td>\n",
       "      <td>P2020-15765-01</td>\n",
       "      <td>20201228</td>\n",
       "      <td>수정</td>\n",
       "      <td>2020-04-059662</td>\n",
       "      <td>/webdev/chl1/CHLDownload/trans/mappingrule</td>\n",
       "      <td>코어</td>\n",
       "      <td>6</td>\n",
       "      <td>0</td>\n",
       "      <td>20210407</td>\n",
       "    </tr>\n",
       "    <tr>\n",
       "      <th>1</th>\n",
       "      <td>프로프레임4.0</td>\n",
       "      <td>JPK-일본ROC</td>\n",
       "      <td>글로벌여신</td>\n",
       "      <td>프로프레임소스(.c)</td>\n",
       "      <td>sgle9999a.c</td>\n",
       "      <td>박창언</td>\n",
       "      <td>BK10101011</td>\n",
       "      <td>P2020-09188-02</td>\n",
       "      <td>20200818</td>\n",
       "      <td>신규</td>\n",
       "      <td>2020-04-042659</td>\n",
       "      <td>/jpsdev/gln/src</td>\n",
       "      <td>DS_글로벌뱅킹3</td>\n",
       "      <td>1</td>\n",
       "      <td>695</td>\n",
       "      <td>20210407</td>\n",
       "    </tr>\n",
       "    <tr>\n",
       "      <th>...</th>\n",
       "      <td>...</td>\n",
       "      <td>...</td>\n",
       "      <td>...</td>\n",
       "      <td>...</td>\n",
       "      <td>...</td>\n",
       "      <td>...</td>\n",
       "      <td>...</td>\n",
       "      <td>...</td>\n",
       "      <td>...</td>\n",
       "      <td>...</td>\n",
       "      <td>...</td>\n",
       "      <td>...</td>\n",
       "      <td>...</td>\n",
       "      <td>...</td>\n",
       "      <td>...</td>\n",
       "      <td>...</td>\n",
       "    </tr>\n",
       "    <tr>\n",
       "      <th>319996</th>\n",
       "      <td>프로프레임4.0</td>\n",
       "      <td>TSM-신신탁</td>\n",
       "      <td>신탁펀드등록</td>\n",
       "      <td>HTML5_xml</td>\n",
       "      <td>284016P002.xml</td>\n",
       "      <td>이세연</td>\n",
       "      <td>BK19100736</td>\n",
       "      <td>P2018-7039-01</td>\n",
       "      <td>20200109</td>\n",
       "      <td>수정</td>\n",
       "      <td>2020-04-002825</td>\n",
       "      <td>/src/tpm/tfr/screen/popup</td>\n",
       "      <td>신탁</td>\n",
       "      <td>3</td>\n",
       "      <td>4</td>\n",
       "      <td>20210407</td>\n",
       "    </tr>\n",
       "    <tr>\n",
       "      <th>319997</th>\n",
       "      <td>단위</td>\n",
       "      <td>(U2L)단위-통합CRM</td>\n",
       "      <td>단위-통합CRM</td>\n",
       "      <td>FLEX(/src 파일)</td>\n",
       "      <td>F358135P000.mxml</td>\n",
       "      <td>신현국</td>\n",
       "      <td>BK06142869</td>\n",
       "      <td>P2020-03458-01</td>\n",
       "      <td>20200717</td>\n",
       "      <td>신규</td>\n",
       "      <td>2020-04-SCM731</td>\n",
       "      <td>/flexdev/src/ocs/ucs/screen/component/popup</td>\n",
       "      <td>ICTRM</td>\n",
       "      <td>1</td>\n",
       "      <td>326</td>\n",
       "      <td>20210407</td>\n",
       "    </tr>\n",
       "  </tbody>\n",
       "</table>\n",
       "<p>319998 rows × 16 columns</p>\n",
       "</div>"
      ],
      "text/plain": [
       "           COL01          COL02     COL03          COL04  \\\n",
       "0             코어             수신     수신 공통          채널매핑룰   \n",
       "1       프로프레임4.0      JPK-일본ROC     글로벌여신    프로프레임소스(.c)   \n",
       "...          ...            ...       ...            ...   \n",
       "319996  프로프레임4.0        TSM-신신탁    신탁펀드등록      HTML5_xml   \n",
       "319997        단위  (U2L)단위-통합CRM  단위-통합CRM  FLEX(/src 파일)   \n",
       "\n",
       "                               COL05 COL06       COL07           COL08  \\\n",
       "0       A0_0003200002_SSDM0320A001_I   이창건  BK08101329  P2020-15765-01   \n",
       "1                        sgle9999a.c   박창언  BK10101011  P2020-09188-02   \n",
       "...                              ...   ...         ...             ...   \n",
       "319996                284016P002.xml   이세연  BK19100736   P2018-7039-01   \n",
       "319997              F358135P000.mxml   신현국  BK06142869  P2020-03458-01   \n",
       "\n",
       "           COL09 COL10           COL11  \\\n",
       "0       20201228    수정  2020-04-059662   \n",
       "1       20200818    신규  2020-04-042659   \n",
       "...          ...   ...             ...   \n",
       "319996  20200109    수정  2020-04-002825   \n",
       "319997  20200717    신규  2020-04-SCM731   \n",
       "\n",
       "                                              COL12      COL13  COL14  COL15  \\\n",
       "0        /webdev/chl1/CHLDownload/trans/mappingrule         코어      6      0   \n",
       "1                                   /jpsdev/gln/src  DS_글로벌뱅킹3      1    695   \n",
       "...                                             ...        ...    ...    ...   \n",
       "319996                    /src/tpm/tfr/screen/popup         신탁      3      4   \n",
       "319997  /flexdev/src/ocs/ucs/screen/component/popup      ICTRM      1    326   \n",
       "\n",
       "        dw_lst_jukja_dt  \n",
       "0              20210407  \n",
       "1              20210407  \n",
       "...                 ...  \n",
       "319996         20210407  \n",
       "319997         20210407  \n",
       "\n",
       "[319998 rows x 16 columns]"
      ]
     },
     "metadata": {},
     "output_type": "display_data"
    }
   ],
   "source": [
    "display(program_change_1)"
   ]
  },
  {
   "cell_type": "markdown",
   "metadata": {},
   "source": [
    "### 1. Combine Program Data\n",
    "\n",
    "데이터 조인에 앞서 프로그램 변경이력의 경우 2개의 dataframe으로 나뉘어져 있기 때문에 이를 합치도록 한다"
   ]
  },
  {
   "cell_type": "code",
   "execution_count": 117,
   "metadata": {},
   "outputs": [],
   "source": [
    "program = pd.concat([program_change_1, program_change_2], axis=0)"
   ]
  },
  {
   "cell_type": "code",
   "execution_count": 118,
   "metadata": {
    "scrolled": true
   },
   "outputs": [
    {
     "name": "stdout",
     "output_type": "stream",
     "text": [
      "(319998, 16)\n",
      "(318125, 16)\n",
      "(638123, 16)\n"
     ]
    }
   ],
   "source": [
    "print(program_change_1.shape)\n",
    "print(program_change_2.shape)\n",
    "print(program.shape)"
   ]
  },
  {
   "cell_type": "markdown",
   "metadata": {},
   "source": [
    "### 2. 데이터 선별"
   ]
  },
  {
   "cell_type": "code",
   "execution_count": 120,
   "metadata": {},
   "outputs": [],
   "source": [
    "program_columns = ['COL01', 'COL02', 'COL03', 'COL04', 'COL05', 'COL07', 'COL08', 'COL09', 'COL10',\n",
    "                   'COL11', 'COL12', 'COL14', 'COL15']"
   ]
  },
  {
   "cell_type": "code",
   "execution_count": 121,
   "metadata": {},
   "outputs": [],
   "source": [
    "program_data = program[program_columns]"
   ]
  },
  {
   "cell_type": "markdown",
   "metadata": {},
   "source": [
    "### 3. 행번 전처리\n",
    "직원 데이터의 직원번호는 **int형**인 반면, 프로그램 데이터의 직원번호는 'BK' + 행번 형태의 **object형**임을 확인할 수 있다"
   ]
  },
  {
   "cell_type": "code",
   "execution_count": 126,
   "metadata": {},
   "outputs": [
    {
     "data": {
      "text/plain": [
       "0      20101491\n",
       "1       7101368\n",
       "2       6226493\n",
       "3       6145272\n",
       "4      20100248\n",
       "         ...   \n",
       "427     6220886\n",
       "428     6154654\n",
       "429     6224598\n",
       "430    10618082\n",
       "431    18101798\n",
       "Name: JIKWON_NO, Length: 432, dtype: int64"
      ]
     },
     "execution_count": 126,
     "metadata": {},
     "output_type": "execute_result"
    }
   ],
   "source": [
    "jikwon_data['JIKWON_NO']"
   ]
  },
  {
   "cell_type": "code",
   "execution_count": 123,
   "metadata": {
    "scrolled": true
   },
   "outputs": [
    {
     "data": {
      "text/plain": [
       "0         BK08101329\n",
       "1         BK10101011\n",
       "2         BK15061008\n",
       "3         BK17092004\n",
       "4         BK18100783\n",
       "             ...    \n",
       "318120    BK15112004\n",
       "318121    BK20100167\n",
       "318122    BK06226973\n",
       "318123    BK20200821\n",
       "318124    BK16111008\n",
       "Name: COL07, Length: 638123, dtype: object"
      ]
     },
     "execution_count": 123,
     "metadata": {},
     "output_type": "execute_result"
    }
   ],
   "source": [
    "program_data['COL07']"
   ]
  },
  {
   "cell_type": "markdown",
   "metadata": {},
   "source": [
    "프로그램 데이터의 직원번호를 직원데이터와 형태가 일치하도록 수정한다\n",
    "\n",
    "그 전에, 모든 직원번호가 **BK + 행번** 형태인지 확인하자"
   ]
  },
  {
   "cell_type": "code",
   "execution_count": 127,
   "metadata": {
    "scrolled": true
   },
   "outputs": [
    {
     "data": {
      "text/plain": [
       "619        SGO001348\n",
       "716        SGO001338\n",
       "968        SGO001338\n",
       "1419      SGO1000511\n",
       "3234       SGO001354\n",
       "             ...    \n",
       "316002     SGO001332\n",
       "316142    SGO1000615\n",
       "316540     SGO001347\n",
       "317327     SGO001348\n",
       "317900     SGO001354\n",
       "Name: COL07, Length: 1107, dtype: object"
      ]
     },
     "execution_count": 127,
     "metadata": {},
     "output_type": "execute_result"
    }
   ],
   "source": [
    "program_data[program_data['COL07'].str[:2] != 'BK'].COL07"
   ]
  },
  {
   "cell_type": "markdown",
   "metadata": {},
   "source": [
    "이렇듯, BK로 시작하지 않는, 다시 말해 당행 직원이 아닌 데이터가 있다\n",
    "\n",
    "해당 데이터는 현재 단계에서 필요하지 않기 때문에 제외하도록 한다"
   ]
  },
  {
   "cell_type": "code",
   "execution_count": 128,
   "metadata": {},
   "outputs": [
    {
     "name": "stdout",
     "output_type": "stream",
     "text": [
      "(638123, 13)->(637016, 13)\n"
     ]
    }
   ],
   "source": [
    "print(program_data.shape, end=\"->\")\n",
    "program_data = program_data[program_data['COL07'].str[:2] == 'BK']\n",
    "print(program_data.shape)"
   ]
  },
  {
   "cell_type": "markdown",
   "metadata": {},
   "source": [
    "이제 다시 직원데이터와 형태가 일치하도록 변경한다"
   ]
  },
  {
   "cell_type": "code",
   "execution_count": 129,
   "metadata": {},
   "outputs": [],
   "source": [
    "program_data['COL07'] = program_data['COL07'].str[2:].astype(int)"
   ]
  },
  {
   "cell_type": "markdown",
   "metadata": {},
   "source": [
    "### 3. Rename columns\n",
    "Program 데이터의 경우 컬럼명이 실제 컬럼값을 대변하지 않는 것을 확인할 수 있는데, 컬럼값을 보면서 컬럼을 유추해야한다"
   ]
  },
  {
   "cell_type": "code",
   "execution_count": 131,
   "metadata": {},
   "outputs": [],
   "source": [
    "rename_columns = {'COL01': '시스템구분', 'COL04': '프로그램종류', 'COL05': '프로그램명', 'COL07': '변경자',\n",
    "                  'COL08': '프로젝트번호', 'COL09': '변경일자', 'COL10': '변경구분', 'COL11': '신청번호', 'COL12': '경로'}"
   ]
  },
  {
   "cell_type": "code",
   "execution_count": 132,
   "metadata": {},
   "outputs": [],
   "source": [
    "program_data = program_data.rename(columns = rename_columns, inplace = False)"
   ]
  },
  {
   "cell_type": "markdown",
   "metadata": {},
   "source": [
    "### 3."
   ]
  },
  {
   "cell_type": "code",
   "execution_count": null,
   "metadata": {},
   "outputs": [],
   "source": [
    "program_data[['시스템구분', 'COL02', 'COL03']].drop_duplicates().reset_index(drop=True)"
   ]
  },
  {
   "cell_type": "code",
   "execution_count": null,
   "metadata": {},
   "outputs": [],
   "source": []
  },
  {
   "cell_type": "markdown",
   "metadata": {},
   "source": [
    "### 최종"
   ]
  },
  {
   "cell_type": "code",
   "execution_count": 139,
   "metadata": {},
   "outputs": [
    {
     "data": {
      "text/html": [
       "<div>\n",
       "<style scoped>\n",
       "    .dataframe tbody tr th:only-of-type {\n",
       "        vertical-align: middle;\n",
       "    }\n",
       "\n",
       "    .dataframe tbody tr th {\n",
       "        vertical-align: top;\n",
       "    }\n",
       "\n",
       "    .dataframe thead th {\n",
       "        text-align: right;\n",
       "    }\n",
       "</style>\n",
       "<table border=\"1\" class=\"dataframe\">\n",
       "  <thead>\n",
       "    <tr style=\"text-align: right;\">\n",
       "      <th></th>\n",
       "      <th>시스템구분</th>\n",
       "      <th>COL02</th>\n",
       "      <th>COL03</th>\n",
       "      <th>프로그램종류</th>\n",
       "      <th>프로그램명</th>\n",
       "      <th>변경자</th>\n",
       "      <th>프로젝트번호</th>\n",
       "      <th>변경일자</th>\n",
       "      <th>변경구분</th>\n",
       "      <th>신청번호</th>\n",
       "      <th>경로</th>\n",
       "      <th>COL14</th>\n",
       "      <th>COL15</th>\n",
       "    </tr>\n",
       "  </thead>\n",
       "  <tbody>\n",
       "    <tr>\n",
       "      <th>0</th>\n",
       "      <td>코어</td>\n",
       "      <td>수신</td>\n",
       "      <td>수신 공통</td>\n",
       "      <td>채널매핑룰</td>\n",
       "      <td>A0_0003200002_SSDM0320A001_I</td>\n",
       "      <td>8101329</td>\n",
       "      <td>P2020-15765-01</td>\n",
       "      <td>20201228</td>\n",
       "      <td>수정</td>\n",
       "      <td>2020-04-059662</td>\n",
       "      <td>/webdev/chl1/CHLDownload/trans/mappingrule</td>\n",
       "      <td>6</td>\n",
       "      <td>0</td>\n",
       "    </tr>\n",
       "    <tr>\n",
       "      <th>1</th>\n",
       "      <td>프로프레임4.0</td>\n",
       "      <td>JPK-일본ROC</td>\n",
       "      <td>글로벌여신</td>\n",
       "      <td>프로프레임소스(.c)</td>\n",
       "      <td>sgle9999a.c</td>\n",
       "      <td>10101011</td>\n",
       "      <td>P2020-09188-02</td>\n",
       "      <td>20200818</td>\n",
       "      <td>신규</td>\n",
       "      <td>2020-04-042659</td>\n",
       "      <td>/jpsdev/gln/src</td>\n",
       "      <td>1</td>\n",
       "      <td>695</td>\n",
       "    </tr>\n",
       "    <tr>\n",
       "      <th>2</th>\n",
       "      <td>단위</td>\n",
       "      <td>단위(신)_BPR(AP)</td>\n",
       "      <td>BPR수신</td>\n",
       "      <td>ONL_OMM</td>\n",
       "      <td>SBDP2305F702InDto.omm</td>\n",
       "      <td>15061008</td>\n",
       "      <td>P2020-08091-01</td>\n",
       "      <td>20200821</td>\n",
       "      <td>수정</td>\n",
       "      <td>2020-04-043394</td>\n",
       "      <td>/BprNbpBdp/src/bpr/nbp/bdp/service/dto</td>\n",
       "      <td>3</td>\n",
       "      <td>1</td>\n",
       "    </tr>\n",
       "    <tr>\n",
       "      <th>3</th>\n",
       "      <td>웹컨텐츠</td>\n",
       "      <td>문서중앙화시스템(Sdrive)</td>\n",
       "      <td>문서중앙화시스템(Sdrive)</td>\n",
       "      <td>Image</td>\n",
       "      <td>btn_submit_del.gif</td>\n",
       "      <td>17092004</td>\n",
       "      <td>P2020-09726-01</td>\n",
       "      <td>20210401</td>\n",
       "      <td>신규</td>\n",
       "      <td>2021-04-011705</td>\n",
       "      <td>/skin/blue_en/images/content-page/button</td>\n",
       "      <td>1</td>\n",
       "      <td>0</td>\n",
       "    </tr>\n",
       "    <tr>\n",
       "      <th>4</th>\n",
       "      <td>프로프레임4.0</td>\n",
       "      <td>JBS-(신)일본ROC</td>\n",
       "      <td>글로벌공통</td>\n",
       "      <td>프로프레임소스(.c)</td>\n",
       "      <td>pfmDbiogif_trx_mas_s002.pc</td>\n",
       "      <td>18100783</td>\n",
       "      <td>P2020-05278-01</td>\n",
       "      <td>20200427</td>\n",
       "      <td>수정</td>\n",
       "      <td>2020-04-026378</td>\n",
       "      <td>/jpsdev/dbio/src</td>\n",
       "      <td>2</td>\n",
       "      <td>0</td>\n",
       "    </tr>\n",
       "    <tr>\n",
       "      <th>...</th>\n",
       "      <td>...</td>\n",
       "      <td>...</td>\n",
       "      <td>...</td>\n",
       "      <td>...</td>\n",
       "      <td>...</td>\n",
       "      <td>...</td>\n",
       "      <td>...</td>\n",
       "      <td>...</td>\n",
       "      <td>...</td>\n",
       "      <td>...</td>\n",
       "      <td>...</td>\n",
       "      <td>...</td>\n",
       "      <td>...</td>\n",
       "    </tr>\n",
       "    <tr>\n",
       "      <th>318120</th>\n",
       "      <td>코어</td>\n",
       "      <td>(U2L) 단위-CCRM</td>\n",
       "      <td>사후관리</td>\n",
       "      <td>채널화면_MAP</td>\n",
       "      <td>0226350000.MAP</td>\n",
       "      <td>15112004</td>\n",
       "      <td>P2020-08975-01</td>\n",
       "      <td>20200828</td>\n",
       "      <td>수정</td>\n",
       "      <td>2020-04-044195</td>\n",
       "      <td>/webdev/chl1/CHLDownload/iWorks/DOWNLOAD/res/b...</td>\n",
       "      <td>3</td>\n",
       "      <td>3</td>\n",
       "    </tr>\n",
       "    <tr>\n",
       "      <th>318121</th>\n",
       "      <td>프로프레임4.0</td>\n",
       "      <td>VBS-(신)베트남ROC</td>\n",
       "      <td>글로벌공통</td>\n",
       "      <td>프로프레임소스(.c)</td>\n",
       "      <td>mgcbbizmntr.c</td>\n",
       "      <td>20100167</td>\n",
       "      <td>P2020-08550-01</td>\n",
       "      <td>20201123</td>\n",
       "      <td>신규</td>\n",
       "      <td>2020-04-054523</td>\n",
       "      <td>/vbsdev/gcm/src</td>\n",
       "      <td>1</td>\n",
       "      <td>559</td>\n",
       "    </tr>\n",
       "    <tr>\n",
       "      <th>318122</th>\n",
       "      <td>단위</td>\n",
       "      <td>(U2L)단위-통합CRM</td>\n",
       "      <td>단위-통합CRM</td>\n",
       "      <td>HTML5_xml</td>\n",
       "      <td>351201W100.xml</td>\n",
       "      <td>6226973</td>\n",
       "      <td>P2021-02618-01</td>\n",
       "      <td>20210330</td>\n",
       "      <td>수정</td>\n",
       "      <td>2021-04-010927</td>\n",
       "      <td>/src/ocs/ucs/screen/component/view</td>\n",
       "      <td>3</td>\n",
       "      <td>74</td>\n",
       "    </tr>\n",
       "    <tr>\n",
       "      <th>318123</th>\n",
       "      <td>프로프레임4.0</td>\n",
       "      <td>CAS-캐나다ROC</td>\n",
       "      <td>글로벌공통</td>\n",
       "      <td>FLEX(/src 파일)</td>\n",
       "      <td>F429675A000as.as</td>\n",
       "      <td>20200821</td>\n",
       "      <td>P2020-13019-01</td>\n",
       "      <td>20201214</td>\n",
       "      <td>수정</td>\n",
       "      <td>2020-04-057678</td>\n",
       "      <td>/flexdev/src/cas/gcm/screen</td>\n",
       "      <td>3</td>\n",
       "      <td>165</td>\n",
       "    </tr>\n",
       "    <tr>\n",
       "      <th>318124</th>\n",
       "      <td>웹컨텐츠</td>\n",
       "      <td>sharedPlatform2018</td>\n",
       "      <td>sharedPlatform2018</td>\n",
       "      <td>웹_JSP</td>\n",
       "      <td>NPIVST05020101_pilot.jsp</td>\n",
       "      <td>16111008</td>\n",
       "      <td>P2020-0818-01</td>\n",
       "      <td>20200204</td>\n",
       "      <td>신규</td>\n",
       "      <td>2020-04-008829</td>\n",
       "      <td>/sharedPlatform2018/newPension/common/main</td>\n",
       "      <td>1</td>\n",
       "      <td>286</td>\n",
       "    </tr>\n",
       "  </tbody>\n",
       "</table>\n",
       "<p>637016 rows × 13 columns</p>\n",
       "</div>"
      ],
      "text/plain": [
       "           시스템구분               COL02               COL03         프로그램종류  \\\n",
       "0             코어                  수신               수신 공통          채널매핑룰   \n",
       "1       프로프레임4.0           JPK-일본ROC               글로벌여신    프로프레임소스(.c)   \n",
       "2             단위       단위(신)_BPR(AP)               BPR수신        ONL_OMM   \n",
       "3           웹컨텐츠    문서중앙화시스템(Sdrive)    문서중앙화시스템(Sdrive)          Image   \n",
       "4       프로프레임4.0        JBS-(신)일본ROC               글로벌공통    프로프레임소스(.c)   \n",
       "...          ...                 ...                 ...            ...   \n",
       "318120        코어       (U2L) 단위-CCRM                사후관리       채널화면_MAP   \n",
       "318121  프로프레임4.0       VBS-(신)베트남ROC               글로벌공통    프로프레임소스(.c)   \n",
       "318122        단위       (U2L)단위-통합CRM            단위-통합CRM      HTML5_xml   \n",
       "318123  프로프레임4.0          CAS-캐나다ROC               글로벌공통  FLEX(/src 파일)   \n",
       "318124      웹컨텐츠  sharedPlatform2018  sharedPlatform2018          웹_JSP   \n",
       "\n",
       "                               프로그램명       변경자          프로젝트번호      변경일자 변경구분  \\\n",
       "0       A0_0003200002_SSDM0320A001_I   8101329  P2020-15765-01  20201228   수정   \n",
       "1                        sgle9999a.c  10101011  P2020-09188-02  20200818   신규   \n",
       "2              SBDP2305F702InDto.omm  15061008  P2020-08091-01  20200821   수정   \n",
       "3                 btn_submit_del.gif  17092004  P2020-09726-01  20210401   신규   \n",
       "4         pfmDbiogif_trx_mas_s002.pc  18100783  P2020-05278-01  20200427   수정   \n",
       "...                              ...       ...             ...       ...  ...   \n",
       "318120                0226350000.MAP  15112004  P2020-08975-01  20200828   수정   \n",
       "318121                 mgcbbizmntr.c  20100167  P2020-08550-01  20201123   신규   \n",
       "318122                351201W100.xml   6226973  P2021-02618-01  20210330   수정   \n",
       "318123              F429675A000as.as  20200821  P2020-13019-01  20201214   수정   \n",
       "318124      NPIVST05020101_pilot.jsp  16111008   P2020-0818-01  20200204   신규   \n",
       "\n",
       "                  신청번호                                                 경로  \\\n",
       "0       2020-04-059662         /webdev/chl1/CHLDownload/trans/mappingrule   \n",
       "1       2020-04-042659                                    /jpsdev/gln/src   \n",
       "2       2020-04-043394             /BprNbpBdp/src/bpr/nbp/bdp/service/dto   \n",
       "3       2021-04-011705           /skin/blue_en/images/content-page/button   \n",
       "4       2020-04-026378                                   /jpsdev/dbio/src   \n",
       "...                ...                                                ...   \n",
       "318120  2020-04-044195  /webdev/chl1/CHLDownload/iWorks/DOWNLOAD/res/b...   \n",
       "318121  2020-04-054523                                    /vbsdev/gcm/src   \n",
       "318122  2021-04-010927                 /src/ocs/ucs/screen/component/view   \n",
       "318123  2020-04-057678                        /flexdev/src/cas/gcm/screen   \n",
       "318124  2020-04-008829         /sharedPlatform2018/newPension/common/main   \n",
       "\n",
       "        COL14  COL15  \n",
       "0           6      0  \n",
       "1           1    695  \n",
       "2           3      1  \n",
       "3           1      0  \n",
       "4           2      0  \n",
       "...       ...    ...  \n",
       "318120      3      3  \n",
       "318121      1    559  \n",
       "318122      3     74  \n",
       "318123      3    165  \n",
       "318124      1    286  \n",
       "\n",
       "[637016 rows x 13 columns]"
      ]
     },
     "metadata": {},
     "output_type": "display_data"
    }
   ],
   "source": [
    "display(program_data)"
   ]
  },
  {
   "cell_type": "markdown",
   "metadata": {},
   "source": [
    "---\n",
    "# Data Overview & Preprocessing _ Project"
   ]
  },
  {
   "cell_type": "code",
   "execution_count": 145,
   "metadata": {},
   "outputs": [
    {
     "data": {
      "text/html": [
       "<div>\n",
       "<style scoped>\n",
       "    .dataframe tbody tr th:only-of-type {\n",
       "        vertical-align: middle;\n",
       "    }\n",
       "\n",
       "    .dataframe tbody tr th {\n",
       "        vertical-align: top;\n",
       "    }\n",
       "\n",
       "    .dataframe thead th {\n",
       "        text-align: right;\n",
       "    }\n",
       "</style>\n",
       "<table border=\"1\" class=\"dataframe\">\n",
       "  <thead>\n",
       "    <tr style=\"text-align: right;\">\n",
       "      <th></th>\n",
       "      <th>프로젝트번호</th>\n",
       "      <th>행번</th>\n",
       "      <th>성명</th>\n",
       "      <th>부서명</th>\n",
       "      <th>팀명</th>\n",
       "      <th>직위</th>\n",
       "      <th>직급</th>\n",
       "      <th>역할</th>\n",
       "      <th>계획공수</th>\n",
       "      <th>실제공수</th>\n",
       "    </tr>\n",
       "  </thead>\n",
       "  <tbody>\n",
       "    <tr>\n",
       "      <th>0</th>\n",
       "      <td>P2018-1020-01</td>\n",
       "      <td>16031001</td>\n",
       "      <td>김현주</td>\n",
       "      <td>글로벌개발부</td>\n",
       "      <td>DS_글로벌뱅킹1</td>\n",
       "      <td>S부부장</td>\n",
       "      <td>기타</td>\n",
       "      <td>PM</td>\n",
       "      <td>1829</td>\n",
       "      <td>2577.0</td>\n",
       "    </tr>\n",
       "    <tr>\n",
       "      <th>1</th>\n",
       "      <td>P2018-1020-01</td>\n",
       "      <td>06172202</td>\n",
       "      <td>손현수</td>\n",
       "      <td>금융개발부</td>\n",
       "      <td>IB</td>\n",
       "      <td>수석</td>\n",
       "      <td>Ma</td>\n",
       "      <td>개발자</td>\n",
       "      <td>1</td>\n",
       "      <td>1.0</td>\n",
       "    </tr>\n",
       "    <tr>\n",
       "      <th>...</th>\n",
       "      <td>...</td>\n",
       "      <td>...</td>\n",
       "      <td>...</td>\n",
       "      <td>...</td>\n",
       "      <td>...</td>\n",
       "      <td>...</td>\n",
       "      <td>...</td>\n",
       "      <td>...</td>\n",
       "      <td>...</td>\n",
       "      <td>...</td>\n",
       "    </tr>\n",
       "    <tr>\n",
       "      <th>29989</th>\n",
       "      <td>P2021-04489-01</td>\n",
       "      <td>19200854</td>\n",
       "      <td>박지현</td>\n",
       "      <td>정보개발부</td>\n",
       "      <td>Risk</td>\n",
       "      <td>선임</td>\n",
       "      <td>5급</td>\n",
       "      <td>PM</td>\n",
       "      <td>0</td>\n",
       "      <td>30.0</td>\n",
       "    </tr>\n",
       "    <tr>\n",
       "      <th>29990</th>\n",
       "      <td>P2021-04503-01</td>\n",
       "      <td>19501668</td>\n",
       "      <td>안지성</td>\n",
       "      <td>개발 Cell (SBJ DNX)</td>\n",
       "      <td>개발 Cell (SBJ DNX)</td>\n",
       "      <td>매니저</td>\n",
       "      <td>기타</td>\n",
       "      <td>PM</td>\n",
       "      <td>1</td>\n",
       "      <td>1.0</td>\n",
       "    </tr>\n",
       "  </tbody>\n",
       "</table>\n",
       "<p>29991 rows × 10 columns</p>\n",
       "</div>"
      ],
      "text/plain": [
       "               프로젝트번호        행번   성명                부서명                 팀명  \\\n",
       "0       P2018-1020-01  16031001  김현주             글로벌개발부          DS_글로벌뱅킹1   \n",
       "1       P2018-1020-01  06172202  손현수              금융개발부                 IB   \n",
       "...               ...       ...  ...                ...                ...   \n",
       "29989  P2021-04489-01  19200854  박지현              정보개발부               Risk   \n",
       "29990  P2021-04503-01  19501668  안지성  개발 Cell (SBJ DNX)  개발 Cell (SBJ DNX)   \n",
       "\n",
       "         직위  직급   역할  계획공수    실제공수  \n",
       "0      S부부장  기타   PM  1829  2577.0  \n",
       "1        수석  Ma  개발자     1     1.0  \n",
       "...     ...  ..  ...   ...     ...  \n",
       "29989    선임  5급   PM     0    30.0  \n",
       "29990   매니저  기타   PM     1     1.0  \n",
       "\n",
       "[29991 rows x 10 columns]"
      ]
     },
     "metadata": {},
     "output_type": "display_data"
    }
   ],
   "source": [
    "display(project_jikwon)"
   ]
  },
  {
   "cell_type": "markdown",
   "metadata": {},
   "source": [
    "# Merge Data\n",
    "이제 기본 인덱스로 사용할 직원 데이터에 다른 데이터를 조인하자\n",
    "\n",
    "이때, 메모리 낭비를 방지하기 위해 필요한 컬럼만 추려서 이용한다\n",
    "\n",
    "### 직원 데이터 + 프로그램 변경 이력"
   ]
  },
  {
   "cell_type": "code",
   "execution_count": 42,
   "metadata": {},
   "outputs": [],
   "source": [
    "main_data_columns = ['JIKWON_NO', 'JEOM_NO', 'JIKGUN', 'JIKGEUB', 'JIKWHI', 'JIKWHI2', 'JUJKMU_C',\n",
    "                     'JUJKMU_RATE', 'BUJKMU_C', 'BUJKMU_RATE', 'JUMJANG_G', 'HOBONG', 'BUIM_ILJA']\n",
    "program_columns = ['COL01', 'COL02', 'COL03', 'COL04', 'COL05', 'COL07', 'COL08', 'COL09', 'COL10',\n",
    "                   'COL11', 'COL12', 'COL14', 'COL15']"
   ]
  },
  {
   "cell_type": "code",
   "execution_count": 43,
   "metadata": {},
   "outputs": [
    {
     "name": "stdout",
     "output_type": "stream",
     "text": [
      "(432, 24)->(370040, 26)\n"
     ]
    }
   ],
   "source": [
    "print(main_data.shape, end=\"->\")\n",
    "main_data = pd.merge(left=main_data[main_data_columns],\n",
    "                     right=program[program_columns],\n",
    "                     how='left', left_on='JIKWON_NO', right_on='COL07')\n",
    "print(main_data.shape)"
   ]
  },
  {
   "cell_type": "code",
   "execution_count": 44,
   "metadata": {},
   "outputs": [
    {
     "data": {
      "text/html": [
       "<div>\n",
       "<style scoped>\n",
       "    .dataframe tbody tr th:only-of-type {\n",
       "        vertical-align: middle;\n",
       "    }\n",
       "\n",
       "    .dataframe tbody tr th {\n",
       "        vertical-align: top;\n",
       "    }\n",
       "\n",
       "    .dataframe thead th {\n",
       "        text-align: right;\n",
       "    }\n",
       "</style>\n",
       "<table border=\"1\" class=\"dataframe\">\n",
       "  <thead>\n",
       "    <tr style=\"text-align: right;\">\n",
       "      <th></th>\n",
       "      <th>JIKWON_NO</th>\n",
       "      <th>JEOM_NO</th>\n",
       "      <th>JIKGUN</th>\n",
       "      <th>JIKGEUB</th>\n",
       "      <th>JIKWHI</th>\n",
       "      <th>JIKWHI2</th>\n",
       "      <th>JUJKMU_C</th>\n",
       "      <th>JUJKMU_RATE</th>\n",
       "      <th>BUJKMU_C</th>\n",
       "      <th>BUJKMU_RATE</th>\n",
       "      <th>...</th>\n",
       "      <th>COL04</th>\n",
       "      <th>COL05</th>\n",
       "      <th>COL07</th>\n",
       "      <th>COL08</th>\n",
       "      <th>COL09</th>\n",
       "      <th>COL10</th>\n",
       "      <th>COL11</th>\n",
       "      <th>COL12</th>\n",
       "      <th>COL14</th>\n",
       "      <th>COL15</th>\n",
       "    </tr>\n",
       "  </thead>\n",
       "  <tbody>\n",
       "    <tr>\n",
       "      <th>0</th>\n",
       "      <td>20101491</td>\n",
       "      <td>63</td>\n",
       "      <td>20004</td>\n",
       "      <td>5</td>\n",
       "      <td>20164</td>\n",
       "      <td>3</td>\n",
       "      <td>11609.0</td>\n",
       "      <td>100.0</td>\n",
       "      <td>NaN</td>\n",
       "      <td>0.0</td>\n",
       "      <td>...</td>\n",
       "      <td>온라인서비스</td>\n",
       "      <td>sfis2100d.c</td>\n",
       "      <td>20101491.0</td>\n",
       "      <td>P2021-00342-01</td>\n",
       "      <td>20210120.0</td>\n",
       "      <td>수정</td>\n",
       "      <td>2021-04-002421</td>\n",
       "      <td>/nbsdev/fib/fis/src</td>\n",
       "      <td>6.0</td>\n",
       "      <td>4.0</td>\n",
       "    </tr>\n",
       "    <tr>\n",
       "      <th>1</th>\n",
       "      <td>20101491</td>\n",
       "      <td>63</td>\n",
       "      <td>20004</td>\n",
       "      <td>5</td>\n",
       "      <td>20164</td>\n",
       "      <td>3</td>\n",
       "      <td>11609.0</td>\n",
       "      <td>100.0</td>\n",
       "      <td>NaN</td>\n",
       "      <td>0.0</td>\n",
       "      <td>...</td>\n",
       "      <td>온라인서비스</td>\n",
       "      <td>sfis7100a.c</td>\n",
       "      <td>20101491.0</td>\n",
       "      <td>P2021-00342-01</td>\n",
       "      <td>20210120.0</td>\n",
       "      <td>수정</td>\n",
       "      <td>2021-04-002421</td>\n",
       "      <td>/nbsdev/fib/fis/src</td>\n",
       "      <td>10.0</td>\n",
       "      <td>15.0</td>\n",
       "    </tr>\n",
       "    <tr>\n",
       "      <th>2</th>\n",
       "      <td>20101491</td>\n",
       "      <td>63</td>\n",
       "      <td>20004</td>\n",
       "      <td>5</td>\n",
       "      <td>20164</td>\n",
       "      <td>3</td>\n",
       "      <td>11609.0</td>\n",
       "      <td>100.0</td>\n",
       "      <td>NaN</td>\n",
       "      <td>0.0</td>\n",
       "      <td>...</td>\n",
       "      <td>채널화면_txt</td>\n",
       "      <td>5639000000.txt</td>\n",
       "      <td>20101491.0</td>\n",
       "      <td>P2021-00342-01</td>\n",
       "      <td>20210120.0</td>\n",
       "      <td>수정</td>\n",
       "      <td>2021-04-002421</td>\n",
       "      <td>/webdev/chl1/CHLDownload/iWorks/DOWNLOAD/res/b...</td>\n",
       "      <td>39.0</td>\n",
       "      <td>2.0</td>\n",
       "    </tr>\n",
       "    <tr>\n",
       "      <th>3</th>\n",
       "      <td>20101491</td>\n",
       "      <td>63</td>\n",
       "      <td>20004</td>\n",
       "      <td>5</td>\n",
       "      <td>20164</td>\n",
       "      <td>3</td>\n",
       "      <td>11609.0</td>\n",
       "      <td>100.0</td>\n",
       "      <td>NaN</td>\n",
       "      <td>0.0</td>\n",
       "      <td>...</td>\n",
       "      <td>온라인서비스</td>\n",
       "      <td>svas1102c.c</td>\n",
       "      <td>20101491.0</td>\n",
       "      <td>P2021-01486-01</td>\n",
       "      <td>20210209.0</td>\n",
       "      <td>수정</td>\n",
       "      <td>2021-04-005149</td>\n",
       "      <td>/nbsdev/via/vas/src</td>\n",
       "      <td>3.0</td>\n",
       "      <td>105.0</td>\n",
       "    </tr>\n",
       "    <tr>\n",
       "      <th>4</th>\n",
       "      <td>20101491</td>\n",
       "      <td>63</td>\n",
       "      <td>20004</td>\n",
       "      <td>5</td>\n",
       "      <td>20164</td>\n",
       "      <td>3</td>\n",
       "      <td>11609.0</td>\n",
       "      <td>100.0</td>\n",
       "      <td>NaN</td>\n",
       "      <td>0.0</td>\n",
       "      <td>...</td>\n",
       "      <td>온라인서비스</td>\n",
       "      <td>selb0002a.c</td>\n",
       "      <td>20101491.0</td>\n",
       "      <td>P2021-01319-02</td>\n",
       "      <td>20210317.0</td>\n",
       "      <td>수정</td>\n",
       "      <td>2021-04-008846</td>\n",
       "      <td>/nbsdev/uif/elb/src</td>\n",
       "      <td>97.0</td>\n",
       "      <td>53.0</td>\n",
       "    </tr>\n",
       "  </tbody>\n",
       "</table>\n",
       "<p>5 rows × 26 columns</p>\n",
       "</div>"
      ],
      "text/plain": [
       "   JIKWON_NO  JEOM_NO  JIKGUN  JIKGEUB  JIKWHI  JIKWHI2  JUJKMU_C  \\\n",
       "0   20101491       63   20004        5   20164        3   11609.0   \n",
       "1   20101491       63   20004        5   20164        3   11609.0   \n",
       "2   20101491       63   20004        5   20164        3   11609.0   \n",
       "3   20101491       63   20004        5   20164        3   11609.0   \n",
       "4   20101491       63   20004        5   20164        3   11609.0   \n",
       "\n",
       "   JUJKMU_RATE  BUJKMU_C  BUJKMU_RATE  ...     COL04           COL05  \\\n",
       "0        100.0       NaN          0.0  ...    온라인서비스     sfis2100d.c   \n",
       "1        100.0       NaN          0.0  ...    온라인서비스     sfis7100a.c   \n",
       "2        100.0       NaN          0.0  ...  채널화면_txt  5639000000.txt   \n",
       "3        100.0       NaN          0.0  ...    온라인서비스     svas1102c.c   \n",
       "4        100.0       NaN          0.0  ...    온라인서비스     selb0002a.c   \n",
       "\n",
       "        COL07           COL08       COL09 COL10           COL11  \\\n",
       "0  20101491.0  P2021-00342-01  20210120.0    수정  2021-04-002421   \n",
       "1  20101491.0  P2021-00342-01  20210120.0    수정  2021-04-002421   \n",
       "2  20101491.0  P2021-00342-01  20210120.0    수정  2021-04-002421   \n",
       "3  20101491.0  P2021-01486-01  20210209.0    수정  2021-04-005149   \n",
       "4  20101491.0  P2021-01319-02  20210317.0    수정  2021-04-008846   \n",
       "\n",
       "                                               COL12  COL14  COL15  \n",
       "0                                /nbsdev/fib/fis/src    6.0    4.0  \n",
       "1                                /nbsdev/fib/fis/src   10.0   15.0  \n",
       "2  /webdev/chl1/CHLDownload/iWorks/DOWNLOAD/res/b...   39.0    2.0  \n",
       "3                                /nbsdev/via/vas/src    3.0  105.0  \n",
       "4                                /nbsdev/uif/elb/src   97.0   53.0  \n",
       "\n",
       "[5 rows x 26 columns]"
      ]
     },
     "execution_count": 44,
     "metadata": {},
     "output_type": "execute_result"
    }
   ],
   "source": [
    "main_data.head()"
   ]
  },
  {
   "cell_type": "markdown",
   "metadata": {},
   "source": [
    "### 직원데이터 + 프로젝트 정보\n",
    "프로그램의 프로젝트번호를 기반으로 조인한다\n",
    "\n",
    "이때 필요한 컬럼만 추려서 조인하자 (메모리 낭비 방지)"
   ]
  },
  {
   "cell_type": "code",
   "execution_count": null,
   "metadata": {},
   "outputs": [],
   "source": [
    "\n",
    "project_jikwon_columns = ['PM행번', '업무명', '개발의뢰번호', '의뢰자행번', '행번', '부서명', '팀명', '직위', '직급', '역할']"
   ]
  },
  {
   "cell_type": "code",
   "execution_count": null,
   "metadata": {},
   "outputs": [],
   "source": [
    "main_data = pd.merge(left=main_data[main_data[main_data_columns]], right=project[project[project_columns]],\n",
    "                     how='left', left_on='COL08', right_on='프로젝트번호')"
   ]
  },
  {
   "cell_type": "code",
   "execution_count": null,
   "metadata": {},
   "outputs": [],
   "source": [
    "main_data = pd.merge(left=main_data, right=project_jikwon[project_jikwon[project_jikwon_columns]],\n",
    "                     how='left', left_on='COL08', right_on='프로젝트번호')"
   ]
  },
  {
   "cell_type": "code",
   "execution_count": null,
   "metadata": {
    "scrolled": false
   },
   "outputs": [],
   "source": [
    "main_data.describe(include=['O'])"
   ]
  },
  {
   "cell_type": "markdown",
   "metadata": {},
   "source": [
    "# Export Data\n",
    "데이터 전처리를 완료하였으니, 해당 Dataframe을 csv 파일로 저장한다"
   ]
  },
  {
   "cell_type": "code",
   "execution_count": null,
   "metadata": {},
   "outputs": [],
   "source": [
    "save_dir = os.path.join(root, 'raw_data.csv')\n",
    "main_data.to_csv(save_dir, na_rep='NaN')"
   ]
  },
  {
   "cell_type": "markdown",
   "metadata": {},
   "source": [
    "# Create Code Data\n",
    "데이터 처리의 편의성을 위해 코드로 이루어진 데이터의 경우 코드만 저장을 하였다\n",
    "\n",
    "그러나 결국은 코드 값을 알고 있어야 하기에, 코드와 코드 값을 매칭한 테이블도 필요할 것이다"
   ]
  },
  {
   "cell_type": "code",
   "execution_count": null,
   "metadata": {},
   "outputs": [],
   "source": []
  }
 ],
 "metadata": {
  "kernelspec": {
   "display_name": "Python 3",
   "language": "python",
   "name": "python3"
  },
  "language_info": {
   "codemirror_mode": {
    "name": "ipython",
    "version": 3
   },
   "file_extension": ".py",
   "mimetype": "text/x-python",
   "name": "python",
   "nbconvert_exporter": "python",
   "pygments_lexer": "ipython3",
   "version": "3.8.3"
  }
 },
 "nbformat": 4,
 "nbformat_minor": 4
}
