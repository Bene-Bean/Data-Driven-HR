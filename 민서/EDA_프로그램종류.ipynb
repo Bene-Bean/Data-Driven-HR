{
 "cells": [
  {
   "cell_type": "markdown",
   "metadata": {},
   "source": [
    "# Import Libraries\n",
    "#### Standard"
   ]
  },
  {
   "cell_type": "code",
   "execution_count": 19,
   "metadata": {},
   "outputs": [],
   "source": [
    "import os\n",
    "import numpy as np\n",
    "import pandas as pd"
   ]
  },
  {
   "cell_type": "markdown",
   "metadata": {},
   "source": [
    "#### Visualization"
   ]
  },
  {
   "cell_type": "code",
   "execution_count": 20,
   "metadata": {},
   "outputs": [],
   "source": [
    "import matplotlib.pyplot as plt\n",
    "import matplotlib.font_manager as fm\n",
    "from matplotlib import colors\n",
    "from matplotlib import rc\n",
    "import seaborn as sns\n",
    "import networkx as nx"
   ]
  },
  {
   "cell_type": "markdown",
   "metadata": {},
   "source": [
    "#### Visualization Setting"
   ]
  },
  {
   "cell_type": "code",
   "execution_count": 21,
   "metadata": {},
   "outputs": [],
   "source": [
    "color_palette = 'Set3'\n",
    "title_size = 20\n",
    "sns.set_style(\"whitegrid\")"
   ]
  },
  {
   "cell_type": "code",
   "execution_count": 22,
   "metadata": {},
   "outputs": [],
   "source": [
    "pd.set_option('display.max_rows', 5, 'display.max_columns', None)"
   ]
  },
  {
   "cell_type": "code",
   "execution_count": 23,
   "metadata": {},
   "outputs": [],
   "source": [
    "font_name = fm.FontProperties(fname=\"c:/Windows/Fonts/malgun.ttf\").get_name()\n",
    "rc('font', family=font_name)"
   ]
  },
  {
   "cell_type": "markdown",
   "metadata": {},
   "source": [
    "# Import Data\n",
    "Data Preprocessing 단계에서 생성된 통합 데이터 테이블을 불러온다"
   ]
  },
  {
   "cell_type": "code",
   "execution_count": 24,
   "metadata": {},
   "outputs": [],
   "source": [
    "root = os.path.join(os.getcwd(), 'DATA')\n",
    "\n",
    "df_raw = pd.read_csv(os.path.join(root, 'raw_data.csv'), index_col = 0)\n",
    "df_project = pd.read_csv(os.path.join(root, 'project_data.csv'), index_col = 0)\n",
    "\n",
    "code_jeom = pd.read_csv(os.path.join(root, 'jeom_code.csv'), index_col = 0)\n",
    "code_jikwhi = pd.read_csv(os.path.join(root, 'jikwhi_code.csv'), index_col = 0)\n",
    "code_jkmu = pd.read_csv(os.path.join(root, 'jkmu_code.csv'), index_col = 0)"
   ]
  },
  {
   "cell_type": "markdown",
   "metadata": {},
   "source": [
    "직원 데이터는 지속적으로 참고해야 한다"
   ]
  },
  {
   "cell_type": "code",
   "execution_count": 25,
   "metadata": {},
   "outputs": [],
   "source": [
    "df_jikwon = pd.read_csv(os.path.join(root, 'jikwon.csv'), encoding='cp949')"
   ]
  },
  {
   "cell_type": "markdown",
   "metadata": {},
   "source": [
    "----"
   ]
  },
  {
   "cell_type": "markdown",
   "metadata": {},
   "source": [
    "# Drop Data\n"
   ]
  },
  {
   "cell_type": "markdown",
   "metadata": {},
   "source": [
    "요청구분은 무수정, 수정, 신규, 폐기, 총 4종류가 있는데 우리는 신규/수정한 이력만을 볼 것이다  \n",
    "이를 통해 프로그램을 신규/수정한 이력이 없는 직원들도 제거된다"
   ]
  },
  {
   "cell_type": "code",
   "execution_count": 26,
   "metadata": {
    "scrolled": true
   },
   "outputs": [
    {
     "data": {
      "text/html": [
       "<div>\n",
       "<style scoped>\n",
       "    .dataframe tbody tr th:only-of-type {\n",
       "        vertical-align: middle;\n",
       "    }\n",
       "\n",
       "    .dataframe tbody tr th {\n",
       "        vertical-align: top;\n",
       "    }\n",
       "\n",
       "    .dataframe thead th {\n",
       "        text-align: right;\n",
       "    }\n",
       "</style>\n",
       "<table border=\"1\" class=\"dataframe\">\n",
       "  <thead>\n",
       "    <tr style=\"text-align: right;\">\n",
       "      <th></th>\n",
       "      <th>요청번호</th>\n",
       "    </tr>\n",
       "    <tr>\n",
       "      <th>요청구분</th>\n",
       "      <th></th>\n",
       "    </tr>\n",
       "  </thead>\n",
       "  <tbody>\n",
       "    <tr>\n",
       "      <th>무수정</th>\n",
       "      <td>5557</td>\n",
       "    </tr>\n",
       "    <tr>\n",
       "      <th>수정</th>\n",
       "      <td>189113</td>\n",
       "    </tr>\n",
       "    <tr>\n",
       "      <th>신규</th>\n",
       "      <td>166315</td>\n",
       "    </tr>\n",
       "    <tr>\n",
       "      <th>폐기</th>\n",
       "      <td>8934</td>\n",
       "    </tr>\n",
       "  </tbody>\n",
       "</table>\n",
       "</div>"
      ],
      "text/plain": [
       "        요청번호\n",
       "요청구분        \n",
       "무수정     5557\n",
       "수정    189113\n",
       "신규    166315\n",
       "폐기      8934"
      ]
     },
     "execution_count": 26,
     "metadata": {},
     "output_type": "execute_result"
    }
   ],
   "source": [
    "df_raw[['요청구분', '요청번호']].groupby('요청구분').count()"
   ]
  },
  {
   "cell_type": "code",
   "execution_count": 27,
   "metadata": {},
   "outputs": [
    {
     "name": "stdout",
     "output_type": "stream",
     "text": [
      "(370040, 23)->(355428, 23)\n"
     ]
    }
   ],
   "source": [
    "print(df_raw.shape, end=\"->\")\n",
    "df = df_raw[(df_raw['요청구분'] == '신규') | (df_raw['요청구분'] == '수정')]\n",
    "print(df.shape)"
   ]
  },
  {
   "cell_type": "code",
   "execution_count": 28,
   "metadata": {},
   "outputs": [
    {
     "data": {
      "text/plain": [
       "array(['수정', '신규'], dtype=object)"
      ]
     },
     "execution_count": 28,
     "metadata": {},
     "output_type": "execute_result"
    }
   ],
   "source": [
    "df['요청구분'].unique()"
   ]
  },
  {
   "cell_type": "markdown",
   "metadata": {},
   "source": [
    "# 분류하기"
   ]
  },
  {
   "cell_type": "markdown",
   "metadata": {},
   "source": [
    "### 프로그램종류\n",
    "프로그램 종류를 파악해서 어떤 언어/툴 등을 사용했는지 파악 가능"
   ]
  },
  {
   "cell_type": "code",
   "execution_count": 29,
   "metadata": {
    "scrolled": true
   },
   "outputs": [
    {
     "data": {
      "text/html": [
       "<div>\n",
       "<style scoped>\n",
       "    .dataframe tbody tr th:only-of-type {\n",
       "        vertical-align: middle;\n",
       "    }\n",
       "\n",
       "    .dataframe tbody tr th {\n",
       "        vertical-align: top;\n",
       "    }\n",
       "\n",
       "    .dataframe thead th {\n",
       "        text-align: right;\n",
       "    }\n",
       "</style>\n",
       "<table border=\"1\" class=\"dataframe\">\n",
       "  <thead>\n",
       "    <tr style=\"text-align: right;\">\n",
       "      <th></th>\n",
       "      <th>프로그램종류</th>\n",
       "    </tr>\n",
       "  </thead>\n",
       "  <tbody>\n",
       "    <tr>\n",
       "      <th>0</th>\n",
       "      <td>온라인서비스</td>\n",
       "    </tr>\n",
       "    <tr>\n",
       "      <th>1</th>\n",
       "      <td>채널화면_txt</td>\n",
       "    </tr>\n",
       "    <tr>\n",
       "      <th>...</th>\n",
       "      <td>...</td>\n",
       "    </tr>\n",
       "    <tr>\n",
       "      <th>69</th>\n",
       "      <td>CONFIG</td>\n",
       "    </tr>\n",
       "    <tr>\n",
       "      <th>70</th>\n",
       "      <td>웹_xadl(소스)</td>\n",
       "    </tr>\n",
       "  </tbody>\n",
       "</table>\n",
       "<p>71 rows × 1 columns</p>\n",
       "</div>"
      ],
      "text/plain": [
       "        프로그램종류\n",
       "0       온라인서비스\n",
       "1     채널화면_txt\n",
       "..         ...\n",
       "69      CONFIG\n",
       "70  웹_xadl(소스)\n",
       "\n",
       "[71 rows x 1 columns]"
      ]
     },
     "execution_count": 29,
     "metadata": {},
     "output_type": "execute_result"
    }
   ],
   "source": [
    "df[['프로그램종류']].drop_duplicates().reset_index(drop=True)"
   ]
  },
  {
   "cell_type": "markdown",
   "metadata": {},
   "source": [
    "기술 스택을 파악하기에는 프로그램 종류에 대한 정보가 조금은 부족한 것 같다\n",
    "\n",
    "각 프로그램 종류에 따라 어떤 언어나 툴을 사용하는지 파악할 수 있다면 좀 더 다양성을 줄이고 포괄적으로 데이터를 볼 수 있을 듯 하다\n",
    "\n",
    "언어/툴/종류에 따라..\n",
    "\n",
    "**몇가지 알아낸것**\n",
    "1. 신자금세탁방지(AP) 프로그램종류 BAT_ : 배치성 코드\n",
    "2. 신자금세탁방지(AP) 프로그램종류 ONL_ : 서비스 코드\n",
    "3. 금융개발부 DBIO / DBIO MAP : 프로프레임3.0 // 글로개발부 DBI / DBIO MAP : 프로프레임4.0\n",
    ">  금융개발부는 프로프레임3.0 사용 <-> 글로벌개발부은 프로프레임4.0 사용\n",
    "4. 금융개발부 IO포맷 / 화면매핑 : iDev@BuildLink\n",
    "5. 금융개발부 화면 : iDev@Tool\n",
    "6. ICT운영부 클라우드 : 내부 gitlab 를 사용하여 프로젝트 관리 > 형상관리에서 끌어다가 GIT프로젝트로 표현\n"
   ]
  },
  {
   "cell_type": "code",
   "execution_count": 30,
   "metadata": {},
   "outputs": [],
   "source": [
    "def add_class(row):\n",
    "    program = row['프로그램종류']\n",
    "    if program == '.net(dll)':\n",
    "        return \"VB\"\n",
    "    elif program == '2PC배치':\n",
    "        return \"C\"\n",
    "    elif program == 'BAT_Bean':\n",
    "        return \"JAVA\"\n",
    "    elif program == 'BAT_DBIO':\n",
    "        return \"JAVA\"\n",
    "    elif program == 'BAT_JAVA':\n",
    "        return \"JAVA\"\n",
    "    elif program == 'BAT_OMM':\n",
    "        return \"JAVA\"\n",
    "    elif program == 'BAT_Shell':\n",
    "        return \"JAVA\"\n",
    "    elif program == 'BAT_배치':\n",
    "        return \"JAVA\"\n",
    "    elif program == 'CONFIG':\n",
    "        return \"Shell\"\n",
    "    elif program == 'CTL':\n",
    "        return \"JAVA\"\n",
    "    elif program == 'DBIO':\n",
    "        return \"프로프레임\"\n",
    "    elif program == 'DBIO MAP':\n",
    "        return \"프로프레임\"\n",
    "    elif program == 'FLEX(.mxml)':\n",
    "        return \"FLEX\"        \n",
    "    elif program == 'FLEX(.swf)':\n",
    "        return \"FLEX\"        \n",
    "    elif program == 'FLEX(/bin 파일)':\n",
    "        return \"FLEX\"\n",
    "    elif program == 'FLEX(/src 파일)':\n",
    "        return \"FLEX\"\n",
    "    elif program == 'GIT프로젝트':\n",
    "        return \"Cloud\"\n",
    "    elif program == 'HTML':\n",
    "        return \"HTML\"\n",
    "    elif program == 'HTML5_html':\n",
    "        return \"HTML\"\n",
    "    elif program == 'HTML5_xml':\n",
    "        return \"HTML\"\n",
    "    elif program == 'HTML5_스크립트':\n",
    "        return \"HTML\"\n",
    "    elif program == 'HTML5_이미지':\n",
    "        return \"HTML\"\n",
    "    elif program == 'Header FILE':\n",
    "        return \"HEADER\"\n",
    "    elif program == 'IO포맷':\n",
    "        return \"iDev@BuildLink\"\n",
    "    elif program == 'IO포맷 ALL':\n",
    "        return \"iDev@BuildLink\"\n",
    "    elif program == 'Image':\n",
    "        return \"기티\"\n",
    "    elif program == 'Java':\n",
    "        return \"JAVA\"\n",
    "    elif program == 'MODULE':\n",
    "        return \"C\"\n",
    "    elif program == 'ONL_Bean':\n",
    "        return \"JAVA\"\n",
    "    elif program == 'ONL_DBIO':\n",
    "        return \"JAVA\"\n",
    "    elif program == 'ONL_JAVA':\n",
    "        return \"JAVA\"\n",
    "    elif program == 'ONL_JAVA Module':\n",
    "        return \"JAVA\"\n",
    "    elif program == 'ONL_OMM':\n",
    "        return \"JAVA\"\n",
    "    elif program == 'PACKAGE':\n",
    "        return \"기타\"\n",
    "    elif program == 'SCRIPT':\n",
    "        return \"Shell\"\n",
    "    elif program == 'SHELL':\n",
    "        return \"Shell\"\n",
    "    elif program == 'SQL':\n",
    "        return \"SQL\"\n",
    "    elif program == 'XML':\n",
    "        return \"xml\"\n",
    "    elif program == '거래코드':\n",
    "        return \"C\"\n",
    "    elif program == '공통모듈':\n",
    "        return \"C\"\n",
    "    elif program == '배치':\n",
    "        return \"C\"        \n",
    "    elif program == '배치(*.pc)':\n",
    "        return \"C\"\n",
    "    elif program == '배치코드':\n",
    "        return \"C\"\n",
    "    elif program == '상주배치':\n",
    "        return \"C\"\n",
    "    elif program == '스크립트(긴급)':\n",
    "        return \"Shell\"\n",
    "    elif program == '스크립트(일반)':\n",
    "        return \"Shell\"\n",
    "    elif program == '실행모듈(서버)':\n",
    "        return \"Server\"\n",
    "    elif program == '연동코드':\n",
    "        return \"C\"\n",
    "    elif program == '온라인서비스':\n",
    "        return \"C\"\n",
    "    elif program.startswith('웹'):\n",
    "        return \"Web\"\n",
    "    elif program == '채널매핑룰':\n",
    "        return \"iDev@BuildLink\"\n",
    "    elif program == '채널매핑룰.chl':\n",
    "        return \"iDev@BuildLink\"\n",
    "    elif program == '채널매핑룰.rule':\n",
    "        return \"iDev@BuildLink\"\n",
    "    elif program == '채널화면_MAP':\n",
    "        return \"iDev@Tool\"\n",
    "    elif program == '채널화면_js':\n",
    "        return \"iDev@Tool\"\n",
    "    elif program == '채널화면_mrd':\n",
    "        return \"iDev@Tool\"\n",
    "    elif program == '채널화면_scn':\n",
    "        return \"iDev@Tool\"\n",
    "    elif program == '채널화면_trn':\n",
    "        return \"iDev@Tool\"\n",
    "    elif program == '채널화면_txt':\n",
    "        return \"iDev@Tool\"\n",
    "    elif program == '프로프레임소스(.c)':\n",
    "        return \"C\"\n",
    "    elif program == '화면_VB':\n",
    "        return \"VB\"\n",
    "    elif program == '후행성배치':\n",
    "        return \"C\""
   ]
  },
  {
   "cell_type": "code",
   "execution_count": 31,
   "metadata": {},
   "outputs": [
    {
     "name": "stderr",
     "output_type": "stream",
     "text": [
      "<ipython-input-31-dd9b0abdc934>:1: SettingWithCopyWarning: \n",
      "A value is trying to be set on a copy of a slice from a DataFrame.\n",
      "Try using .loc[row_indexer,col_indexer] = value instead\n",
      "\n",
      "See the caveats in the documentation: https://pandas.pydata.org/pandas-docs/stable/user_guide/indexing.html#returning-a-view-versus-a-copy\n",
      "  df['A'] = df.apply(lambda x: add_class(x), axis=1)\n"
     ]
    }
   ],
   "source": [
    "df['A'] = df.apply(lambda x: add_class(x), axis=1)"
   ]
  },
  {
   "cell_type": "code",
   "execution_count": 32,
   "metadata": {},
   "outputs": [
    {
     "name": "stderr",
     "output_type": "stream",
     "text": [
      "<ipython-input-32-1a3db8c09650>:1: SettingWithCopyWarning: \n",
      "A value is trying to be set on a copy of a slice from a DataFrame.\n",
      "Try using .loc[row_indexer,col_indexer] = value instead\n",
      "\n",
      "See the caveats in the documentation: https://pandas.pydata.org/pandas-docs/stable/user_guide/indexing.html#returning-a-view-versus-a-copy\n",
      "  df['A_COUNT'] = df.groupby(['A', '프로그램종류'])[['JIKWON_NO']].transform('count')\n"
     ]
    }
   ],
   "source": [
    "df['A_COUNT'] = df.groupby(['A', '프로그램종류'])[['JIKWON_NO']].transform('count')"
   ]
  },
  {
   "cell_type": "code",
   "execution_count": 33,
   "metadata": {},
   "outputs": [
    {
     "name": "stderr",
     "output_type": "stream",
     "text": [
      "<ipython-input-33-b6c8e9292e62>:1: SettingWithCopyWarning: \n",
      "A value is trying to be set on a copy of a slice from a DataFrame.\n",
      "Try using .loc[row_indexer,col_indexer] = value instead\n",
      "\n",
      "See the caveats in the documentation: https://pandas.pydata.org/pandas-docs/stable/user_guide/indexing.html#returning-a-view-versus-a-copy\n",
      "  df['B_COUNT'] = df.groupby(['시스템유형', '업무그룹', '업무'])[['JIKWON_NO']].transform('count')\n"
     ]
    }
   ],
   "source": [
    "df['B_COUNT'] = df.groupby(['시스템유형', '업무그룹', '업무'])[['JIKWON_NO']].transform('count')"
   ]
  },
  {
   "cell_type": "code",
   "execution_count": 34,
   "metadata": {},
   "outputs": [
    {
     "data": {
      "text/html": [
       "<div>\n",
       "<style scoped>\n",
       "    .dataframe tbody tr th:only-of-type {\n",
       "        vertical-align: middle;\n",
       "    }\n",
       "\n",
       "    .dataframe tbody tr th {\n",
       "        vertical-align: top;\n",
       "    }\n",
       "\n",
       "    .dataframe thead th {\n",
       "        text-align: right;\n",
       "    }\n",
       "</style>\n",
       "<table border=\"1\" class=\"dataframe\">\n",
       "  <thead>\n",
       "    <tr style=\"text-align: right;\">\n",
       "      <th></th>\n",
       "      <th>JIKWON_NO</th>\n",
       "      <th>JEOM_NO</th>\n",
       "      <th>JIKGUN</th>\n",
       "      <th>JIKGEUB</th>\n",
       "      <th>JIKWHI</th>\n",
       "      <th>JIKWHI2</th>\n",
       "      <th>JUJKMU_C</th>\n",
       "      <th>JUJKMU_RATE</th>\n",
       "      <th>BUJKMU_C</th>\n",
       "      <th>BUJKMU_RATE</th>\n",
       "      <th>JUMJANG_G</th>\n",
       "      <th>HOBONG</th>\n",
       "      <th>BUIM_ILJA</th>\n",
       "      <th>시스템유형</th>\n",
       "      <th>업무그룹</th>\n",
       "      <th>업무</th>\n",
       "      <th>프로그램종류</th>\n",
       "      <th>프로그램명</th>\n",
       "      <th>프로젝트번호</th>\n",
       "      <th>요청일자</th>\n",
       "      <th>요청구분</th>\n",
       "      <th>요청번호</th>\n",
       "      <th>프로그램경로</th>\n",
       "      <th>A</th>\n",
       "      <th>A_COUNT</th>\n",
       "      <th>B_COUNT</th>\n",
       "    </tr>\n",
       "  </thead>\n",
       "  <tbody>\n",
       "    <tr>\n",
       "      <th>0</th>\n",
       "      <td>20101491</td>\n",
       "      <td>63</td>\n",
       "      <td>20004</td>\n",
       "      <td>5</td>\n",
       "      <td>20164</td>\n",
       "      <td>3</td>\n",
       "      <td>11609.0</td>\n",
       "      <td>100.0</td>\n",
       "      <td>NaN</td>\n",
       "      <td>0.0</td>\n",
       "      <td>0</td>\n",
       "      <td>43440</td>\n",
       "      <td>20210201</td>\n",
       "      <td>코어</td>\n",
       "      <td>External Channel</td>\n",
       "      <td>펌뱅킹</td>\n",
       "      <td>온라인서비스</td>\n",
       "      <td>sfis2100d.c</td>\n",
       "      <td>P2021-00342-01</td>\n",
       "      <td>2021-01-20</td>\n",
       "      <td>수정</td>\n",
       "      <td>2021-04-002421</td>\n",
       "      <td>/nbsdev/fib/fis/src</td>\n",
       "      <td>C</td>\n",
       "      <td>15617</td>\n",
       "      <td>531</td>\n",
       "    </tr>\n",
       "    <tr>\n",
       "      <th>1</th>\n",
       "      <td>20101491</td>\n",
       "      <td>63</td>\n",
       "      <td>20004</td>\n",
       "      <td>5</td>\n",
       "      <td>20164</td>\n",
       "      <td>3</td>\n",
       "      <td>11609.0</td>\n",
       "      <td>100.0</td>\n",
       "      <td>NaN</td>\n",
       "      <td>0.0</td>\n",
       "      <td>0</td>\n",
       "      <td>43440</td>\n",
       "      <td>20210201</td>\n",
       "      <td>코어</td>\n",
       "      <td>External Channel</td>\n",
       "      <td>펌뱅킹</td>\n",
       "      <td>온라인서비스</td>\n",
       "      <td>sfis7100a.c</td>\n",
       "      <td>P2021-00342-01</td>\n",
       "      <td>2021-01-20</td>\n",
       "      <td>수정</td>\n",
       "      <td>2021-04-002421</td>\n",
       "      <td>/nbsdev/fib/fis/src</td>\n",
       "      <td>C</td>\n",
       "      <td>15617</td>\n",
       "      <td>531</td>\n",
       "    </tr>\n",
       "  </tbody>\n",
       "</table>\n",
       "</div>"
      ],
      "text/plain": [
       "   JIKWON_NO  JEOM_NO  JIKGUN  JIKGEUB  JIKWHI  JIKWHI2  JUJKMU_C  \\\n",
       "0   20101491       63   20004        5   20164        3   11609.0   \n",
       "1   20101491       63   20004        5   20164        3   11609.0   \n",
       "\n",
       "   JUJKMU_RATE  BUJKMU_C  BUJKMU_RATE  JUMJANG_G  HOBONG  BUIM_ILJA 시스템유형  \\\n",
       "0        100.0       NaN          0.0          0   43440   20210201    코어   \n",
       "1        100.0       NaN          0.0          0   43440   20210201    코어   \n",
       "\n",
       "               업무그룹   업무  프로그램종류        프로그램명          프로젝트번호        요청일자  \\\n",
       "0  External Channel  펌뱅킹  온라인서비스  sfis2100d.c  P2021-00342-01  2021-01-20   \n",
       "1  External Channel  펌뱅킹  온라인서비스  sfis7100a.c  P2021-00342-01  2021-01-20   \n",
       "\n",
       "  요청구분            요청번호               프로그램경로  A  A_COUNT  B_COUNT  \n",
       "0   수정  2021-04-002421  /nbsdev/fib/fis/src  C    15617      531  \n",
       "1   수정  2021-04-002421  /nbsdev/fib/fis/src  C    15617      531  "
      ]
     },
     "execution_count": 34,
     "metadata": {},
     "output_type": "execute_result"
    }
   ],
   "source": [
    "df.head(2)"
   ]
  },
  {
   "cell_type": "markdown",
   "metadata": {},
   "source": [
    "직원 한명에 대해서만 본다고 생각했을때,\n",
    "**프로그램종류**를 봐서 기술스택 파악을 할 수 있을 것\n",
    "\n",
    "6163718 직원에 대한 정보를 봐보자\n"
   ]
  },
  {
   "cell_type": "code",
   "execution_count": 35,
   "metadata": {},
   "outputs": [],
   "source": [
    "df_tmp = df[df['JIKWON_NO'] == 18101811]"
   ]
  },
  {
   "cell_type": "code",
   "execution_count": 36,
   "metadata": {},
   "outputs": [],
   "source": [
    "selected_jikwon = 6163718\n",
    "df_6163718 = df[df['JIKWON_NO'] == selected_jikwon]"
   ]
  },
  {
   "cell_type": "markdown",
   "metadata": {},
   "source": [
    "### 프로그램종류"
   ]
  },
  {
   "cell_type": "code",
   "execution_count": 37,
   "metadata": {
    "scrolled": false
   },
   "outputs": [
    {
     "data": {
      "text/html": [
       "<div>\n",
       "<style scoped>\n",
       "    .dataframe tbody tr th:only-of-type {\n",
       "        vertical-align: middle;\n",
       "    }\n",
       "\n",
       "    .dataframe tbody tr th {\n",
       "        vertical-align: top;\n",
       "    }\n",
       "\n",
       "    .dataframe thead th {\n",
       "        text-align: right;\n",
       "    }\n",
       "</style>\n",
       "<table border=\"1\" class=\"dataframe\">\n",
       "  <thead>\n",
       "    <tr style=\"text-align: right;\">\n",
       "      <th></th>\n",
       "      <th></th>\n",
       "      <th>요청번호</th>\n",
       "    </tr>\n",
       "    <tr>\n",
       "      <th>JIKWON_NO</th>\n",
       "      <th>프로그램종류</th>\n",
       "      <th></th>\n",
       "    </tr>\n",
       "  </thead>\n",
       "  <tbody>\n",
       "    <tr>\n",
       "      <th rowspan=\"21\" valign=\"top\">6163718</th>\n",
       "      <th>DBIO</th>\n",
       "      <td>10</td>\n",
       "    </tr>\n",
       "    <tr>\n",
       "      <th>DBIO MAP</th>\n",
       "      <td>40</td>\n",
       "    </tr>\n",
       "    <tr>\n",
       "      <th>Header FILE</th>\n",
       "      <td>3</td>\n",
       "    </tr>\n",
       "    <tr>\n",
       "      <th>IO포맷</th>\n",
       "      <td>2</td>\n",
       "    </tr>\n",
       "    <tr>\n",
       "      <th>IO포맷 ALL</th>\n",
       "      <td>10</td>\n",
       "    </tr>\n",
       "    <tr>\n",
       "      <th>MODULE</th>\n",
       "      <td>19</td>\n",
       "    </tr>\n",
       "    <tr>\n",
       "      <th>SHELL</th>\n",
       "      <td>9</td>\n",
       "    </tr>\n",
       "    <tr>\n",
       "      <th>XML</th>\n",
       "      <td>9</td>\n",
       "    </tr>\n",
       "    <tr>\n",
       "      <th>거래코드</th>\n",
       "      <td>18</td>\n",
       "    </tr>\n",
       "    <tr>\n",
       "      <th>공통모듈</th>\n",
       "      <td>2</td>\n",
       "    </tr>\n",
       "    <tr>\n",
       "      <th>배치</th>\n",
       "      <td>17</td>\n",
       "    </tr>\n",
       "    <tr>\n",
       "      <th>배치(*.pc)</th>\n",
       "      <td>11</td>\n",
       "    </tr>\n",
       "    <tr>\n",
       "      <th>상주배치</th>\n",
       "      <td>4</td>\n",
       "    </tr>\n",
       "    <tr>\n",
       "      <th>연동코드</th>\n",
       "      <td>13</td>\n",
       "    </tr>\n",
       "    <tr>\n",
       "      <th>온라인서비스</th>\n",
       "      <td>70</td>\n",
       "    </tr>\n",
       "    <tr>\n",
       "      <th>웹_비지니스(.xml)</th>\n",
       "      <td>3</td>\n",
       "    </tr>\n",
       "    <tr>\n",
       "      <th>웹_서식(.xml)</th>\n",
       "      <td>4</td>\n",
       "    </tr>\n",
       "    <tr>\n",
       "      <th>채널매핑룰</th>\n",
       "      <td>10</td>\n",
       "    </tr>\n",
       "    <tr>\n",
       "      <th>채널화면_MAP</th>\n",
       "      <td>15</td>\n",
       "    </tr>\n",
       "    <tr>\n",
       "      <th>채널화면_mrd</th>\n",
       "      <td>3</td>\n",
       "    </tr>\n",
       "    <tr>\n",
       "      <th>채널화면_txt</th>\n",
       "      <td>15</td>\n",
       "    </tr>\n",
       "  </tbody>\n",
       "</table>\n",
       "</div>"
      ],
      "text/plain": [
       "                        요청번호\n",
       "JIKWON_NO 프로그램종류            \n",
       "6163718   DBIO            10\n",
       "          DBIO MAP        40\n",
       "          Header FILE      3\n",
       "          IO포맷             2\n",
       "          IO포맷 ALL        10\n",
       "          MODULE          19\n",
       "          SHELL            9\n",
       "          XML              9\n",
       "          거래코드            18\n",
       "          공통모듈             2\n",
       "          배치              17\n",
       "          배치(*.pc)        11\n",
       "          상주배치             4\n",
       "          연동코드            13\n",
       "          온라인서비스          70\n",
       "          웹_비지니스(.xml)     3\n",
       "          웹_서식(.xml)       4\n",
       "          채널매핑룰           10\n",
       "          채널화면_MAP        15\n",
       "          채널화면_mrd         3\n",
       "          채널화면_txt        15"
      ]
     },
     "metadata": {},
     "output_type": "display_data"
    }
   ],
   "source": [
    "with pd.option_context('display.max_rows', df.shape[0]+1):\n",
    "    display(df_6163718[['JIKWON_NO', '프로그램종류', '요청번호']].groupby(['JIKWON_NO', '프로그램종류']).count())"
   ]
  },
  {
   "cell_type": "code",
   "execution_count": 38,
   "metadata": {},
   "outputs": [],
   "source": [
    "df_기술 = df_6163718[['JIKWON_NO', 'A', '프로그램종류', 'A_COUNT']].drop_duplicates().sort_values(['A', '프로그램종류']).reset_index(drop=True)"
   ]
  },
  {
   "cell_type": "code",
   "execution_count": 39,
   "metadata": {},
   "outputs": [
    {
     "data": {
      "image/png": "[encoded data removed]",
      "text/plain": [
       "<Figure size 1440x1080 with 1 Axes>"
      ]
     },
     "metadata": {},
     "output_type": "display_data"
    }
   ],
   "source": [
    "fig, ax = plt.subplots(figsize=(20, 15))\n",
    "\n",
    "# Set Edges\n",
    "f1 = list(df_기술['JIKWON_NO'].array) + list(df_기술['A'].array)\n",
    "t1 = list(df_기술['A'].array) + list(df_기술['프로그램종류'].array)\n",
    "\n",
    "relationship1 = pd.DataFrame({'from': f1, 'to': t1})\n",
    "\n",
    "# Create DF for node characteristics\n",
    "tmp1 = list(df_기술['A'].unique())\n",
    "tmp2 = list(df_기술['프로그램종류'].unique())\n",
    "carac = pd.DataFrame({'ID': [selected_jikwon] + tmp1 + tmp2, \n",
    "                      'type': ['jikwon_no'] + ['A' for _ in range(len(tmp1))] + ['program' for _ in range(len(tmp2))]})\n",
    "\n",
    "# Create graph object\n",
    "G = nx.from_pandas_edgelist(relationship1, 'from', 'to', create_using=nx.Graph())\n",
    "\n",
    "# Make types into categories\n",
    "carac = carac.set_index('ID')\n",
    "carac = carac.reindex(G.nodes())\n",
    "\n",
    "carac['type'] = pd.Categorical(carac['type'])\n",
    "carac['type'].cat.codes\n",
    "\n",
    "# Specify colors\n",
    "cmap = colors.ListedColormap(['#a9ffeb', '#00dca8', '#8fe1ff'])\n",
    "\n",
    "node_sizes1 = [2500 for _ in range(len(tmp1) + 1)] + list(map(lambda x: x * 0.5, df_기술['A_COUNT'].array))\n",
    "\n",
    "# Draw graph\n",
    "nx.draw(G, with_labels=True, node_color=carac['type'].cat.codes, node_size=node_sizes1, font_family=font_name, font_size=15, cmap=cmap)\n"
   ]
  },
  {
   "cell_type": "code",
   "execution_count": 40,
   "metadata": {},
   "outputs": [],
   "source": [
    "pos=nx.fruchterman_reingold_layout(G)"
   ]
  },
  {
   "cell_type": "code",
   "execution_count": 41,
   "metadata": {},
   "outputs": [],
   "source": [
    "Nodes = [comp for comp in nx.connected_components(G)] # Looks for the graph's communities\n",
    "Edges = G.edges()"
   ]
  },
  {
   "cell_type": "markdown",
   "metadata": {},
   "source": [
    "### 시스템유형\n",
    "어떤 업무인지 파악 > 직원의 업무 역량 파악 가능"
   ]
  },
  {
   "cell_type": "code",
   "execution_count": 43,
   "metadata": {},
   "outputs": [],
   "source": [
    "df_업무 = df_6163718[['JIKWON_NO', '시스템유형', '업무그룹', '업무', 'B_COUNT']].drop_duplicates().sort_values(['시스템유형', '업무그룹', '업무']).reset_index(drop=True)"
   ]
  },
  {
   "cell_type": "code",
   "execution_count": 44,
   "metadata": {},
   "outputs": [
    {
     "data": {
      "text/html": [
       "<div>\n",
       "<style scoped>\n",
       "    .dataframe tbody tr th:only-of-type {\n",
       "        vertical-align: middle;\n",
       "    }\n",
       "\n",
       "    .dataframe tbody tr th {\n",
       "        vertical-align: top;\n",
       "    }\n",
       "\n",
       "    .dataframe thead th {\n",
       "        text-align: right;\n",
       "    }\n",
       "</style>\n",
       "<table border=\"1\" class=\"dataframe\">\n",
       "  <thead>\n",
       "    <tr style=\"text-align: right;\">\n",
       "      <th></th>\n",
       "      <th>JIKWON_NO</th>\n",
       "      <th>시스템유형</th>\n",
       "      <th>업무그룹</th>\n",
       "      <th>업무</th>\n",
       "      <th>B_COUNT</th>\n",
       "    </tr>\n",
       "  </thead>\n",
       "  <tbody>\n",
       "    <tr>\n",
       "      <th>0</th>\n",
       "      <td>6163718</td>\n",
       "      <td>단위</td>\n",
       "      <td>단위-대외계</td>\n",
       "      <td>단위-대외계펌뱅킹</td>\n",
       "      <td>221</td>\n",
       "    </tr>\n",
       "    <tr>\n",
       "      <th>1</th>\n",
       "      <td>6163718</td>\n",
       "      <td>웹컨텐츠</td>\n",
       "      <td>디지털창구_전자서식</td>\n",
       "      <td>디지털창구_전자서식</td>\n",
       "      <td>902</td>\n",
       "    </tr>\n",
       "    <tr>\n",
       "      <th>2</th>\n",
       "      <td>6163718</td>\n",
       "      <td>코어</td>\n",
       "      <td>External Channel</td>\n",
       "      <td>전자금융</td>\n",
       "      <td>19</td>\n",
       "    </tr>\n",
       "    <tr>\n",
       "      <th>3</th>\n",
       "      <td>6163718</td>\n",
       "      <td>코어</td>\n",
       "      <td>External Channel</td>\n",
       "      <td>펌뱅킹</td>\n",
       "      <td>531</td>\n",
       "    </tr>\n",
       "  </tbody>\n",
       "</table>\n",
       "</div>"
      ],
      "text/plain": [
       "   JIKWON_NO 시스템유형              업무그룹          업무  B_COUNT\n",
       "0    6163718    단위            단위-대외계   단위-대외계펌뱅킹      221\n",
       "1    6163718  웹컨텐츠        디지털창구_전자서식  디지털창구_전자서식      902\n",
       "2    6163718    코어  External Channel        전자금융       19\n",
       "3    6163718    코어  External Channel         펌뱅킹      531"
      ]
     },
     "metadata": {},
     "output_type": "display_data"
    }
   ],
   "source": [
    "with pd.option_context('display.max_rows', df_업무.shape[0]+1):\n",
    "    display(df_업무)"
   ]
  },
  {
   "cell_type": "code",
   "execution_count": 45,
   "metadata": {},
   "outputs": [],
   "source": [
    "# Set Edges\n",
    "f2 = list(df_업무['JIKWON_NO'].array) + list(df_업무['시스템유형'].array) + list(df_업무['업무그룹'].array)\n",
    "t2 = list(df_업무['시스템유형'].array) + list(df_업무['업무그룹'].array) + list(df_업무['업무'].array)\n",
    "\n",
    "relationship2 = pd.DataFrame({'from': f2, 'to': t2})"
   ]
  },
  {
   "cell_type": "code",
   "execution_count": 46,
   "metadata": {},
   "outputs": [],
   "source": [
    "# Set Visual\n",
    "# carac = pd.DataFrame({'ID': [6163718] + tmp + tmp2, \n",
    "#                       'type': ['no'] + ['A' for _ in range(len(tmp))] + ['program' for _ in range(len(tmp2))]})\n",
    "# carac.set_index('ID')"
   ]
  },
  {
   "cell_type": "code",
   "execution_count": 47,
   "metadata": {},
   "outputs": [],
   "source": [
    "tmp_length = len(df_업무['시스템유형'].unique()) + len(df_업무['업무그룹'].unique())\n",
    "node_sizes1 = [2500 for _ in range(tmp_length)] + list(map(lambda x: x * 15, df_업무['B_COUNT'].array))"
   ]
  },
  {
   "cell_type": "code",
   "execution_count": 48,
   "metadata": {},
   "outputs": [
    {
     "data": {
      "image/png": "[encoded data removed]",
      "text/plain": [
       "<Figure size 1440x1080 with 1 Axes>"
      ]
     },
     "metadata": {},
     "output_type": "display_data"
    }
   ],
   "source": [
    "fig, ax = plt.subplots(figsize=(20,15))\n",
    "G = nx.from_pandas_edgelist(relationship2, 'from', 'to', create_using=nx.Graph())\n",
    "\n",
    "nx.draw(G, with_labels=True, node_color='#fcc9dd', node_size=node_sizes1, font_family=font_name, font_size=15)"
   ]
  },
  {
   "cell_type": "markdown",
   "metadata": {},
   "source": [
    "# Export Data"
   ]
  },
  {
   "cell_type": "code",
   "execution_count": 49,
   "metadata": {},
   "outputs": [],
   "source": [
    "data_for_dash = pd.merge(left=df[['JIKWON_NO', '시스템유형', '업무그룹', '업무', '프로그램종류', 'A', 'A_COUNT', 'B_COUNT']],\n",
    "                         right=df_jikwon[['JIKWON_NO', 'NAME']],\n",
    "                         how='left', left_on='JIKWON_NO', right_on='JIKWON_NO')"
   ]
  },
  {
   "cell_type": "code",
   "execution_count": 50,
   "metadata": {},
   "outputs": [
    {
     "data": {
      "text/html": [
       "<div>\n",
       "<style scoped>\n",
       "    .dataframe tbody tr th:only-of-type {\n",
       "        vertical-align: middle;\n",
       "    }\n",
       "\n",
       "    .dataframe tbody tr th {\n",
       "        vertical-align: top;\n",
       "    }\n",
       "\n",
       "    .dataframe thead th {\n",
       "        text-align: right;\n",
       "    }\n",
       "</style>\n",
       "<table border=\"1\" class=\"dataframe\">\n",
       "  <thead>\n",
       "    <tr style=\"text-align: right;\">\n",
       "      <th></th>\n",
       "      <th>JIKWON_NO</th>\n",
       "      <th>시스템유형</th>\n",
       "      <th>업무그룹</th>\n",
       "      <th>업무</th>\n",
       "      <th>프로그램종류</th>\n",
       "      <th>A</th>\n",
       "      <th>A_COUNT</th>\n",
       "      <th>B_COUNT</th>\n",
       "      <th>NAME</th>\n",
       "    </tr>\n",
       "  </thead>\n",
       "  <tbody>\n",
       "    <tr>\n",
       "      <th>0</th>\n",
       "      <td>20101491</td>\n",
       "      <td>코어</td>\n",
       "      <td>External Channel</td>\n",
       "      <td>펌뱅킹</td>\n",
       "      <td>온라인서비스</td>\n",
       "      <td>C</td>\n",
       "      <td>15617</td>\n",
       "      <td>531</td>\n",
       "      <td>신범철</td>\n",
       "    </tr>\n",
       "    <tr>\n",
       "      <th>1</th>\n",
       "      <td>20101491</td>\n",
       "      <td>코어</td>\n",
       "      <td>External Channel</td>\n",
       "      <td>펌뱅킹</td>\n",
       "      <td>온라인서비스</td>\n",
       "      <td>C</td>\n",
       "      <td>15617</td>\n",
       "      <td>531</td>\n",
       "      <td>신범철</td>\n",
       "    </tr>\n",
       "    <tr>\n",
       "      <th>...</th>\n",
       "      <td>...</td>\n",
       "      <td>...</td>\n",
       "      <td>...</td>\n",
       "      <td>...</td>\n",
       "      <td>...</td>\n",
       "      <td>...</td>\n",
       "      <td>...</td>\n",
       "      <td>...</td>\n",
       "      <td>...</td>\n",
       "    </tr>\n",
       "    <tr>\n",
       "      <th>355426</th>\n",
       "      <td>18101798</td>\n",
       "      <td>코어</td>\n",
       "      <td>수신</td>\n",
       "      <td>수익증권</td>\n",
       "      <td>채널화면_mrd</td>\n",
       "      <td>iDev@Tool</td>\n",
       "      <td>1266</td>\n",
       "      <td>842</td>\n",
       "      <td>민남규</td>\n",
       "    </tr>\n",
       "    <tr>\n",
       "      <th>355427</th>\n",
       "      <td>18101798</td>\n",
       "      <td>코어</td>\n",
       "      <td>수신</td>\n",
       "      <td>수익증권</td>\n",
       "      <td>온라인서비스</td>\n",
       "      <td>C</td>\n",
       "      <td>15617</td>\n",
       "      <td>842</td>\n",
       "      <td>민남규</td>\n",
       "    </tr>\n",
       "  </tbody>\n",
       "</table>\n",
       "<p>355428 rows × 9 columns</p>\n",
       "</div>"
      ],
      "text/plain": [
       "        JIKWON_NO 시스템유형              업무그룹    업무    프로그램종류          A  A_COUNT  \\\n",
       "0        20101491    코어  External Channel   펌뱅킹    온라인서비스          C    15617   \n",
       "1        20101491    코어  External Channel   펌뱅킹    온라인서비스          C    15617   \n",
       "...           ...   ...               ...   ...       ...        ...      ...   \n",
       "355426   18101798    코어                수신  수익증권  채널화면_mrd  iDev@Tool     1266   \n",
       "355427   18101798    코어                수신  수익증권    온라인서비스          C    15617   \n",
       "\n",
       "        B_COUNT               NAME  \n",
       "0           531  신범철                \n",
       "1           531  신범철                \n",
       "...         ...                ...  \n",
       "355426      842  민남규                \n",
       "355427      842  민남규                \n",
       "\n",
       "[355428 rows x 9 columns]"
      ]
     },
     "execution_count": 50,
     "metadata": {},
     "output_type": "execute_result"
    }
   ],
   "source": [
    "data_for_dash"
   ]
  },
  {
   "cell_type": "code",
   "execution_count": 51,
   "metadata": {},
   "outputs": [],
   "source": [
    "data_for_dash.to_csv(os.path.join(root, 'data_for_dash.csv'), na_rep='NaN')"
   ]
  }
 ],
 "metadata": {
  "kernelspec": {
   "display_name": "Python 3",
   "language": "python",
   "name": "python3"
  },
  "language_info": {
   "codemirror_mode": {
    "name": "ipython",
    "version": 3
   },
   "file_extension": ".py",
   "mimetype": "text/x-python",
   "name": "python",
   "nbconvert_exporter": "python",
   "pygments_lexer": "ipython3",
   "version": "3.8.3"
  }
 },
 "nbformat": 4,
 "nbformat_minor": 4
}
