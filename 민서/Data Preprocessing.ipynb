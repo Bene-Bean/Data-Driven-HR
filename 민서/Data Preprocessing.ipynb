{
 "cells": [
  {
   "cell_type": "markdown",
   "metadata": {},
   "source": [
    "해당 페이지에서는 직원, 프로그램, 프로젝트, 총 3가지 데이터를 통합하여 볼 수 있는 테이블 등을 생성하는데에 목적을 둔다"
   ]
  },
  {
   "cell_type": "markdown",
   "metadata": {},
   "source": [
    "# Settings\n",
    "#### Import Libraries"
   ]
  },
  {
   "cell_type": "code",
   "execution_count": 2,
   "metadata": {},
   "outputs": [],
   "source": [
    "import os\n",
    "import numpy as np\n",
    "import pandas as pd"
   ]
  },
  {
   "cell_type": "markdown",
   "metadata": {},
   "source": [
    "#### Set pandas option\n",
    "table display 할 때에 컬럼이 많아도 전부 출력되도록 함"
   ]
  },
  {
   "cell_type": "code",
   "execution_count": 3,
   "metadata": {},
   "outputs": [],
   "source": [
    "pd.set_option('display.max_rows', 5, 'display.max_columns', None)"
   ]
  },
  {
   "cell_type": "markdown",
   "metadata": {},
   "source": [
    "# Import Data"
   ]
  },
  {
   "cell_type": "code",
   "execution_count": 4,
   "metadata": {},
   "outputs": [],
   "source": [
    "root = os.path.join(os.getcwd(), 'DATA')"
   ]
  },
  {
   "cell_type": "markdown",
   "metadata": {},
   "source": [
    "### 직원 데이터\n",
    "행내 직원 기본 정보"
   ]
  },
  {
   "cell_type": "code",
   "execution_count": 5,
   "metadata": {},
   "outputs": [],
   "source": [
    "# 직원\n",
    "jikwon_dir = os.path.join(root, 'jikwon.csv')\n",
    "jikwon = pd.read_csv(jikwon_dir, encoding='cp949')"
   ]
  },
  {
   "cell_type": "markdown",
   "metadata": {},
   "source": [
    "### 프로그램 변경 이력 데이터\n",
    "2020년 이후 신규/변경된 프로그램의 변경 이력 정보\n",
    "\n",
    "용량 문제로 인하여 2개의 파일로 존재"
   ]
  },
  {
   "cell_type": "code",
   "execution_count": 6,
   "metadata": {},
   "outputs": [],
   "source": [
    "# 프로그램 변경 이력\n",
    "change_dir_1 = os.path.join(root, 'program_change_1.xlsx')\n",
    "change_dir_2 = os.path.join(root, 'program_change_2.xlsx')\n",
    "program_change_1 = pd.read_excel(change_dir_1)\n",
    "program_change_2 = pd.read_excel(change_dir_2)"
   ]
  },
  {
   "cell_type": "markdown",
   "metadata": {},
   "source": [
    "###  프로젝트 데이터\n",
    "2020년 이후 프로그램을 신규/변경한 프로젝트 정보"
   ]
  },
  {
   "cell_type": "code",
   "execution_count": 7,
   "metadata": {},
   "outputs": [],
   "source": [
    "# 프로젝트\n",
    "project_dir = os.path.join(root, 'project.xlsx')\n",
    "project = pd.read_excel(project_dir, sheet_name='프로젝트정보')\n",
    "project_jikwon = pd.read_excel(project_dir, sheet_name='프로젝트인력')"
   ]
  },
  {
   "cell_type": "markdown",
   "metadata": {},
   "source": [
    "---\n",
    "# Preprocessing _ Jikwon"
   ]
  },
  {
   "cell_type": "code",
   "execution_count": 8,
   "metadata": {},
   "outputs": [
    {
     "data": {
      "text/html": [
       "<div>\n",
       "<style scoped>\n",
       "    .dataframe tbody tr th:only-of-type {\n",
       "        vertical-align: middle;\n",
       "    }\n",
       "\n",
       "    .dataframe tbody tr th {\n",
       "        vertical-align: top;\n",
       "    }\n",
       "\n",
       "    .dataframe thead th {\n",
       "        text-align: right;\n",
       "    }\n",
       "</style>\n",
       "<table border=\"1\" class=\"dataframe\">\n",
       "  <thead>\n",
       "    <tr style=\"text-align: right;\">\n",
       "      <th></th>\n",
       "      <th>JIKWON_NO</th>\n",
       "      <th>NAME</th>\n",
       "      <th>JEOM_NO</th>\n",
       "      <th>JEOM_NAME</th>\n",
       "      <th>JIKGUN</th>\n",
       "      <th>JIKGEUB</th>\n",
       "      <th>JIKWHI</th>\n",
       "      <th>JIKWHI_NAME</th>\n",
       "      <th>JUMINNO</th>\n",
       "      <th>JIKWHI2</th>\n",
       "      <th>JUJKMU_C</th>\n",
       "      <th>JUJKMU_NM</th>\n",
       "      <th>JUJKMU_RATE</th>\n",
       "      <th>BUJKMU_C</th>\n",
       "      <th>BUJKMU_NM</th>\n",
       "      <th>BUJKMU_RATE</th>\n",
       "      <th>JUMJANG_G</th>\n",
       "      <th>HOBONG</th>\n",
       "      <th>TOIJIKGBN</th>\n",
       "      <th>BUIM_ILJA</th>\n",
       "      <th>LST_CHG_ILSI</th>\n",
       "      <th>SILNO_CID</th>\n",
       "      <th>CUSNO</th>\n",
       "      <th>SAME_MN_NO</th>\n",
       "    </tr>\n",
       "  </thead>\n",
       "  <tbody>\n",
       "    <tr>\n",
       "      <th>0</th>\n",
       "      <td>20505190</td>\n",
       "      <td>최태호</td>\n",
       "      <td>4</td>\n",
       "      <td>준법감시부</td>\n",
       "      <td>30000</td>\n",
       "      <td>99999</td>\n",
       "      <td>20425</td>\n",
       "      <td>전문계약직원</td>\n",
       "      <td>NaN</td>\n",
       "      <td>9</td>\n",
       "      <td>NaN</td>\n",
       "      <td>NaN</td>\n",
       "      <td>NaN</td>\n",
       "      <td>NaN</td>\n",
       "      <td>NaN</td>\n",
       "      <td>NaN</td>\n",
       "      <td>0</td>\n",
       "      <td>99998</td>\n",
       "      <td>0</td>\n",
       "      <td>20200401</td>\n",
       "      <td>NaN</td>\n",
       "      <td>fLOjQav3YWgEC</td>\n",
       "      <td>464464292</td>\n",
       "      <td>464464292</td>\n",
       "    </tr>\n",
       "    <tr>\n",
       "      <th>1</th>\n",
       "      <td>6209769</td>\n",
       "      <td>김명희</td>\n",
       "      <td>1107</td>\n",
       "      <td>영등포</td>\n",
       "      <td>20004</td>\n",
       "      <td>3</td>\n",
       "      <td>31053</td>\n",
       "      <td>부지점장겸 WRM</td>\n",
       "      <td>NaN</td>\n",
       "      <td>2</td>\n",
       "      <td>10905.0</td>\n",
       "      <td>WRM</td>\n",
       "      <td>100.0</td>\n",
       "      <td>NaN</td>\n",
       "      <td>NaN</td>\n",
       "      <td>0.0</td>\n",
       "      <td>0</td>\n",
       "      <td>10975</td>\n",
       "      <td>0</td>\n",
       "      <td>20190128</td>\n",
       "      <td>2.019013e+13</td>\n",
       "      <td>yoV049wbj4xLo</td>\n",
       "      <td>478015769</td>\n",
       "      <td>478015769</td>\n",
       "    </tr>\n",
       "    <tr>\n",
       "      <th>...</th>\n",
       "      <td>...</td>\n",
       "      <td>...</td>\n",
       "      <td>...</td>\n",
       "      <td>...</td>\n",
       "      <td>...</td>\n",
       "      <td>...</td>\n",
       "      <td>...</td>\n",
       "      <td>...</td>\n",
       "      <td>...</td>\n",
       "      <td>...</td>\n",
       "      <td>...</td>\n",
       "      <td>...</td>\n",
       "      <td>...</td>\n",
       "      <td>...</td>\n",
       "      <td>...</td>\n",
       "      <td>...</td>\n",
       "      <td>...</td>\n",
       "      <td>...</td>\n",
       "      <td>...</td>\n",
       "      <td>...</td>\n",
       "      <td>...</td>\n",
       "      <td>...</td>\n",
       "      <td>...</td>\n",
       "      <td>...</td>\n",
       "    </tr>\n",
       "    <tr>\n",
       "      <th>13971</th>\n",
       "      <td>20100700</td>\n",
       "      <td>이재상</td>\n",
       "      <td>1207</td>\n",
       "      <td>종로</td>\n",
       "      <td>20004</td>\n",
       "      <td>5</td>\n",
       "      <td>20258</td>\n",
       "      <td>행원</td>\n",
       "      <td>NaN</td>\n",
       "      <td>3</td>\n",
       "      <td>10612.0</td>\n",
       "      <td>상담 FC</td>\n",
       "      <td>90.0</td>\n",
       "      <td>10611.0</td>\n",
       "      <td>후선업무 AS</td>\n",
       "      <td>10.0</td>\n",
       "      <td>0</td>\n",
       "      <td>47345</td>\n",
       "      <td>0</td>\n",
       "      <td>20200206</td>\n",
       "      <td>2.020022e+13</td>\n",
       "      <td>l5xVJSARN5L8m</td>\n",
       "      <td>499646799</td>\n",
       "      <td>499646799</td>\n",
       "    </tr>\n",
       "    <tr>\n",
       "      <th>13972</th>\n",
       "      <td>6211895</td>\n",
       "      <td>김정아</td>\n",
       "      <td>1857</td>\n",
       "      <td>안양비산동</td>\n",
       "      <td>20004</td>\n",
       "      <td>4</td>\n",
       "      <td>20112</td>\n",
       "      <td>차장</td>\n",
       "      <td>NaN</td>\n",
       "      <td>2</td>\n",
       "      <td>10733.0</td>\n",
       "      <td>WM</td>\n",
       "      <td>100.0</td>\n",
       "      <td>NaN</td>\n",
       "      <td>NaN</td>\n",
       "      <td>0.0</td>\n",
       "      <td>0</td>\n",
       "      <td>23170</td>\n",
       "      <td>0</td>\n",
       "      <td>20200708</td>\n",
       "      <td>2.021021e+13</td>\n",
       "      <td>Ydg/fYYORY+c0</td>\n",
       "      <td>438419556</td>\n",
       "      <td>438419556</td>\n",
       "    </tr>\n",
       "  </tbody>\n",
       "</table>\n",
       "<p>13973 rows × 24 columns</p>\n",
       "</div>"
      ],
      "text/plain": [
       "       JIKWON_NO               NAME  JEOM_NO                     JEOM_NAME  \\\n",
       "0       20505190  최태호                      4     준법감시부                       \n",
       "1        6209769  김명희                   1107   영등포                           \n",
       "...          ...                ...      ...                           ...   \n",
       "13971   20100700  이재상                   1207  종로                             \n",
       "13972    6211895  김정아                   1857     안양비산동                       \n",
       "\n",
       "       JIKGUN  JIKGEUB  JIKWHI JIKWHI_NAME JUMINNO  JIKWHI2  JUJKMU_C  \\\n",
       "0       30000    99999   20425      전문계약직원     NaN        9       NaN   \n",
       "1       20004        3   31053   부지점장겸 WRM     NaN        2   10905.0   \n",
       "...       ...      ...     ...         ...     ...      ...       ...   \n",
       "13971   20004        5   20258          행원     NaN        3   10612.0   \n",
       "13972   20004        4   20112          차장     NaN        2   10733.0   \n",
       "\n",
       "      JUJKMU_NM  JUJKMU_RATE  BUJKMU_C BUJKMU_NM  BUJKMU_RATE  JUMJANG_G  \\\n",
       "0           NaN          NaN       NaN       NaN          NaN          0   \n",
       "1           WRM        100.0       NaN       NaN          0.0          0   \n",
       "...         ...          ...       ...       ...          ...        ...   \n",
       "13971     상담 FC         90.0   10611.0   후선업무 AS         10.0          0   \n",
       "13972        WM        100.0       NaN       NaN          0.0          0   \n",
       "\n",
       "       HOBONG  TOIJIKGBN  BUIM_ILJA  LST_CHG_ILSI      SILNO_CID      CUSNO  \\\n",
       "0       99998          0   20200401           NaN  fLOjQav3YWgEC  464464292   \n",
       "1       10975          0   20190128  2.019013e+13  yoV049wbj4xLo  478015769   \n",
       "...       ...        ...        ...           ...            ...        ...   \n",
       "13971   47345          0   20200206  2.020022e+13  l5xVJSARN5L8m  499646799   \n",
       "13972   23170          0   20200708  2.021021e+13  Ydg/fYYORY+c0  438419556   \n",
       "\n",
       "       SAME_MN_NO  \n",
       "0       464464292  \n",
       "1       478015769  \n",
       "...           ...  \n",
       "13971   499646799  \n",
       "13972   438419556  \n",
       "\n",
       "[13973 rows x 24 columns]"
      ]
     },
     "metadata": {},
     "output_type": "display_data"
    }
   ],
   "source": [
    "display(jikwon)"
   ]
  },
  {
   "cell_type": "markdown",
   "metadata": {},
   "source": [
    "### 1. 점번호 필터링\n",
    "데이터 대상자는 ICT 그룹 직원이므로 점번호를 기준으로 필터링\n",
    "\n",
    "- 61(ICT운영부)\n",
    "- 62(정보개발부)\n",
    "- 63(금융개발부)\n",
    "- 64(글로벌개발부)\n",
    "- 66(기관개발부)\n",
    "- 69(디지털개발부)\n",
    "- 507(ICT기획부)"
   ]
  },
  {
   "cell_type": "code",
   "execution_count": 9,
   "metadata": {},
   "outputs": [],
   "source": [
    "jikwon_data = jikwon[(jikwon['JEOM_NO'] == 61) | (jikwon['JEOM_NO'] == 62) | (jikwon['JEOM_NO'] ==  63) |\n",
    "                     (jikwon['JEOM_NO'] == 64) | (jikwon['JEOM_NO'] == 66) | (jikwon['JEOM_NO'] == 69) | (jikwon['JEOM_NO'] ==  507)]"
   ]
  },
  {
   "cell_type": "code",
   "execution_count": 10,
   "metadata": {
    "scrolled": true
   },
   "outputs": [
    {
     "data": {
      "text/plain": [
       "(432, 24)"
      ]
     },
     "execution_count": 10,
     "metadata": {},
     "output_type": "execute_result"
    }
   ],
   "source": [
    "jikwon_data.shape"
   ]
  },
  {
   "cell_type": "markdown",
   "metadata": {},
   "source": [
    "432명의 ICT 그룹 직원이 있음을 확인할 수 있다"
   ]
  },
  {
   "cell_type": "markdown",
   "metadata": {},
   "source": [
    "### 2. 코드 테이블 생성\n",
    "문자열이나 코드로 이루어져 있거나 기타 이유로 사용할 수 없는 데이터가 있다면 제외해준다"
   ]
  },
  {
   "cell_type": "markdown",
   "metadata": {},
   "source": [
    "**점정보**"
   ]
  },
  {
   "cell_type": "code",
   "execution_count": 11,
   "metadata": {},
   "outputs": [],
   "source": [
    "jeom = jikwon_data[['JEOM_NO', 'JEOM_NAME']].drop_duplicates().reset_index(drop=True)"
   ]
  },
  {
   "cell_type": "code",
   "execution_count": 12,
   "metadata": {
    "scrolled": true
   },
   "outputs": [
    {
     "data": {
      "text/html": [
       "<div>\n",
       "<style scoped>\n",
       "    .dataframe tbody tr th:only-of-type {\n",
       "        vertical-align: middle;\n",
       "    }\n",
       "\n",
       "    .dataframe tbody tr th {\n",
       "        vertical-align: top;\n",
       "    }\n",
       "\n",
       "    .dataframe thead th {\n",
       "        text-align: right;\n",
       "    }\n",
       "</style>\n",
       "<table border=\"1\" class=\"dataframe\">\n",
       "  <thead>\n",
       "    <tr style=\"text-align: right;\">\n",
       "      <th></th>\n",
       "      <th>JEOM_NO</th>\n",
       "      <th>JEOM_NAME</th>\n",
       "    </tr>\n",
       "  </thead>\n",
       "  <tbody>\n",
       "    <tr>\n",
       "      <th>0</th>\n",
       "      <td>63</td>\n",
       "      <td>금융개발부</td>\n",
       "    </tr>\n",
       "    <tr>\n",
       "      <th>1</th>\n",
       "      <td>66</td>\n",
       "      <td>기관개발부</td>\n",
       "    </tr>\n",
       "    <tr>\n",
       "      <th>...</th>\n",
       "      <td>...</td>\n",
       "      <td>...</td>\n",
       "    </tr>\n",
       "    <tr>\n",
       "      <th>6</th>\n",
       "      <td>61</td>\n",
       "      <td>ICT운영부</td>\n",
       "    </tr>\n",
       "    <tr>\n",
       "      <th>7</th>\n",
       "      <td>507</td>\n",
       "      <td>정보개발부</td>\n",
       "    </tr>\n",
       "  </tbody>\n",
       "</table>\n",
       "<p>8 rows × 2 columns</p>\n",
       "</div>"
      ],
      "text/plain": [
       "    JEOM_NO                    JEOM_NAME\n",
       "0        63    금융개발부                    \n",
       "1        66    기관개발부                    \n",
       "..      ...                          ...\n",
       "6        61  ICT운영부                     \n",
       "7       507    정보개발부                    \n",
       "\n",
       "[8 rows x 2 columns]"
      ]
     },
     "execution_count": 12,
     "metadata": {},
     "output_type": "execute_result"
    }
   ],
   "source": [
    "jeom"
   ]
  },
  {
   "cell_type": "markdown",
   "metadata": {},
   "source": [
    "**직위**"
   ]
  },
  {
   "cell_type": "code",
   "execution_count": 13,
   "metadata": {},
   "outputs": [],
   "source": [
    "jikwhi = jikwon_data[['JIKWHI', 'JIKWHI_NAME']].drop_duplicates().reset_index(drop=True)"
   ]
  },
  {
   "cell_type": "code",
   "execution_count": 14,
   "metadata": {},
   "outputs": [
    {
     "data": {
      "text/html": [
       "<div>\n",
       "<style scoped>\n",
       "    .dataframe tbody tr th:only-of-type {\n",
       "        vertical-align: middle;\n",
       "    }\n",
       "\n",
       "    .dataframe tbody tr th {\n",
       "        vertical-align: top;\n",
       "    }\n",
       "\n",
       "    .dataframe thead th {\n",
       "        text-align: right;\n",
       "    }\n",
       "</style>\n",
       "<table border=\"1\" class=\"dataframe\">\n",
       "  <thead>\n",
       "    <tr style=\"text-align: right;\">\n",
       "      <th></th>\n",
       "      <th>JIKWHI</th>\n",
       "      <th>JIKWHI_NAME</th>\n",
       "    </tr>\n",
       "  </thead>\n",
       "  <tbody>\n",
       "    <tr>\n",
       "      <th>0</th>\n",
       "      <td>20164</td>\n",
       "      <td>대리</td>\n",
       "    </tr>\n",
       "    <tr>\n",
       "      <th>1</th>\n",
       "      <td>20112</td>\n",
       "      <td>차장</td>\n",
       "    </tr>\n",
       "    <tr>\n",
       "      <th>...</th>\n",
       "      <td>...</td>\n",
       "      <td>...</td>\n",
       "    </tr>\n",
       "    <tr>\n",
       "      <th>9</th>\n",
       "      <td>20019</td>\n",
       "      <td>본부장</td>\n",
       "    </tr>\n",
       "    <tr>\n",
       "      <th>10</th>\n",
       "      <td>20399</td>\n",
       "      <td>팀장(부서장대우)</td>\n",
       "    </tr>\n",
       "  </tbody>\n",
       "</table>\n",
       "<p>11 rows × 2 columns</p>\n",
       "</div>"
      ],
      "text/plain": [
       "    JIKWHI JIKWHI_NAME\n",
       "0    20164          대리\n",
       "1    20112          차장\n",
       "..     ...         ...\n",
       "9    20019         본부장\n",
       "10   20399   팀장(부서장대우)\n",
       "\n",
       "[11 rows x 2 columns]"
      ]
     },
     "execution_count": 14,
     "metadata": {},
     "output_type": "execute_result"
    }
   ],
   "source": [
    "jikwhi"
   ]
  },
  {
   "cell_type": "markdown",
   "metadata": {},
   "source": [
    "**직무**"
   ]
  },
  {
   "cell_type": "code",
   "execution_count": 15,
   "metadata": {},
   "outputs": [
    {
     "data": {
      "text/plain": [
       "(67, 2)"
      ]
     },
     "execution_count": 15,
     "metadata": {},
     "output_type": "execute_result"
    }
   ],
   "source": [
    "jkmu = jikwon_data[['JUJKMU_C', 'JUJKMU_NM']].drop_duplicates().reset_index(drop=True)\n",
    "jkmu.shape"
   ]
  },
  {
   "cell_type": "code",
   "execution_count": 16,
   "metadata": {},
   "outputs": [
    {
     "data": {
      "text/plain": [
       "(8, 2)"
      ]
     },
     "execution_count": 16,
     "metadata": {},
     "output_type": "execute_result"
    }
   ],
   "source": [
    "jkmu2 = jikwon_data[['BUJKMU_C', 'BUJKMU_NM']].drop_duplicates().reset_index(drop=True).rename(columns = {'BUJKMU_C': 'JUJKMU_C', 'BUJKMU_NM': 'JUJKMU_NM'}, inplace = False)\n",
    "jkmu2.shape"
   ]
  },
  {
   "cell_type": "code",
   "execution_count": 17,
   "metadata": {},
   "outputs": [],
   "source": [
    "jkmu = pd.concat([jkmu, jkmu2], axis=0).drop_duplicates().reset_index(drop=True)"
   ]
  },
  {
   "cell_type": "code",
   "execution_count": 18,
   "metadata": {
    "scrolled": false
   },
   "outputs": [
    {
     "data": {
      "text/html": [
       "<div>\n",
       "<style scoped>\n",
       "    .dataframe tbody tr th:only-of-type {\n",
       "        vertical-align: middle;\n",
       "    }\n",
       "\n",
       "    .dataframe tbody tr th {\n",
       "        vertical-align: top;\n",
       "    }\n",
       "\n",
       "    .dataframe thead th {\n",
       "        text-align: right;\n",
       "    }\n",
       "</style>\n",
       "<table border=\"1\" class=\"dataframe\">\n",
       "  <thead>\n",
       "    <tr style=\"text-align: right;\">\n",
       "      <th></th>\n",
       "      <th>JUJKMU_C</th>\n",
       "      <th>JUJKMU_NM</th>\n",
       "    </tr>\n",
       "  </thead>\n",
       "  <tbody>\n",
       "    <tr>\n",
       "      <th>0</th>\n",
       "      <td>11609.0</td>\n",
       "      <td>펌/가상</td>\n",
       "    </tr>\n",
       "    <tr>\n",
       "      <th>1</th>\n",
       "      <td>11614.0</td>\n",
       "      <td>시도금고 공금예금</td>\n",
       "    </tr>\n",
       "    <tr>\n",
       "      <th>...</th>\n",
       "      <td>...</td>\n",
       "      <td>...</td>\n",
       "    </tr>\n",
       "    <tr>\n",
       "      <th>66</th>\n",
       "      <td>10961.0</td>\n",
       "      <td>본부운용지원(기타)</td>\n",
       "    </tr>\n",
       "    <tr>\n",
       "      <th>67</th>\n",
       "      <td>11618.0</td>\n",
       "      <td>공공기관</td>\n",
       "    </tr>\n",
       "  </tbody>\n",
       "</table>\n",
       "<p>68 rows × 2 columns</p>\n",
       "</div>"
      ],
      "text/plain": [
       "    JUJKMU_C   JUJKMU_NM\n",
       "0    11609.0        펌/가상\n",
       "1    11614.0   시도금고 공금예금\n",
       "..       ...         ...\n",
       "66   10961.0  본부운용지원(기타)\n",
       "67   11618.0        공공기관\n",
       "\n",
       "[68 rows x 2 columns]"
      ]
     },
     "execution_count": 18,
     "metadata": {},
     "output_type": "execute_result"
    }
   ],
   "source": [
    "jkmu"
   ]
  },
  {
   "cell_type": "markdown",
   "metadata": {},
   "source": [
    "### 3. 데이터 선별"
   ]
  },
  {
   "cell_type": "code",
   "execution_count": 19,
   "metadata": {},
   "outputs": [],
   "source": [
    "jikwon_columns = ['JIKWON_NO', 'JEOM_NO', 'JIKGUN', 'JIKGEUB', 'JIKWHI', 'JIKWHI2', 'JUJKMU_C',\n",
    "                  'JUJKMU_RATE', 'BUJKMU_C', 'BUJKMU_RATE', 'JUMJANG_G', 'HOBONG', 'BUIM_ILJA']"
   ]
  },
  {
   "cell_type": "code",
   "execution_count": 20,
   "metadata": {},
   "outputs": [],
   "source": [
    "jikwon_data = jikwon_data[jikwon_columns].reset_index(drop=True)"
   ]
  },
  {
   "cell_type": "markdown",
   "metadata": {},
   "source": [
    "### 4. 최종"
   ]
  },
  {
   "cell_type": "code",
   "execution_count": 21,
   "metadata": {},
   "outputs": [
    {
     "data": {
      "text/html": [
       "<div>\n",
       "<style scoped>\n",
       "    .dataframe tbody tr th:only-of-type {\n",
       "        vertical-align: middle;\n",
       "    }\n",
       "\n",
       "    .dataframe tbody tr th {\n",
       "        vertical-align: top;\n",
       "    }\n",
       "\n",
       "    .dataframe thead th {\n",
       "        text-align: right;\n",
       "    }\n",
       "</style>\n",
       "<table border=\"1\" class=\"dataframe\">\n",
       "  <thead>\n",
       "    <tr style=\"text-align: right;\">\n",
       "      <th></th>\n",
       "      <th>JIKWON_NO</th>\n",
       "      <th>JEOM_NO</th>\n",
       "      <th>JIKGUN</th>\n",
       "      <th>JIKGEUB</th>\n",
       "      <th>JIKWHI</th>\n",
       "      <th>JIKWHI2</th>\n",
       "      <th>JUJKMU_C</th>\n",
       "      <th>JUJKMU_RATE</th>\n",
       "      <th>BUJKMU_C</th>\n",
       "      <th>BUJKMU_RATE</th>\n",
       "      <th>JUMJANG_G</th>\n",
       "      <th>HOBONG</th>\n",
       "      <th>BUIM_ILJA</th>\n",
       "    </tr>\n",
       "  </thead>\n",
       "  <tbody>\n",
       "    <tr>\n",
       "      <th>0</th>\n",
       "      <td>20101491</td>\n",
       "      <td>63</td>\n",
       "      <td>20004</td>\n",
       "      <td>5</td>\n",
       "      <td>20164</td>\n",
       "      <td>3</td>\n",
       "      <td>11609.0</td>\n",
       "      <td>100.0</td>\n",
       "      <td>NaN</td>\n",
       "      <td>0.0</td>\n",
       "      <td>0</td>\n",
       "      <td>43440</td>\n",
       "      <td>20210201</td>\n",
       "    </tr>\n",
       "    <tr>\n",
       "      <th>1</th>\n",
       "      <td>7101368</td>\n",
       "      <td>66</td>\n",
       "      <td>20004</td>\n",
       "      <td>4</td>\n",
       "      <td>20112</td>\n",
       "      <td>2</td>\n",
       "      <td>11614.0</td>\n",
       "      <td>100.0</td>\n",
       "      <td>NaN</td>\n",
       "      <td>0.0</td>\n",
       "      <td>0</td>\n",
       "      <td>26530</td>\n",
       "      <td>20180619</td>\n",
       "    </tr>\n",
       "    <tr>\n",
       "      <th>...</th>\n",
       "      <td>...</td>\n",
       "      <td>...</td>\n",
       "      <td>...</td>\n",
       "      <td>...</td>\n",
       "      <td>...</td>\n",
       "      <td>...</td>\n",
       "      <td>...</td>\n",
       "      <td>...</td>\n",
       "      <td>...</td>\n",
       "      <td>...</td>\n",
       "      <td>...</td>\n",
       "      <td>...</td>\n",
       "      <td>...</td>\n",
       "    </tr>\n",
       "    <tr>\n",
       "      <th>430</th>\n",
       "      <td>10618082</td>\n",
       "      <td>61</td>\n",
       "      <td>40002</td>\n",
       "      <td>99999</td>\n",
       "      <td>20456</td>\n",
       "      <td>9</td>\n",
       "      <td>10961.0</td>\n",
       "      <td>100.0</td>\n",
       "      <td>NaN</td>\n",
       "      <td>0.0</td>\n",
       "      <td>0</td>\n",
       "      <td>99998</td>\n",
       "      <td>20200203</td>\n",
       "    </tr>\n",
       "    <tr>\n",
       "      <th>431</th>\n",
       "      <td>18101798</td>\n",
       "      <td>63</td>\n",
       "      <td>20004</td>\n",
       "      <td>5</td>\n",
       "      <td>20258</td>\n",
       "      <td>3</td>\n",
       "      <td>11029.0</td>\n",
       "      <td>100.0</td>\n",
       "      <td>NaN</td>\n",
       "      <td>0.0</td>\n",
       "      <td>0</td>\n",
       "      <td>45405</td>\n",
       "      <td>20180907</td>\n",
       "    </tr>\n",
       "  </tbody>\n",
       "</table>\n",
       "<p>432 rows × 13 columns</p>\n",
       "</div>"
      ],
      "text/plain": [
       "     JIKWON_NO  JEOM_NO  JIKGUN  JIKGEUB  JIKWHI  JIKWHI2  JUJKMU_C  \\\n",
       "0     20101491       63   20004        5   20164        3   11609.0   \n",
       "1      7101368       66   20004        4   20112        2   11614.0   \n",
       "..         ...      ...     ...      ...     ...      ...       ...   \n",
       "430   10618082       61   40002    99999   20456        9   10961.0   \n",
       "431   18101798       63   20004        5   20258        3   11029.0   \n",
       "\n",
       "     JUJKMU_RATE  BUJKMU_C  BUJKMU_RATE  JUMJANG_G  HOBONG  BUIM_ILJA  \n",
       "0          100.0       NaN          0.0          0   43440   20210201  \n",
       "1          100.0       NaN          0.0          0   26530   20180619  \n",
       "..           ...       ...          ...        ...     ...        ...  \n",
       "430        100.0       NaN          0.0          0   99998   20200203  \n",
       "431        100.0       NaN          0.0          0   45405   20180907  \n",
       "\n",
       "[432 rows x 13 columns]"
      ]
     },
     "metadata": {},
     "output_type": "display_data"
    }
   ],
   "source": [
    "display(jikwon_data)"
   ]
  },
  {
   "cell_type": "markdown",
   "metadata": {},
   "source": [
    "# Preprocessing _ Program"
   ]
  },
  {
   "cell_type": "code",
   "execution_count": 22,
   "metadata": {},
   "outputs": [
    {
     "data": {
      "text/html": [
       "<div>\n",
       "<style scoped>\n",
       "    .dataframe tbody tr th:only-of-type {\n",
       "        vertical-align: middle;\n",
       "    }\n",
       "\n",
       "    .dataframe tbody tr th {\n",
       "        vertical-align: top;\n",
       "    }\n",
       "\n",
       "    .dataframe thead th {\n",
       "        text-align: right;\n",
       "    }\n",
       "</style>\n",
       "<table border=\"1\" class=\"dataframe\">\n",
       "  <thead>\n",
       "    <tr style=\"text-align: right;\">\n",
       "      <th></th>\n",
       "      <th>COL01</th>\n",
       "      <th>COL02</th>\n",
       "      <th>COL03</th>\n",
       "      <th>COL04</th>\n",
       "      <th>COL05</th>\n",
       "      <th>COL06</th>\n",
       "      <th>COL07</th>\n",
       "      <th>COL08</th>\n",
       "      <th>COL09</th>\n",
       "      <th>COL10</th>\n",
       "      <th>COL11</th>\n",
       "      <th>COL12</th>\n",
       "      <th>COL13</th>\n",
       "      <th>COL14</th>\n",
       "      <th>COL15</th>\n",
       "      <th>dw_lst_jukja_dt</th>\n",
       "    </tr>\n",
       "  </thead>\n",
       "  <tbody>\n",
       "    <tr>\n",
       "      <th>0</th>\n",
       "      <td>코어</td>\n",
       "      <td>수신</td>\n",
       "      <td>수신 공통</td>\n",
       "      <td>채널매핑룰</td>\n",
       "      <td>A0_0003200002_SSDM0320A001_I</td>\n",
       "      <td>이창건</td>\n",
       "      <td>BK08101329</td>\n",
       "      <td>P2020-15765-01</td>\n",
       "      <td>20201228</td>\n",
       "      <td>수정</td>\n",
       "      <td>2020-04-059662</td>\n",
       "      <td>/webdev/chl1/CHLDownload/trans/mappingrule</td>\n",
       "      <td>코어</td>\n",
       "      <td>6</td>\n",
       "      <td>0</td>\n",
       "      <td>20210407</td>\n",
       "    </tr>\n",
       "    <tr>\n",
       "      <th>1</th>\n",
       "      <td>프로프레임4.0</td>\n",
       "      <td>JPK-일본ROC</td>\n",
       "      <td>글로벌여신</td>\n",
       "      <td>프로프레임소스(.c)</td>\n",
       "      <td>sgle9999a.c</td>\n",
       "      <td>박창언</td>\n",
       "      <td>BK10101011</td>\n",
       "      <td>P2020-09188-02</td>\n",
       "      <td>20200818</td>\n",
       "      <td>신규</td>\n",
       "      <td>2020-04-042659</td>\n",
       "      <td>/jpsdev/gln/src</td>\n",
       "      <td>DS_글로벌뱅킹3</td>\n",
       "      <td>1</td>\n",
       "      <td>695</td>\n",
       "      <td>20210407</td>\n",
       "    </tr>\n",
       "    <tr>\n",
       "      <th>...</th>\n",
       "      <td>...</td>\n",
       "      <td>...</td>\n",
       "      <td>...</td>\n",
       "      <td>...</td>\n",
       "      <td>...</td>\n",
       "      <td>...</td>\n",
       "      <td>...</td>\n",
       "      <td>...</td>\n",
       "      <td>...</td>\n",
       "      <td>...</td>\n",
       "      <td>...</td>\n",
       "      <td>...</td>\n",
       "      <td>...</td>\n",
       "      <td>...</td>\n",
       "      <td>...</td>\n",
       "      <td>...</td>\n",
       "    </tr>\n",
       "    <tr>\n",
       "      <th>319996</th>\n",
       "      <td>프로프레임4.0</td>\n",
       "      <td>TSM-신신탁</td>\n",
       "      <td>신탁펀드등록</td>\n",
       "      <td>HTML5_xml</td>\n",
       "      <td>284016P002.xml</td>\n",
       "      <td>이세연</td>\n",
       "      <td>BK19100736</td>\n",
       "      <td>P2018-7039-01</td>\n",
       "      <td>20200109</td>\n",
       "      <td>수정</td>\n",
       "      <td>2020-04-002825</td>\n",
       "      <td>/src/tpm/tfr/screen/popup</td>\n",
       "      <td>신탁</td>\n",
       "      <td>3</td>\n",
       "      <td>4</td>\n",
       "      <td>20210407</td>\n",
       "    </tr>\n",
       "    <tr>\n",
       "      <th>319997</th>\n",
       "      <td>단위</td>\n",
       "      <td>(U2L)단위-통합CRM</td>\n",
       "      <td>단위-통합CRM</td>\n",
       "      <td>FLEX(/src 파일)</td>\n",
       "      <td>F358135P000.mxml</td>\n",
       "      <td>신현국</td>\n",
       "      <td>BK06142869</td>\n",
       "      <td>P2020-03458-01</td>\n",
       "      <td>20200717</td>\n",
       "      <td>신규</td>\n",
       "      <td>2020-04-SCM731</td>\n",
       "      <td>/flexdev/src/ocs/ucs/screen/component/popup</td>\n",
       "      <td>ICTRM</td>\n",
       "      <td>1</td>\n",
       "      <td>326</td>\n",
       "      <td>20210407</td>\n",
       "    </tr>\n",
       "  </tbody>\n",
       "</table>\n",
       "<p>319998 rows × 16 columns</p>\n",
       "</div>"
      ],
      "text/plain": [
       "           COL01          COL02     COL03          COL04  \\\n",
       "0             코어             수신     수신 공통          채널매핑룰   \n",
       "1       프로프레임4.0      JPK-일본ROC     글로벌여신    프로프레임소스(.c)   \n",
       "...          ...            ...       ...            ...   \n",
       "319996  프로프레임4.0        TSM-신신탁    신탁펀드등록      HTML5_xml   \n",
       "319997        단위  (U2L)단위-통합CRM  단위-통합CRM  FLEX(/src 파일)   \n",
       "\n",
       "                               COL05 COL06       COL07           COL08  \\\n",
       "0       A0_0003200002_SSDM0320A001_I   이창건  BK08101329  P2020-15765-01   \n",
       "1                        sgle9999a.c   박창언  BK10101011  P2020-09188-02   \n",
       "...                              ...   ...         ...             ...   \n",
       "319996                284016P002.xml   이세연  BK19100736   P2018-7039-01   \n",
       "319997              F358135P000.mxml   신현국  BK06142869  P2020-03458-01   \n",
       "\n",
       "           COL09 COL10           COL11  \\\n",
       "0       20201228    수정  2020-04-059662   \n",
       "1       20200818    신규  2020-04-042659   \n",
       "...          ...   ...             ...   \n",
       "319996  20200109    수정  2020-04-002825   \n",
       "319997  20200717    신규  2020-04-SCM731   \n",
       "\n",
       "                                              COL12      COL13  COL14  COL15  \\\n",
       "0        /webdev/chl1/CHLDownload/trans/mappingrule         코어      6      0   \n",
       "1                                   /jpsdev/gln/src  DS_글로벌뱅킹3      1    695   \n",
       "...                                             ...        ...    ...    ...   \n",
       "319996                    /src/tpm/tfr/screen/popup         신탁      3      4   \n",
       "319997  /flexdev/src/ocs/ucs/screen/component/popup      ICTRM      1    326   \n",
       "\n",
       "        dw_lst_jukja_dt  \n",
       "0              20210407  \n",
       "1              20210407  \n",
       "...                 ...  \n",
       "319996         20210407  \n",
       "319997         20210407  \n",
       "\n",
       "[319998 rows x 16 columns]"
      ]
     },
     "metadata": {},
     "output_type": "display_data"
    }
   ],
   "source": [
    "display(program_change_1)"
   ]
  },
  {
   "cell_type": "markdown",
   "metadata": {},
   "source": [
    "### 1. Combine Program Data\n",
    "\n",
    "데이터 조인에 앞서 프로그램 변경이력의 경우 2개의 dataframe으로 나뉘어져 있기 때문에 이를 합치도록 한다"
   ]
  },
  {
   "cell_type": "code",
   "execution_count": 23,
   "metadata": {},
   "outputs": [],
   "source": [
    "program = pd.concat([program_change_1, program_change_2], axis=0)"
   ]
  },
  {
   "cell_type": "code",
   "execution_count": 24,
   "metadata": {
    "scrolled": true
   },
   "outputs": [
    {
     "name": "stdout",
     "output_type": "stream",
     "text": [
      "(319998, 16)\n",
      "(318125, 16)\n",
      "(638123, 16)\n"
     ]
    }
   ],
   "source": [
    "print(program_change_1.shape)\n",
    "print(program_change_2.shape)\n",
    "print(program.shape)"
   ]
  },
  {
   "cell_type": "markdown",
   "metadata": {},
   "source": [
    "### 2. 데이터 선별"
   ]
  },
  {
   "cell_type": "code",
   "execution_count": 25,
   "metadata": {},
   "outputs": [],
   "source": [
    "program_columns = ['COL01', 'COL02', 'COL03', 'COL04', 'COL05', 'COL07', 'COL08', 'COL09', 'COL10', 'COL11', 'COL12']"
   ]
  },
  {
   "cell_type": "code",
   "execution_count": 26,
   "metadata": {},
   "outputs": [],
   "source": [
    "program_data = program[program_columns]"
   ]
  },
  {
   "cell_type": "markdown",
   "metadata": {},
   "source": [
    "### 3. 행번 전처리\n",
    "직원 데이터의 직원번호는 **int형**인 반면, 프로그램 데이터의 직원번호는 'BK' + 행번 형태의 **object형**임을 확인할 수 있다"
   ]
  },
  {
   "cell_type": "code",
   "execution_count": 27,
   "metadata": {},
   "outputs": [
    {
     "data": {
      "text/plain": [
       "0      20101491\n",
       "1       7101368\n",
       "         ...   \n",
       "430    10618082\n",
       "431    18101798\n",
       "Name: JIKWON_NO, Length: 432, dtype: int64"
      ]
     },
     "execution_count": 27,
     "metadata": {},
     "output_type": "execute_result"
    }
   ],
   "source": [
    "jikwon_data['JIKWON_NO']"
   ]
  },
  {
   "cell_type": "code",
   "execution_count": 28,
   "metadata": {
    "scrolled": true
   },
   "outputs": [
    {
     "data": {
      "text/plain": [
       "0         BK08101329\n",
       "1         BK10101011\n",
       "             ...    \n",
       "318123    BK20200821\n",
       "318124    BK16111008\n",
       "Name: COL07, Length: 638123, dtype: object"
      ]
     },
     "execution_count": 28,
     "metadata": {},
     "output_type": "execute_result"
    }
   ],
   "source": [
    "program_data['COL07']"
   ]
  },
  {
   "cell_type": "markdown",
   "metadata": {},
   "source": [
    "프로그램 데이터의 직원번호를 직원데이터와 형태가 일치하도록 수정한다\n",
    "\n",
    "그 전에, 모든 직원번호가 **BK + 행번** 형태인지 확인하자"
   ]
  },
  {
   "cell_type": "code",
   "execution_count": 29,
   "metadata": {
    "scrolled": true
   },
   "outputs": [
    {
     "data": {
      "text/plain": [
       "619       SGO001348\n",
       "716       SGO001338\n",
       "            ...    \n",
       "317327    SGO001348\n",
       "317900    SGO001354\n",
       "Name: COL07, Length: 1107, dtype: object"
      ]
     },
     "execution_count": 29,
     "metadata": {},
     "output_type": "execute_result"
    }
   ],
   "source": [
    "program_data[program_data['COL07'].str[:2] != 'BK'].COL07"
   ]
  },
  {
   "cell_type": "markdown",
   "metadata": {},
   "source": [
    "이렇듯, BK로 시작하지 않는, 다시 말해 당행 직원이 아닌 데이터가 있다\n",
    "\n",
    "해당 데이터는 현재 단계에서 필요하지 않기 때문에 제외하도록 한다"
   ]
  },
  {
   "cell_type": "code",
   "execution_count": 30,
   "metadata": {},
   "outputs": [
    {
     "name": "stdout",
     "output_type": "stream",
     "text": [
      "(638123, 11)->(637016, 11)\n"
     ]
    }
   ],
   "source": [
    "print(program_data.shape, end=\"->\")\n",
    "program_data = program_data[program_data['COL07'].str[:2] == 'BK']\n",
    "print(program_data.shape)"
   ]
  },
  {
   "cell_type": "markdown",
   "metadata": {},
   "source": [
    "이제 다시 직원데이터와 형태가 일치하도록 변경한다"
   ]
  },
  {
   "cell_type": "code",
   "execution_count": 31,
   "metadata": {},
   "outputs": [],
   "source": [
    "program_data['COL07'] = program_data['COL07'].str[2:].astype(int)"
   ]
  },
  {
   "cell_type": "markdown",
   "metadata": {},
   "source": [
    "### 3. Rename columns\n",
    "Program 데이터의 경우 컬럼명이 실제 컬럼값을 대변하지 않는 것을 확인할 수 있는데, 컬럼값을 보면서 컬럼을 유추해야한다"
   ]
  },
  {
   "cell_type": "code",
   "execution_count": 32,
   "metadata": {},
   "outputs": [],
   "source": [
    "rename_columns = {'COL01': '시스템구분', 'COL04': '프로그램종류', 'COL05': '프로그램명',\n",
    "                  'COL07': '변경자', 'COL08': '프로젝트번호', 'COL09': '변경일자', 'COL10': '변경구분',\n",
    "                  'COL11': '신청번호', 'COL12': '경로'}"
   ]
  },
  {
   "cell_type": "code",
   "execution_count": 33,
   "metadata": {},
   "outputs": [],
   "source": [
    "program_data = program_data.rename(columns = rename_columns, inplace = False)"
   ]
  },
  {
   "cell_type": "markdown",
   "metadata": {},
   "source": [
    "### 4. 날짜 데이터타입 변경\n",
    "변경일자 컬럼은 날짜임에도 int형으로 되어있는데, 이를 날짜 형태로 바꾸도록 한다"
   ]
  },
  {
   "cell_type": "code",
   "execution_count": 34,
   "metadata": {
    "scrolled": true
   },
   "outputs": [
    {
     "name": "stdout",
     "output_type": "stream",
     "text": [
      "<class 'pandas.core.frame.DataFrame'>\n",
      "Int64Index: 637016 entries, 0 to 318124\n",
      "Data columns (total 1 columns):\n",
      " #   Column  Non-Null Count   Dtype\n",
      "---  ------  --------------   -----\n",
      " 0   변경일자    637016 non-null  int64\n",
      "dtypes: int64(1)\n",
      "memory usage: 9.7 MB\n"
     ]
    }
   ],
   "source": [
    "program_data[['변경일자']].info()"
   ]
  },
  {
   "cell_type": "code",
   "execution_count": 35,
   "metadata": {},
   "outputs": [],
   "source": [
    "program_data[['변경일자']] = pd.to_datetime(program_data['변경일자'], format='%Y%m%d')"
   ]
  },
  {
   "cell_type": "code",
   "execution_count": 36,
   "metadata": {},
   "outputs": [
    {
     "name": "stdout",
     "output_type": "stream",
     "text": [
      "<class 'pandas.core.frame.DataFrame'>\n",
      "Int64Index: 637016 entries, 0 to 318124\n",
      "Data columns (total 1 columns):\n",
      " #   Column  Non-Null Count   Dtype         \n",
      "---  ------  --------------   -----         \n",
      " 0   변경일자    637016 non-null  datetime64[ns]\n",
      "dtypes: datetime64[ns](1)\n",
      "memory usage: 9.7 MB\n"
     ]
    }
   ],
   "source": [
    "program_data[['변경일자']].info()"
   ]
  },
  {
   "cell_type": "markdown",
   "metadata": {},
   "source": [
    "### 5. 최종"
   ]
  },
  {
   "cell_type": "code",
   "execution_count": 37,
   "metadata": {},
   "outputs": [
    {
     "data": {
      "text/html": [
       "<div>\n",
       "<style scoped>\n",
       "    .dataframe tbody tr th:only-of-type {\n",
       "        vertical-align: middle;\n",
       "    }\n",
       "\n",
       "    .dataframe tbody tr th {\n",
       "        vertical-align: top;\n",
       "    }\n",
       "\n",
       "    .dataframe thead th {\n",
       "        text-align: right;\n",
       "    }\n",
       "</style>\n",
       "<table border=\"1\" class=\"dataframe\">\n",
       "  <thead>\n",
       "    <tr style=\"text-align: right;\">\n",
       "      <th></th>\n",
       "      <th>시스템구분</th>\n",
       "      <th>COL02</th>\n",
       "      <th>COL03</th>\n",
       "      <th>프로그램종류</th>\n",
       "      <th>프로그램명</th>\n",
       "      <th>변경자</th>\n",
       "      <th>프로젝트번호</th>\n",
       "      <th>변경일자</th>\n",
       "      <th>변경구분</th>\n",
       "      <th>신청번호</th>\n",
       "      <th>경로</th>\n",
       "    </tr>\n",
       "  </thead>\n",
       "  <tbody>\n",
       "    <tr>\n",
       "      <th>0</th>\n",
       "      <td>코어</td>\n",
       "      <td>수신</td>\n",
       "      <td>수신 공통</td>\n",
       "      <td>채널매핑룰</td>\n",
       "      <td>A0_0003200002_SSDM0320A001_I</td>\n",
       "      <td>8101329</td>\n",
       "      <td>P2020-15765-01</td>\n",
       "      <td>2020-12-28</td>\n",
       "      <td>수정</td>\n",
       "      <td>2020-04-059662</td>\n",
       "      <td>/webdev/chl1/CHLDownload/trans/mappingrule</td>\n",
       "    </tr>\n",
       "    <tr>\n",
       "      <th>1</th>\n",
       "      <td>프로프레임4.0</td>\n",
       "      <td>JPK-일본ROC</td>\n",
       "      <td>글로벌여신</td>\n",
       "      <td>프로프레임소스(.c)</td>\n",
       "      <td>sgle9999a.c</td>\n",
       "      <td>10101011</td>\n",
       "      <td>P2020-09188-02</td>\n",
       "      <td>2020-08-18</td>\n",
       "      <td>신규</td>\n",
       "      <td>2020-04-042659</td>\n",
       "      <td>/jpsdev/gln/src</td>\n",
       "    </tr>\n",
       "    <tr>\n",
       "      <th>...</th>\n",
       "      <td>...</td>\n",
       "      <td>...</td>\n",
       "      <td>...</td>\n",
       "      <td>...</td>\n",
       "      <td>...</td>\n",
       "      <td>...</td>\n",
       "      <td>...</td>\n",
       "      <td>...</td>\n",
       "      <td>...</td>\n",
       "      <td>...</td>\n",
       "      <td>...</td>\n",
       "    </tr>\n",
       "    <tr>\n",
       "      <th>318123</th>\n",
       "      <td>프로프레임4.0</td>\n",
       "      <td>CAS-캐나다ROC</td>\n",
       "      <td>글로벌공통</td>\n",
       "      <td>FLEX(/src 파일)</td>\n",
       "      <td>F429675A000as.as</td>\n",
       "      <td>20200821</td>\n",
       "      <td>P2020-13019-01</td>\n",
       "      <td>2020-12-14</td>\n",
       "      <td>수정</td>\n",
       "      <td>2020-04-057678</td>\n",
       "      <td>/flexdev/src/cas/gcm/screen</td>\n",
       "    </tr>\n",
       "    <tr>\n",
       "      <th>318124</th>\n",
       "      <td>웹컨텐츠</td>\n",
       "      <td>sharedPlatform2018</td>\n",
       "      <td>sharedPlatform2018</td>\n",
       "      <td>웹_JSP</td>\n",
       "      <td>NPIVST05020101_pilot.jsp</td>\n",
       "      <td>16111008</td>\n",
       "      <td>P2020-0818-01</td>\n",
       "      <td>2020-02-04</td>\n",
       "      <td>신규</td>\n",
       "      <td>2020-04-008829</td>\n",
       "      <td>/sharedPlatform2018/newPension/common/main</td>\n",
       "    </tr>\n",
       "  </tbody>\n",
       "</table>\n",
       "<p>637016 rows × 11 columns</p>\n",
       "</div>"
      ],
      "text/plain": [
       "           시스템구분               COL02               COL03         프로그램종류  \\\n",
       "0             코어                  수신               수신 공통          채널매핑룰   \n",
       "1       프로프레임4.0           JPK-일본ROC               글로벌여신    프로프레임소스(.c)   \n",
       "...          ...                 ...                 ...            ...   \n",
       "318123  프로프레임4.0          CAS-캐나다ROC               글로벌공통  FLEX(/src 파일)   \n",
       "318124      웹컨텐츠  sharedPlatform2018  sharedPlatform2018          웹_JSP   \n",
       "\n",
       "                               프로그램명       변경자          프로젝트번호       변경일자  \\\n",
       "0       A0_0003200002_SSDM0320A001_I   8101329  P2020-15765-01 2020-12-28   \n",
       "1                        sgle9999a.c  10101011  P2020-09188-02 2020-08-18   \n",
       "...                              ...       ...             ...        ...   \n",
       "318123              F429675A000as.as  20200821  P2020-13019-01 2020-12-14   \n",
       "318124      NPIVST05020101_pilot.jsp  16111008   P2020-0818-01 2020-02-04   \n",
       "\n",
       "       변경구분            신청번호                                          경로  \n",
       "0        수정  2020-04-059662  /webdev/chl1/CHLDownload/trans/mappingrule  \n",
       "1        신규  2020-04-042659                             /jpsdev/gln/src  \n",
       "...     ...             ...                                         ...  \n",
       "318123   수정  2020-04-057678                 /flexdev/src/cas/gcm/screen  \n",
       "318124   신규  2020-04-008829  /sharedPlatform2018/newPension/common/main  \n",
       "\n",
       "[637016 rows x 11 columns]"
      ]
     },
     "metadata": {},
     "output_type": "display_data"
    }
   ],
   "source": [
    "display(program_data)"
   ]
  },
  {
   "cell_type": "markdown",
   "metadata": {},
   "source": [
    "# Merge Data\n",
    "이제 기본 인덱스로 사용할 직원 데이터에 다른 데이터를 조인하자"
   ]
  },
  {
   "cell_type": "code",
   "execution_count": 38,
   "metadata": {
    "scrolled": true
   },
   "outputs": [
    {
     "name": "stdout",
     "output_type": "stream",
     "text": [
      "JIKWON_NO JEOM_NO JIKGUN JIKGEUB JIKWHI JIKWHI2 JUJKMU_C JUJKMU_RATE BUJKMU_C BUJKMU_RATE JUMJANG_G HOBONG BUIM_ILJA\n"
     ]
    }
   ],
   "source": [
    "print(*jikwon_data.columns)"
   ]
  },
  {
   "cell_type": "code",
   "execution_count": 39,
   "metadata": {
    "scrolled": true
   },
   "outputs": [
    {
     "name": "stdout",
     "output_type": "stream",
     "text": [
      "시스템구분 COL02 COL03 프로그램종류 프로그램명 변경자 프로젝트번호 변경일자 변경구분 신청번호 경로\n"
     ]
    }
   ],
   "source": [
    "print(*program_data.columns)"
   ]
  },
  {
   "cell_type": "markdown",
   "metadata": {},
   "source": [
    "## 직원 개인\n",
    "직원 개개인이 어떤 프로젝트에 참여하여 어떤 프로그램을 신규/변경했는지 파악할 수 있는 테이블"
   ]
  },
  {
   "cell_type": "code",
   "execution_count": 40,
   "metadata": {},
   "outputs": [],
   "source": [
    "raw_data = pd.merge(left=jikwon_data, right=program_data,\n",
    "                     how='left', left_on='JIKWON_NO', right_on='변경자')\n",
    "raw_data.drop(columns=['변경자'], inplace=True)"
   ]
  },
  {
   "cell_type": "code",
   "execution_count": 41,
   "metadata": {},
   "outputs": [
    {
     "data": {
      "text/html": [
       "<div>\n",
       "<style scoped>\n",
       "    .dataframe tbody tr th:only-of-type {\n",
       "        vertical-align: middle;\n",
       "    }\n",
       "\n",
       "    .dataframe tbody tr th {\n",
       "        vertical-align: top;\n",
       "    }\n",
       "\n",
       "    .dataframe thead th {\n",
       "        text-align: right;\n",
       "    }\n",
       "</style>\n",
       "<table border=\"1\" class=\"dataframe\">\n",
       "  <thead>\n",
       "    <tr style=\"text-align: right;\">\n",
       "      <th></th>\n",
       "      <th>JIKWON_NO</th>\n",
       "      <th>JEOM_NO</th>\n",
       "      <th>JIKGUN</th>\n",
       "      <th>JIKGEUB</th>\n",
       "      <th>JIKWHI</th>\n",
       "      <th>JIKWHI2</th>\n",
       "      <th>JUJKMU_C</th>\n",
       "      <th>JUJKMU_RATE</th>\n",
       "      <th>BUJKMU_C</th>\n",
       "      <th>BUJKMU_RATE</th>\n",
       "      <th>JUMJANG_G</th>\n",
       "      <th>HOBONG</th>\n",
       "      <th>BUIM_ILJA</th>\n",
       "    </tr>\n",
       "  </thead>\n",
       "  <tbody>\n",
       "    <tr>\n",
       "      <th>count</th>\n",
       "      <td>3.700400e+05</td>\n",
       "      <td>370040.000000</td>\n",
       "      <td>370040.000000</td>\n",
       "      <td>370040.000000</td>\n",
       "      <td>370040.000000</td>\n",
       "      <td>370040.000000</td>\n",
       "      <td>368745.00000</td>\n",
       "      <td>368745.00000</td>\n",
       "      <td>5340.000000</td>\n",
       "      <td>368745.00000</td>\n",
       "      <td>370040.000000</td>\n",
       "      <td>370040.000000</td>\n",
       "      <td>3.700400e+05</td>\n",
       "    </tr>\n",
       "    <tr>\n",
       "      <th>mean</th>\n",
       "      <td>9.779173e+06</td>\n",
       "      <td>96.993547</td>\n",
       "      <td>20052.898352</td>\n",
       "      <td>85.817655</td>\n",
       "      <td>20156.793395</td>\n",
       "      <td>2.311391</td>\n",
       "      <td>11030.12436</td>\n",
       "      <td>99.28056</td>\n",
       "      <td>11541.181461</td>\n",
       "      <td>0.71944</td>\n",
       "      <td>0.000051</td>\n",
       "      <td>25976.343574</td>\n",
       "      <td>2.018147e+07</td>\n",
       "    </tr>\n",
       "    <tr>\n",
       "      <th>...</th>\n",
       "      <td>...</td>\n",
       "      <td>...</td>\n",
       "      <td>...</td>\n",
       "      <td>...</td>\n",
       "      <td>...</td>\n",
       "      <td>...</td>\n",
       "      <td>...</td>\n",
       "      <td>...</td>\n",
       "      <td>...</td>\n",
       "      <td>...</td>\n",
       "      <td>...</td>\n",
       "      <td>...</td>\n",
       "      <td>...</td>\n",
       "    </tr>\n",
       "    <tr>\n",
       "      <th>75%</th>\n",
       "      <td>1.610146e+07</td>\n",
       "      <td>69.000000</td>\n",
       "      <td>20004.000000</td>\n",
       "      <td>5.000000</td>\n",
       "      <td>20164.000000</td>\n",
       "      <td>3.000000</td>\n",
       "      <td>11201.00000</td>\n",
       "      <td>100.00000</td>\n",
       "      <td>11605.000000</td>\n",
       "      <td>0.00000</td>\n",
       "      <td>0.000000</td>\n",
       "      <td>42120.000000</td>\n",
       "      <td>2.021020e+07</td>\n",
       "    </tr>\n",
       "    <tr>\n",
       "      <th>max</th>\n",
       "      <td>2.150232e+07</td>\n",
       "      <td>507.000000</td>\n",
       "      <td>40002.000000</td>\n",
       "      <td>99999.000000</td>\n",
       "      <td>31036.000000</td>\n",
       "      <td>9.000000</td>\n",
       "      <td>11641.00000</td>\n",
       "      <td>100.00000</td>\n",
       "      <td>11618.000000</td>\n",
       "      <td>50.00000</td>\n",
       "      <td>3.000000</td>\n",
       "      <td>99998.000000</td>\n",
       "      <td>2.021041e+07</td>\n",
       "    </tr>\n",
       "  </tbody>\n",
       "</table>\n",
       "<p>8 rows × 13 columns</p>\n",
       "</div>"
      ],
      "text/plain": [
       "          JIKWON_NO        JEOM_NO         JIKGUN        JIKGEUB  \\\n",
       "count  3.700400e+05  370040.000000  370040.000000  370040.000000   \n",
       "mean   9.779173e+06      96.993547   20052.898352      85.817655   \n",
       "...             ...            ...            ...            ...   \n",
       "75%    1.610146e+07      69.000000   20004.000000       5.000000   \n",
       "max    2.150232e+07     507.000000   40002.000000   99999.000000   \n",
       "\n",
       "              JIKWHI        JIKWHI2      JUJKMU_C   JUJKMU_RATE      BUJKMU_C  \\\n",
       "count  370040.000000  370040.000000  368745.00000  368745.00000   5340.000000   \n",
       "mean    20156.793395       2.311391   11030.12436      99.28056  11541.181461   \n",
       "...              ...            ...           ...           ...           ...   \n",
       "75%     20164.000000       3.000000   11201.00000     100.00000  11605.000000   \n",
       "max     31036.000000       9.000000   11641.00000     100.00000  11618.000000   \n",
       "\n",
       "        BUJKMU_RATE      JUMJANG_G         HOBONG     BUIM_ILJA  \n",
       "count  368745.00000  370040.000000  370040.000000  3.700400e+05  \n",
       "mean        0.71944       0.000051   25976.343574  2.018147e+07  \n",
       "...             ...            ...            ...           ...  \n",
       "75%         0.00000       0.000000   42120.000000  2.021020e+07  \n",
       "max        50.00000       3.000000   99998.000000  2.021041e+07  \n",
       "\n",
       "[8 rows x 13 columns]"
      ]
     },
     "execution_count": 41,
     "metadata": {},
     "output_type": "execute_result"
    }
   ],
   "source": [
    "raw_data.describe()"
   ]
  },
  {
   "cell_type": "markdown",
   "metadata": {},
   "source": [
    "# Preprocessing _ Project\n",
    "프로젝트 인력 데이터부터 살펴보자"
   ]
  },
  {
   "cell_type": "code",
   "execution_count": 42,
   "metadata": {
    "scrolled": true
   },
   "outputs": [
    {
     "data": {
      "text/html": [
       "<div>\n",
       "<style scoped>\n",
       "    .dataframe tbody tr th:only-of-type {\n",
       "        vertical-align: middle;\n",
       "    }\n",
       "\n",
       "    .dataframe tbody tr th {\n",
       "        vertical-align: top;\n",
       "    }\n",
       "\n",
       "    .dataframe thead th {\n",
       "        text-align: right;\n",
       "    }\n",
       "</style>\n",
       "<table border=\"1\" class=\"dataframe\">\n",
       "  <thead>\n",
       "    <tr style=\"text-align: right;\">\n",
       "      <th></th>\n",
       "      <th>프로젝트번호</th>\n",
       "      <th>행번</th>\n",
       "      <th>성명</th>\n",
       "      <th>부서명</th>\n",
       "      <th>팀명</th>\n",
       "      <th>직위</th>\n",
       "      <th>직급</th>\n",
       "      <th>역할</th>\n",
       "      <th>계획공수</th>\n",
       "      <th>실제공수</th>\n",
       "    </tr>\n",
       "  </thead>\n",
       "  <tbody>\n",
       "    <tr>\n",
       "      <th>0</th>\n",
       "      <td>P2018-1020-01</td>\n",
       "      <td>16031001</td>\n",
       "      <td>김현주</td>\n",
       "      <td>글로벌개발부</td>\n",
       "      <td>DS_글로벌뱅킹1</td>\n",
       "      <td>S부부장</td>\n",
       "      <td>기타</td>\n",
       "      <td>PM</td>\n",
       "      <td>1829</td>\n",
       "      <td>2577.0</td>\n",
       "    </tr>\n",
       "    <tr>\n",
       "      <th>1</th>\n",
       "      <td>P2018-1020-01</td>\n",
       "      <td>06172202</td>\n",
       "      <td>손현수</td>\n",
       "      <td>금융개발부</td>\n",
       "      <td>IB</td>\n",
       "      <td>수석</td>\n",
       "      <td>Ma</td>\n",
       "      <td>개발자</td>\n",
       "      <td>1</td>\n",
       "      <td>1.0</td>\n",
       "    </tr>\n",
       "    <tr>\n",
       "      <th>...</th>\n",
       "      <td>...</td>\n",
       "      <td>...</td>\n",
       "      <td>...</td>\n",
       "      <td>...</td>\n",
       "      <td>...</td>\n",
       "      <td>...</td>\n",
       "      <td>...</td>\n",
       "      <td>...</td>\n",
       "      <td>...</td>\n",
       "      <td>...</td>\n",
       "    </tr>\n",
       "    <tr>\n",
       "      <th>29989</th>\n",
       "      <td>P2021-04489-01</td>\n",
       "      <td>19200854</td>\n",
       "      <td>박지현</td>\n",
       "      <td>정보개발부</td>\n",
       "      <td>Risk</td>\n",
       "      <td>선임</td>\n",
       "      <td>5급</td>\n",
       "      <td>PM</td>\n",
       "      <td>0</td>\n",
       "      <td>30.0</td>\n",
       "    </tr>\n",
       "    <tr>\n",
       "      <th>29990</th>\n",
       "      <td>P2021-04503-01</td>\n",
       "      <td>19501668</td>\n",
       "      <td>안지성</td>\n",
       "      <td>개발 Cell (SBJ DNX)</td>\n",
       "      <td>개발 Cell (SBJ DNX)</td>\n",
       "      <td>매니저</td>\n",
       "      <td>기타</td>\n",
       "      <td>PM</td>\n",
       "      <td>1</td>\n",
       "      <td>1.0</td>\n",
       "    </tr>\n",
       "  </tbody>\n",
       "</table>\n",
       "<p>29991 rows × 10 columns</p>\n",
       "</div>"
      ],
      "text/plain": [
       "               프로젝트번호        행번   성명                부서명                 팀명  \\\n",
       "0       P2018-1020-01  16031001  김현주             글로벌개발부          DS_글로벌뱅킹1   \n",
       "1       P2018-1020-01  06172202  손현수              금융개발부                 IB   \n",
       "...               ...       ...  ...                ...                ...   \n",
       "29989  P2021-04489-01  19200854  박지현              정보개발부               Risk   \n",
       "29990  P2021-04503-01  19501668  안지성  개발 Cell (SBJ DNX)  개발 Cell (SBJ DNX)   \n",
       "\n",
       "         직위  직급   역할  계획공수    실제공수  \n",
       "0      S부부장  기타   PM  1829  2577.0  \n",
       "1        수석  Ma  개발자     1     1.0  \n",
       "...     ...  ..  ...   ...     ...  \n",
       "29989    선임  5급   PM     0    30.0  \n",
       "29990   매니저  기타   PM     1     1.0  \n",
       "\n",
       "[29991 rows x 10 columns]"
      ]
     },
     "metadata": {},
     "output_type": "display_data"
    }
   ],
   "source": [
    "display(project_jikwon)"
   ]
  },
  {
   "cell_type": "markdown",
   "metadata": {},
   "source": [
    "### 1. 인력 데이터 선별"
   ]
  },
  {
   "cell_type": "code",
   "execution_count": 43,
   "metadata": {},
   "outputs": [],
   "source": [
    "project_jikwon_columns = ['프로젝트번호', '행번', '역할']"
   ]
  },
  {
   "cell_type": "code",
   "execution_count": 44,
   "metadata": {},
   "outputs": [],
   "source": [
    "project_jikwon_data = project_jikwon[project_jikwon_columns]"
   ]
  },
  {
   "cell_type": "markdown",
   "metadata": {},
   "source": [
    "다음, 프로젝트 데이터를 살펴보자"
   ]
  },
  {
   "cell_type": "code",
   "execution_count": 45,
   "metadata": {},
   "outputs": [
    {
     "data": {
      "text/html": [
       "<div>\n",
       "<style scoped>\n",
       "    .dataframe tbody tr th:only-of-type {\n",
       "        vertical-align: middle;\n",
       "    }\n",
       "\n",
       "    .dataframe tbody tr th {\n",
       "        vertical-align: top;\n",
       "    }\n",
       "\n",
       "    .dataframe thead th {\n",
       "        text-align: right;\n",
       "    }\n",
       "</style>\n",
       "<table border=\"1\" class=\"dataframe\">\n",
       "  <thead>\n",
       "    <tr style=\"text-align: right;\">\n",
       "      <th></th>\n",
       "      <th>프로젝트번호</th>\n",
       "      <th>프로젝트명</th>\n",
       "      <th>프로젝트 상태</th>\n",
       "      <th>PM행번</th>\n",
       "      <th>PM성명</th>\n",
       "      <th>PM부서</th>\n",
       "      <th>업무명</th>\n",
       "      <th>프로그램변경유무</th>\n",
       "      <th>프로젝트계획시작일</th>\n",
       "      <th>프로젝트계획종료일</th>\n",
       "      <th>착수일</th>\n",
       "      <th>종료일</th>\n",
       "      <th>이행예정일</th>\n",
       "      <th>이행일</th>\n",
       "      <th>개발의뢰번호</th>\n",
       "      <th>의뢰자행번</th>\n",
       "      <th>의뢰자정보</th>\n",
       "      <th>품질검증대상유무</th>\n",
       "      <th>패스트체크인여부</th>\n",
       "      <th>체크인가능유무</th>\n",
       "      <th>인수테스트 완료여부</th>\n",
       "      <th>BA결재 여부</th>\n",
       "      <th>인수테스트대상유무</th>\n",
       "      <th>인수테스트 실시건수</th>\n",
       "      <th>인수테스트 마지막 등록일</th>\n",
       "      <th>통합테스트유무</th>\n",
       "      <th>Helpdesc공지대상유무</th>\n",
       "      <th>Helpdesc공지대상구분</th>\n",
       "    </tr>\n",
       "  </thead>\n",
       "  <tbody>\n",
       "    <tr>\n",
       "      <th>0</th>\n",
       "      <td>P2018-1020-01</td>\n",
       "      <td>IBMS 지분투자 플랫폼 개선</td>\n",
       "      <td>종료</td>\n",
       "      <td>16031001</td>\n",
       "      <td>김현주</td>\n",
       "      <td>DS_종금신탁</td>\n",
       "      <td>IB 프로젝트 기획관리</td>\n",
       "      <td>Y</td>\n",
       "      <td>20180206</td>\n",
       "      <td>20200930</td>\n",
       "      <td>20180206.0</td>\n",
       "      <td>20200928.0</td>\n",
       "      <td>20200930</td>\n",
       "      <td>20200921</td>\n",
       "      <td>R2018-1020</td>\n",
       "      <td>6228623</td>\n",
       "      <td>박영애 기타(투자금융부)</td>\n",
       "      <td>N</td>\n",
       "      <td>N</td>\n",
       "      <td>Y</td>\n",
       "      <td>Y</td>\n",
       "      <td>N</td>\n",
       "      <td>Y</td>\n",
       "      <td>1</td>\n",
       "      <td>20190121.0</td>\n",
       "      <td>N</td>\n",
       "      <td>N</td>\n",
       "      <td>NaN</td>\n",
       "    </tr>\n",
       "    <tr>\n",
       "      <th>1</th>\n",
       "      <td>P2018-6996-01</td>\n",
       "      <td>[캄보디아] CSS 연동을 통한 CD공동망 개발</td>\n",
       "      <td>종료</td>\n",
       "      <td>6127258</td>\n",
       "      <td>고규범</td>\n",
       "      <td>글로벌수신</td>\n",
       "      <td>채널-Dex</td>\n",
       "      <td>Y</td>\n",
       "      <td>20180920</td>\n",
       "      <td>20200214</td>\n",
       "      <td>20180920.0</td>\n",
       "      <td>20200205.0</td>\n",
       "      <td>20200318</td>\n",
       "      <td>20200203</td>\n",
       "      <td>R2018-6996</td>\n",
       "      <td>6167675</td>\n",
       "      <td>김춘호 기타(본점)</td>\n",
       "      <td>N</td>\n",
       "      <td>Y</td>\n",
       "      <td>Y</td>\n",
       "      <td>Y</td>\n",
       "      <td>N</td>\n",
       "      <td>Y</td>\n",
       "      <td>1</td>\n",
       "      <td>20200130.0</td>\n",
       "      <td>Y</td>\n",
       "      <td>N</td>\n",
       "      <td>NaN</td>\n",
       "    </tr>\n",
       "    <tr>\n",
       "      <th>...</th>\n",
       "      <td>...</td>\n",
       "      <td>...</td>\n",
       "      <td>...</td>\n",
       "      <td>...</td>\n",
       "      <td>...</td>\n",
       "      <td>...</td>\n",
       "      <td>...</td>\n",
       "      <td>...</td>\n",
       "      <td>...</td>\n",
       "      <td>...</td>\n",
       "      <td>...</td>\n",
       "      <td>...</td>\n",
       "      <td>...</td>\n",
       "      <td>...</td>\n",
       "      <td>...</td>\n",
       "      <td>...</td>\n",
       "      <td>...</td>\n",
       "      <td>...</td>\n",
       "      <td>...</td>\n",
       "      <td>...</td>\n",
       "      <td>...</td>\n",
       "      <td>...</td>\n",
       "      <td>...</td>\n",
       "      <td>...</td>\n",
       "      <td>...</td>\n",
       "      <td>...</td>\n",
       "      <td>...</td>\n",
       "      <td>...</td>\n",
       "    </tr>\n",
       "    <tr>\n",
       "      <th>11902</th>\n",
       "      <td>P2021-04489-01</td>\n",
       "      <td>리스크업무 자체개선(4월)</td>\n",
       "      <td>종료</td>\n",
       "      <td>19200854</td>\n",
       "      <td>박지현</td>\n",
       "      <td>Risk</td>\n",
       "      <td>신용리스크</td>\n",
       "      <td>Y</td>\n",
       "      <td>20210405</td>\n",
       "      <td>20210507</td>\n",
       "      <td>20210405.0</td>\n",
       "      <td>20210507.0</td>\n",
       "      <td>20210507</td>\n",
       "      <td>20210506</td>\n",
       "      <td>R2021-04489</td>\n",
       "      <td>19200854</td>\n",
       "      <td>박지현 선임(Risk)</td>\n",
       "      <td>N</td>\n",
       "      <td>Y</td>\n",
       "      <td>Y</td>\n",
       "      <td>N</td>\n",
       "      <td>N</td>\n",
       "      <td>N</td>\n",
       "      <td>0</td>\n",
       "      <td>NaN</td>\n",
       "      <td>N</td>\n",
       "      <td>Y</td>\n",
       "      <td>기타</td>\n",
       "    </tr>\n",
       "    <tr>\n",
       "      <th>11903</th>\n",
       "      <td>P2021-04503-01</td>\n",
       "      <td>[SBJ] UMS 이미지 신규 등록</td>\n",
       "      <td>종료</td>\n",
       "      <td>19501668</td>\n",
       "      <td>안지성</td>\n",
       "      <td>개발 Cell (SBJ DNX)</td>\n",
       "      <td>SBJ은행</td>\n",
       "      <td>Y</td>\n",
       "      <td>20210405</td>\n",
       "      <td>20210406</td>\n",
       "      <td>20210405.0</td>\n",
       "      <td>20210408.0</td>\n",
       "      <td>20210406</td>\n",
       "      <td>20210405</td>\n",
       "      <td>R2021-04503</td>\n",
       "      <td>19501668</td>\n",
       "      <td>안지성 기타(개발 Cell (SBJ DNX))</td>\n",
       "      <td>N</td>\n",
       "      <td>Y</td>\n",
       "      <td>Y</td>\n",
       "      <td>Y</td>\n",
       "      <td>N</td>\n",
       "      <td>Y</td>\n",
       "      <td>1</td>\n",
       "      <td>20210405.0</td>\n",
       "      <td>N</td>\n",
       "      <td>N</td>\n",
       "      <td>NaN</td>\n",
       "    </tr>\n",
       "  </tbody>\n",
       "</table>\n",
       "<p>11904 rows × 28 columns</p>\n",
       "</div>"
      ],
      "text/plain": [
       "               프로젝트번호                       프로젝트명 프로젝트 상태      PM행번 PM성명  \\\n",
       "0       P2018-1020-01            IBMS 지분투자 플랫폼 개선      종료  16031001  김현주   \n",
       "1       P2018-6996-01  [캄보디아] CSS 연동을 통한 CD공동망 개발      종료   6127258  고규범   \n",
       "...               ...                         ...     ...       ...  ...   \n",
       "11902  P2021-04489-01              리스크업무 자체개선(4월)      종료  19200854  박지현   \n",
       "11903  P2021-04503-01         [SBJ] UMS 이미지 신규 등록      종료  19501668  안지성   \n",
       "\n",
       "                    PM부서           업무명 프로그램변경유무  프로젝트계획시작일  프로젝트계획종료일  \\\n",
       "0                DS_종금신탁  IB 프로젝트 기획관리        Y   20180206   20200930   \n",
       "1                  글로벌수신        채널-Dex        Y   20180920   20200214   \n",
       "...                  ...           ...      ...        ...        ...   \n",
       "11902               Risk         신용리스크        Y   20210405   20210507   \n",
       "11903  개발 Cell (SBJ DNX)         SBJ은행        Y   20210405   20210406   \n",
       "\n",
       "              착수일         종료일     이행예정일       이행일       개발의뢰번호     의뢰자행번  \\\n",
       "0      20180206.0  20200928.0  20200930  20200921   R2018-1020   6228623   \n",
       "1      20180920.0  20200205.0  20200318  20200203   R2018-6996   6167675   \n",
       "...           ...         ...       ...       ...          ...       ...   \n",
       "11902  20210405.0  20210507.0  20210507  20210506  R2021-04489  19200854   \n",
       "11903  20210405.0  20210408.0  20210406  20210405  R2021-04503  19501668   \n",
       "\n",
       "                           의뢰자정보 품질검증대상유무 패스트체크인여부 체크인가능유무 인수테스트 완료여부 BA결재 여부  \\\n",
       "0                  박영애 기타(투자금융부)        N        N       Y          Y       N   \n",
       "1                     김춘호 기타(본점)        N        Y       Y          Y       N   \n",
       "...                          ...      ...      ...     ...        ...     ...   \n",
       "11902               박지현 선임(Risk)        N        Y       Y          N       N   \n",
       "11903  안지성 기타(개발 Cell (SBJ DNX))        N        Y       Y          Y       N   \n",
       "\n",
       "      인수테스트대상유무  인수테스트 실시건수  인수테스트 마지막 등록일 통합테스트유무 Helpdesc공지대상유무  \\\n",
       "0             Y           1     20190121.0       N              N   \n",
       "1             Y           1     20200130.0       Y              N   \n",
       "...         ...         ...            ...     ...            ...   \n",
       "11902         N           0            NaN       N              Y   \n",
       "11903         Y           1     20210405.0       N              N   \n",
       "\n",
       "      Helpdesc공지대상구분  \n",
       "0                NaN  \n",
       "1                NaN  \n",
       "...              ...  \n",
       "11902             기타  \n",
       "11903            NaN  \n",
       "\n",
       "[11904 rows x 28 columns]"
      ]
     },
     "metadata": {},
     "output_type": "display_data"
    }
   ],
   "source": [
    "display(project)"
   ]
  },
  {
   "cell_type": "markdown",
   "metadata": {},
   "source": [
    "### 2. 프로젝트 데이터 선별"
   ]
  },
  {
   "cell_type": "code",
   "execution_count": 46,
   "metadata": {},
   "outputs": [],
   "source": [
    "project_columns = ['프로젝트번호', '업무명',\n",
    "                   '프로젝트계획시작일', '프로젝트계획종료일', '착수일', '종료일', '이행예정일', '이행일',\n",
    "                   '개발의뢰번호', '의뢰자행번']"
   ]
  },
  {
   "cell_type": "code",
   "execution_count": 47,
   "metadata": {},
   "outputs": [],
   "source": [
    "project_data = project[project_columns]"
   ]
  },
  {
   "cell_type": "markdown",
   "metadata": {},
   "source": [
    "### 3. 날짜 전처리\n",
    "프로젝트 관련 날짜는 '프로젝트계획시작일', '프로젝트계획종료일', '착수일', '종료일', '이행예정일', '이행일', 총 6종류가 있다\n",
    "\n",
    "우선 해당 컬럼의 데이터 형태를 datetime으로 바꿔주자"
   ]
  },
  {
   "cell_type": "code",
   "execution_count": 48,
   "metadata": {},
   "outputs": [],
   "source": [
    "date_columns = ['프로젝트계획시작일', '프로젝트계획종료일', '착수일', '종료일', '이행예정일', '이행일']"
   ]
  },
  {
   "cell_type": "code",
   "execution_count": 49,
   "metadata": {},
   "outputs": [
    {
     "name": "stdout",
     "output_type": "stream",
     "text": [
      "<class 'pandas.core.frame.DataFrame'>\n",
      "RangeIndex: 11904 entries, 0 to 11903\n",
      "Data columns (total 6 columns):\n",
      " #   Column     Non-Null Count  Dtype  \n",
      "---  ------     --------------  -----  \n",
      " 0   프로젝트계획시작일  11904 non-null  int64  \n",
      " 1   프로젝트계획종료일  11904 non-null  int64  \n",
      " 2   착수일        11902 non-null  float64\n",
      " 3   종료일        11705 non-null  float64\n",
      " 4   이행예정일      11904 non-null  int64  \n",
      " 5   이행일        11904 non-null  int64  \n",
      "dtypes: float64(2), int64(4)\n",
      "memory usage: 558.1 KB\n"
     ]
    }
   ],
   "source": [
    "project_data[date_columns].info()"
   ]
  },
  {
   "cell_type": "code",
   "execution_count": 50,
   "metadata": {
    "scrolled": true
   },
   "outputs": [
    {
     "name": "stderr",
     "output_type": "stream",
     "text": [
      "C:\\Users\\13579\\Anaconda3\\lib\\site-packages\\pandas\\core\\frame.py:2963: SettingWithCopyWarning: \n",
      "A value is trying to be set on a copy of a slice from a DataFrame.\n",
      "Try using .loc[row_indexer,col_indexer] = value instead\n",
      "\n",
      "See the caveats in the documentation: https://pandas.pydata.org/pandas-docs/stable/user_guide/indexing.html#returning-a-view-versus-a-copy\n",
      "  self[k1] = value[k2]\n"
     ]
    }
   ],
   "source": [
    "project_data[date_columns] = project_data[date_columns].apply(pd.to_datetime,format='%Y%m%d', errors='coerce')"
   ]
  },
  {
   "cell_type": "code",
   "execution_count": 51,
   "metadata": {},
   "outputs": [
    {
     "name": "stdout",
     "output_type": "stream",
     "text": [
      "<class 'pandas.core.frame.DataFrame'>\n",
      "RangeIndex: 11904 entries, 0 to 11903\n",
      "Data columns (total 6 columns):\n",
      " #   Column     Non-Null Count  Dtype         \n",
      "---  ------     --------------  -----         \n",
      " 0   프로젝트계획시작일  11904 non-null  datetime64[ns]\n",
      " 1   프로젝트계획종료일  11904 non-null  datetime64[ns]\n",
      " 2   착수일        11902 non-null  datetime64[ns]\n",
      " 3   종료일        11705 non-null  datetime64[ns]\n",
      " 4   이행예정일      11904 non-null  datetime64[ns]\n",
      " 5   이행일        11904 non-null  datetime64[ns]\n",
      "dtypes: datetime64[ns](6)\n",
      "memory usage: 558.1 KB\n"
     ]
    }
   ],
   "source": [
    "project_data[date_columns].info()"
   ]
  },
  {
   "cell_type": "markdown",
   "metadata": {},
   "source": [
    "프로젝트 실행 기간을 알기 위해 이를 조정하여 최초 시행일자, 최종 실행일자, 그리고 기간, 총 3가지 컬럼을 만들어보자"
   ]
  },
  {
   "cell_type": "code",
   "execution_count": 52,
   "metadata": {},
   "outputs": [
    {
     "name": "stderr",
     "output_type": "stream",
     "text": [
      "<ipython-input-52-a90a681c45b9>:1: SettingWithCopyWarning: \n",
      "A value is trying to be set on a copy of a slice from a DataFrame.\n",
      "Try using .loc[row_indexer,col_indexer] = value instead\n",
      "\n",
      "See the caveats in the documentation: https://pandas.pydata.org/pandas-docs/stable/user_guide/indexing.html#returning-a-view-versus-a-copy\n",
      "  project_data['최초일자'] = project_data[['프로젝트계획시작일', '착수일']].min(axis=1)\n",
      "<ipython-input-52-a90a681c45b9>:2: SettingWithCopyWarning: \n",
      "A value is trying to be set on a copy of a slice from a DataFrame.\n",
      "Try using .loc[row_indexer,col_indexer] = value instead\n",
      "\n",
      "See the caveats in the documentation: https://pandas.pydata.org/pandas-docs/stable/user_guide/indexing.html#returning-a-view-versus-a-copy\n",
      "  project_data['최종일자'] = project_data[['프로젝트계획종료일', '종료일', '이행예정일', '이행일']].max(axis=1)\n",
      "<ipython-input-52-a90a681c45b9>:3: SettingWithCopyWarning: \n",
      "A value is trying to be set on a copy of a slice from a DataFrame.\n",
      "Try using .loc[row_indexer,col_indexer] = value instead\n",
      "\n",
      "See the caveats in the documentation: https://pandas.pydata.org/pandas-docs/stable/user_guide/indexing.html#returning-a-view-versus-a-copy\n",
      "  project_data['기간'] = project_data['최종일자'] - project_data['최초일자']\n"
     ]
    }
   ],
   "source": [
    "project_data['최초일자'] = project_data[['프로젝트계획시작일', '착수일']].min(axis=1)\n",
    "project_data['최종일자'] = project_data[['프로젝트계획종료일', '종료일', '이행예정일', '이행일']].max(axis=1)\n",
    "project_data['기간'] = project_data['최종일자'] - project_data['최초일자']"
   ]
  },
  {
   "cell_type": "code",
   "execution_count": 53,
   "metadata": {
    "scrolled": true
   },
   "outputs": [
    {
     "name": "stderr",
     "output_type": "stream",
     "text": [
      "C:\\Users\\13579\\Anaconda3\\lib\\site-packages\\pandas\\core\\frame.py:3990: SettingWithCopyWarning: \n",
      "A value is trying to be set on a copy of a slice from a DataFrame\n",
      "\n",
      "See the caveats in the documentation: https://pandas.pydata.org/pandas-docs/stable/user_guide/indexing.html#returning-a-view-versus-a-copy\n",
      "  return super().drop(\n"
     ]
    }
   ],
   "source": [
    "project_data.drop(columns=['프로젝트계획시작일', '프로젝트계획종료일', '착수일', '종료일', '이행예정일', '이행일'], inplace=True)"
   ]
  },
  {
   "cell_type": "markdown",
   "metadata": {},
   "source": [
    "### 4. 인력정보에 프로젝트 정보 추가"
   ]
  },
  {
   "cell_type": "code",
   "execution_count": 54,
   "metadata": {},
   "outputs": [],
   "source": [
    "project_data = pd.merge(left=project_jikwon_data, right=project_data,\n",
    "                       how='left', left_on='프로젝트번호', right_on='프로젝트번호')"
   ]
  },
  {
   "cell_type": "markdown",
   "metadata": {},
   "source": [
    "### 5. 최종"
   ]
  },
  {
   "cell_type": "code",
   "execution_count": 55,
   "metadata": {},
   "outputs": [
    {
     "data": {
      "text/html": [
       "<div>\n",
       "<style scoped>\n",
       "    .dataframe tbody tr th:only-of-type {\n",
       "        vertical-align: middle;\n",
       "    }\n",
       "\n",
       "    .dataframe tbody tr th {\n",
       "        vertical-align: top;\n",
       "    }\n",
       "\n",
       "    .dataframe thead th {\n",
       "        text-align: right;\n",
       "    }\n",
       "</style>\n",
       "<table border=\"1\" class=\"dataframe\">\n",
       "  <thead>\n",
       "    <tr style=\"text-align: right;\">\n",
       "      <th></th>\n",
       "      <th>프로젝트번호</th>\n",
       "      <th>행번</th>\n",
       "      <th>역할</th>\n",
       "      <th>업무명</th>\n",
       "      <th>개발의뢰번호</th>\n",
       "      <th>의뢰자행번</th>\n",
       "      <th>최초일자</th>\n",
       "      <th>최종일자</th>\n",
       "      <th>기간</th>\n",
       "    </tr>\n",
       "  </thead>\n",
       "  <tbody>\n",
       "    <tr>\n",
       "      <th>0</th>\n",
       "      <td>P2018-1020-01</td>\n",
       "      <td>16031001</td>\n",
       "      <td>PM</td>\n",
       "      <td>IB 프로젝트 기획관리</td>\n",
       "      <td>R2018-1020</td>\n",
       "      <td>6228623</td>\n",
       "      <td>2018-02-06</td>\n",
       "      <td>2020-09-30</td>\n",
       "      <td>967 days</td>\n",
       "    </tr>\n",
       "    <tr>\n",
       "      <th>1</th>\n",
       "      <td>P2018-1020-01</td>\n",
       "      <td>06172202</td>\n",
       "      <td>개발자</td>\n",
       "      <td>IB 프로젝트 기획관리</td>\n",
       "      <td>R2018-1020</td>\n",
       "      <td>6228623</td>\n",
       "      <td>2018-02-06</td>\n",
       "      <td>2020-09-30</td>\n",
       "      <td>967 days</td>\n",
       "    </tr>\n",
       "    <tr>\n",
       "      <th>...</th>\n",
       "      <td>...</td>\n",
       "      <td>...</td>\n",
       "      <td>...</td>\n",
       "      <td>...</td>\n",
       "      <td>...</td>\n",
       "      <td>...</td>\n",
       "      <td>...</td>\n",
       "      <td>...</td>\n",
       "      <td>...</td>\n",
       "    </tr>\n",
       "    <tr>\n",
       "      <th>29989</th>\n",
       "      <td>P2021-04489-01</td>\n",
       "      <td>19200854</td>\n",
       "      <td>PM</td>\n",
       "      <td>신용리스크</td>\n",
       "      <td>R2021-04489</td>\n",
       "      <td>19200854</td>\n",
       "      <td>2021-04-05</td>\n",
       "      <td>2021-05-07</td>\n",
       "      <td>32 days</td>\n",
       "    </tr>\n",
       "    <tr>\n",
       "      <th>29990</th>\n",
       "      <td>P2021-04503-01</td>\n",
       "      <td>19501668</td>\n",
       "      <td>PM</td>\n",
       "      <td>SBJ은행</td>\n",
       "      <td>R2021-04503</td>\n",
       "      <td>19501668</td>\n",
       "      <td>2021-04-05</td>\n",
       "      <td>2021-04-08</td>\n",
       "      <td>3 days</td>\n",
       "    </tr>\n",
       "  </tbody>\n",
       "</table>\n",
       "<p>29991 rows × 9 columns</p>\n",
       "</div>"
      ],
      "text/plain": [
       "               프로젝트번호        행번   역할           업무명       개발의뢰번호     의뢰자행번  \\\n",
       "0       P2018-1020-01  16031001   PM  IB 프로젝트 기획관리   R2018-1020   6228623   \n",
       "1       P2018-1020-01  06172202  개발자  IB 프로젝트 기획관리   R2018-1020   6228623   \n",
       "...               ...       ...  ...           ...          ...       ...   \n",
       "29989  P2021-04489-01  19200854   PM         신용리스크  R2021-04489  19200854   \n",
       "29990  P2021-04503-01  19501668   PM         SBJ은행  R2021-04503  19501668   \n",
       "\n",
       "            최초일자       최종일자       기간  \n",
       "0     2018-02-06 2020-09-30 967 days  \n",
       "1     2018-02-06 2020-09-30 967 days  \n",
       "...          ...        ...      ...  \n",
       "29989 2021-04-05 2021-05-07  32 days  \n",
       "29990 2021-04-05 2021-04-08   3 days  \n",
       "\n",
       "[29991 rows x 9 columns]"
      ]
     },
     "metadata": {},
     "output_type": "display_data"
    }
   ],
   "source": [
    "display(project_data)"
   ]
  },
  {
   "cell_type": "markdown",
   "metadata": {},
   "source": [
    "# Export Data\n",
    "데이터 전처리를 완료하였으니, 해당 Dataframe을 csv 파일로 저장한다"
   ]
  },
  {
   "cell_type": "code",
   "execution_count": 56,
   "metadata": {},
   "outputs": [],
   "source": [
    "raw_data.to_csv(os.path.join(root, 'raw_data.csv'), na_rep='NaN')\n",
    "project_data.to_csv(os.path.join(root, 'project_data.csv'), na_rep='NaN')\n",
    "jeom.to_csv(os.path.join(root, 'jeom_code.csv'), na_rep='NaN')\n",
    "jikwhi.to_csv(os.path.join(root, 'jikwhi_code.csv'), na_rep='NaN')\n",
    "jkmu.to_csv(os.path.join(root, 'jkmu_code.csv'), na_rep='NaN')"
   ]
  }
 ],
 "metadata": {
  "kernelspec": {
   "display_name": "Python 3",
   "language": "python",
   "name": "python3"
  },
  "language_info": {
   "codemirror_mode": {
    "name": "ipython",
    "version": 3
   },
   "file_extension": ".py",
   "mimetype": "text/x-python",
   "name": "python",
   "nbconvert_exporter": "python",
   "pygments_lexer": "ipython3",
   "version": "3.8.3"
  }
 },
 "nbformat": 4,
 "nbformat_minor": 4
}
