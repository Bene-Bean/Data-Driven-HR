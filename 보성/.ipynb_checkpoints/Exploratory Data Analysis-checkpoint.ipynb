{
 "cells": [
  {
   "cell_type": "markdown",
   "id": "9a6e7e29",
   "metadata": {},
   "source": [
    "<div style=\"text-align: right;\">\n",
    "    <h1> Exploratory Data Analysis </h1>\n",
    "</div>"
   ]
  },
  {
   "cell_type": "code",
   "execution_count": 1,
   "id": "8cc52254",
   "metadata": {},
   "outputs": [],
   "source": [
    "import pandas as pd\n",
    "import numpy as np"
   ]
  },
  {
   "cell_type": "code",
   "execution_count": null,
   "id": "709a171e",
   "metadata": {},
   "outputs": [],
   "source": [
    "core_df = pd.read_excel('data/코어프로그램.xlsx')\n",
    "program_df1 = pd.read_excel('data/프로그램_변경이력_1.xlsx')\n",
    "program_df2 = pd.read_excel('data/프로그램_변경이력_2.xlsx')\n",
    "employee_df = pd.read_csv(\"data/직원.csv\")\n",
    "project_df = pd.read_excel(\"data/프로젝트 정보.xlsx\")\n",
    "merged_df = pd.read_pickle(\"data/merged_data.pickle\")\n",
    "program_df = pd.concat([program_df1, program_df2])"
   ]
  },
  {
   "cell_type": "code",
   "execution_count": null,
   "id": "91318f5e",
   "metadata": {},
   "outputs": [],
   "source": [
    "dict_fromNum_toString = {\n",
    "    61: \"운영부\",\n",
    "    62: \"정개부\", \n",
    "    63: \"금개부\",\n",
    "    64: \"글개부\",\n",
    "    66: \"기개부\",\n",
    "    69: \"디개부\",\n",
    "    507: \"기획부\"\n",
    "}"
   ]
  },
  {
   "cell_type": "markdown",
   "id": "32e7d238",
   "metadata": {},
   "source": [
    "## CONCAT"
   ]
  },
  {
   "cell_type": "markdown",
   "id": "68802cb5",
   "metadata": {},
   "source": [
    "직원 테이블 (ICT 직원만)"
   ]
  },
  {
   "cell_type": "code",
   "execution_count": null,
   "id": "c83a2c0c",
   "metadata": {},
   "outputs": [],
   "source": [
    "data_61 = employee_df[employee_df[\"JEOM_NO\"] == 61]\n",
    "data_62 = employee_df[employee_df[\"JEOM_NO\"] == 62]\n",
    "data_63 = employee_df[employee_df[\"JEOM_NO\"] == 63]\n",
    "data_64 = employee_df[employee_df[\"JEOM_NO\"] == 64]\n",
    "data_66 = employee_df[employee_df[\"JEOM_NO\"] == 66]\n",
    "data_69 = employee_df[employee_df[\"JEOM_NO\"] == 69]\n",
    "data_507 = employee_df[employee_df[\"JEOM_NO\"] == 507]\n",
    "\n",
    "employee_df = pd.concat([data_61, data_62, data_63, data_64, data_66, data_69, data_507])"
   ]
  },
  {
   "cell_type": "markdown",
   "id": "c463ef86",
   "metadata": {},
   "source": [
    "## JOIN"
   ]
  },
  {
   "cell_type": "code",
   "execution_count": null,
   "id": "251b544a",
   "metadata": {},
   "outputs": [],
   "source": [
    "without_prefix = [int(name[2:]) if name[0:2] == 'BK' else name for name in program_df[\"COL07\"] ]\n",
    "program_df[\"without_prefix\"] = without_prefix"
   ]
  },
  {
   "cell_type": "code",
   "execution_count": null,
   "id": "4edd31d1",
   "metadata": {},
   "outputs": [],
   "source": [
    "dataFrameTable = pd.merge(employee_df, program_df, left_on=\"JIKWON_NO\", right_on=\"without_prefix\", how=\"left\")\n",
    "dataFrameTable = pd.merge(dataFrameTable, project_df, left_on=\"COL08\", right_on=\"프로젝트번호\", how=\"left\")"
   ]
  },
  {
   "cell_type": "code",
   "execution_count": null,
   "id": "0116ab7b",
   "metadata": {},
   "outputs": [],
   "source": [
    "dataFrameTable[[\"JIKWON_NO\", \"NAME\", \"프로젝트번호\", \"프로젝트명\"]]"
   ]
  },
  {
   "cell_type": "code",
   "execution_count": null,
   "id": "3d846cd1",
   "metadata": {},
   "outputs": [],
   "source": [
    "dataFrameTable.columns"
   ]
  },
  {
   "cell_type": "markdown",
   "id": "f0fe7bc2",
   "metadata": {},
   "source": [
    "## NetworkX(Undirected/Directed Graph) Class"
   ]
  },
  {
   "cell_type": "code",
   "execution_count": null,
   "id": "25347d02",
   "metadata": {},
   "outputs": [],
   "source": [
    "import networkx\n",
    "import matplotlib\n",
    "import matplotlib.pyplot as plt\n",
    "from itertools import combinations\n",
    "import os \n",
    "import random\n",
    "\n",
    "class Graph:\n",
    "    \n",
    "    def __init__(self, dataFrame):\n",
    "\n",
    "        # 외부에서 완성한 Table을 담고 있는 DataFrame\n",
    "        self.dataFrame = dataFrame\n",
    "\n",
    "        # 그래프 본체\n",
    "        self.graph = networkx.Graph()\n",
    "        # 그래프 본체에 추가되는 서브 그래프\n",
    "        self.subgraph = pd.DataFrame()\n",
    "\n",
    "        # subgraph에 들어갈 프로젝트명\n",
    "        self.projectName = \"\"\n",
    "\n",
    "        # 추가되는 관계\n",
    "        self.relations = []\n",
    "        self.workGroups = {}\n",
    "        # 부서별 색깔\n",
    "        self.colorGroups = {}\n",
    "        \n",
    "        self.groupToColor = {\n",
    "            \"ICT운영부\"   : \"red\",\n",
    "            \"ICT기획부\"   : \"blue\",\n",
    "            \"정보개발부\"   : \"yellow\",\n",
    "            \"금융개발부\"   : \"purple\",\n",
    "            \"글로벌개발부\"  : \"green\", \n",
    "            \"기관개발부\"   : \"orange\",\n",
    "            \"디지털개발부\"  : \"pink\",\n",
    "        }\n",
    "\n",
    "    \n",
    "    def addSubGraph(self, projectName):\n",
    "        self.projectName = projectName\n",
    "        self.subgraph = self.dataFrame[self.dataFrame[\"프로젝트명\"] == self.projectName] \n",
    "        \n",
    "        self.addPeopleToProject()\n",
    "        self.addPeopleToPeople()\n",
    "        self.buildConnection()\n",
    "        \n",
    "    # 사람과 프로젝트 (같은 프로젝트)\n",
    "    def addPeopleToProject(self) :\n",
    "        self.workGroups = {}\n",
    "        for row in set(self.subgraph[[\"NAME\", \"프로젝트명\", \"JEOM_NAME\"]].itertuples(index=False)) :\n",
    "            col0 = row[0].strip()\n",
    "            col1 = row[1].strip()\n",
    "            col2 = row[2].strip()\n",
    "\n",
    "            #unweighted 라면\n",
    "            #relations.append((col0, col1))\n",
    "\n",
    "            #weighted 라면\n",
    "            self.relations.append((col0, col1, 1))\n",
    "            if (col2 not in self.workGroups) :\n",
    "                self.workGroups[col2] = [col0]\n",
    "            else :\n",
    "                self.workGroups[col2].append(col0)\n",
    "                \n",
    "    # 사람과 사람 (같은 부서)    \n",
    "    def addPeopleToPeople(self) :\n",
    "\n",
    "        #people = []\n",
    "        # key : 부서\n",
    "        # value : [...부서원]\n",
    "        for key, value in self.workGroups.items() : \n",
    "            #unweighted 라면\n",
    "            #people.extend(list(combinations(value, 2)))\n",
    "            #relations.extend(people)\n",
    "\n",
    "            #weighted 라면\n",
    "\n",
    "            #같은 부서는 같은 색깔\n",
    "            colorNum = self.groupToColor[key]\n",
    "            if len(list(combinations(value, 2))) == 0 :\n",
    "                self.colorGroups[value[0]] = colorNum\n",
    "                continue\n",
    "                \n",
    "            # 같은 부서원들이 들어있는 리스트에서 2개의 element가 있는 Combinations\n",
    "            for rel in list(combinations(value, 2)) :\n",
    "                # 같은 부서는 weight 2\n",
    "                self.relations.append((rel[0], rel[1], 2))\n",
    "                # 같은 부서는 같은 색깔\n",
    "                self.colorGroups[rel[0]] = self.colorGroups[rel[1]] = colorNum\n",
    "\n",
    "\n",
    "    # 관계 추가\n",
    "    def buildConnection(self) : \n",
    "        self.graph.add_weighted_edges_from(self.relations)\n",
    "            \n",
    "    def printGraph(self) : \n",
    "        #self.printProjectName()\n",
    "        #self.printWorkGroups()\n",
    "        #self.printEdges()\n",
    "        #self.printNodeColors()\n",
    "        \n",
    "        # set node size\n",
    "        node_sizes = [200 if len(node) > 3 else 100 for node in self.graph.nodes()]\n",
    "        \n",
    "        # set node color\n",
    "        node_colors = [self.colorGroups.get(node, \"black\") for node in self.graph.nodes()]\n",
    "        \n",
    "        # fixed-position layout\n",
    "        # pos = networkx.draw(self.graph)  \n",
    "        # pos = networkx.draw_random(self.graph)\n",
    "        # pos = networkx.draw_circular(self.graph)  \n",
    "        # pos = networkx.draw_spectral(self.graph)  \n",
    "        # pos = networkx.draw_spring(self.graph)\n",
    "        pos = networkx.kamada_kawai_layout(self.graph)\n",
    "\n",
    "        # graph size\n",
    "        plt.figure(1,figsize=(20,20)) \n",
    "        \n",
    "        networkx.draw(self.graph, pos, alpha=0.8, node_size = node_sizes, node_color=node_colors, cmap=plt.get_cmap('viridis'), with_labels = False, font_family = 'NanumGothic');\n",
    "        # networkx.draw(self.graph, pos, node_size = node_sizes, node_color=values, cmap=plt.get_cmap('viridis'), with_labels = False, font_family = 'NanumGothic');\n",
    "        \n",
    "        # weight 표현\n",
    "        # labels = networkx.get_edge_attributes(self.graph, 'weight')\n",
    "        # networkx.draw_networkx_edge_labels(self.graph, pos, edge_labels=labels)\n",
    "        \n",
    "        # img 디렉토리에 저장\n",
    "        if not os.path.exists(\"imgs\"): os.makedirs(\"imgs\")\n",
    "        plt.savefig(\"imgs/\" + self.projectName +\"_graph.png\");\n",
    "    \n",
    "    def printProjectName(self) :\n",
    "        print(\"프로젝트  :\\n\", self.projectName)\n",
    "        print()\n",
    "    \n",
    "    def printWorkGroups(self) :\n",
    "        print(\"참여 부서 :\\n\" , self.subgraph[self.subgraph[\"프로젝트명\"] == self.projectName][\"JEOM_NAME\"].str.strip().unique())\n",
    "        print()\n",
    "    \n",
    "    def printEdges(self): \n",
    "        print(\"edge 별 weight :\\n\", self.graph.edges(data=True))\n",
    "        print()\n",
    "    \n",
    "    def printNodeColors(self) :\n",
    "        print(\"node 별 색깔:\\n\", self.colorGroups)\n",
    "        print()"
   ]
  },
  {
   "cell_type": "markdown",
   "id": "93c3d502",
   "metadata": {},
   "source": [
    "## 서브 그래프 2개"
   ]
  },
  {
   "cell_type": "code",
   "execution_count": null,
   "id": "9ed32669",
   "metadata": {},
   "outputs": [],
   "source": [
    "graph2 = Graph(dataFrameTable)\n",
    "graph2.addSubGraph(\"TransferWise 해외이체서비스 개발의뢰\")\n",
    "graph2.printGraph()"
   ]
  },
  {
   "cell_type": "code",
   "execution_count": null,
   "id": "47edf2c3",
   "metadata": {
    "scrolled": true
   },
   "outputs": [],
   "source": [
    "graph2.addSubGraph(\"외국환거래약정서 비대면약정 프로세스 개발\")\n",
    "graph2.printGraph()"
   ]
  },
  {
   "cell_type": "markdown",
   "id": "2c91e06c",
   "metadata": {},
   "source": [
    "## 서브 그래프 100개"
   ]
  },
  {
   "cell_type": "code",
   "execution_count": null,
   "id": "57223645",
   "metadata": {},
   "outputs": [],
   "source": [
    "graph100 = Graph(dataFrameTable)\n",
    "\n",
    "cnt = 0\n",
    "for projectName in dataFrameTable[\"프로젝트명\"].dropna().unique() :\n",
    "    graph100.addSubGraph(projectName)\n",
    "    cnt += 1\n",
    "    if cnt == 100 :\n",
    "        break\n",
    "\n",
    "graph100.printGraph()"
   ]
  },
  {
   "cell_type": "markdown",
   "id": "283cba69",
   "metadata": {},
   "source": [
    "## 서브 그래프 500개"
   ]
  },
  {
   "cell_type": "code",
   "execution_count": null,
   "id": "d87a9f4f",
   "metadata": {},
   "outputs": [],
   "source": [
    "graph500 = Graph(dataFrameTable)\n",
    "\n",
    "cnt = 0\n",
    "for projectName in dataFrameTable[\"프로젝트명\"].dropna().unique() :\n",
    "    graph500.addSubGraph(projectName)\n",
    "    cnt += 1\n",
    "    if cnt == 500 :\n",
    "        break\n",
    "\n",
    "graph500.printGraph()"
   ]
  },
  {
   "cell_type": "markdown",
   "id": "d4c8ff80",
   "metadata": {},
   "source": [
    "## 서브 그래프 1000개"
   ]
  },
  {
   "cell_type": "code",
   "execution_count": null,
   "id": "573228e5",
   "metadata": {},
   "outputs": [],
   "source": [
    "graph1000 = Graph(dataFrameTable)\n",
    "\n",
    "cnt = 0\n",
    "for projectName in dataFrameTable[\"프로젝트명\"].dropna().unique() :\n",
    "    graph1000.addSubGraph(projectName)\n",
    "    cnt += 1\n",
    "    if cnt == 1000 :\n",
    "        break\n",
    "\n",
    "graph1000.printGraph()"
   ]
  },
  {
   "cell_type": "markdown",
   "id": "cebdccd6",
   "metadata": {},
   "source": [
    "## 서브 그래프 2000개"
   ]
  },
  {
   "cell_type": "code",
   "execution_count": null,
   "id": "32d78a0c",
   "metadata": {},
   "outputs": [],
   "source": [
    "graph2000 = Graph(dataFrameTable)\n",
    "\n",
    "cnt = 0\n",
    "for projectName in dataFrameTable[\"프로젝트명\"].dropna().unique() :\n",
    "    graph2000.addSubGraph(projectName)\n",
    "    cnt += 1\n",
    "    if cnt == 2000 :\n",
    "        break\n",
    "\n",
    "graph2000.printGraph()"
   ]
  }
 ],
 "metadata": {
  "kernelspec": {
   "display_name": "Python 3",
   "language": "python",
   "name": "python3"
  },
  "language_info": {
   "codemirror_mode": {
    "name": "ipython",
    "version": 3
   },
   "file_extension": ".py",
   "mimetype": "text/x-python",
   "name": "python",
   "nbconvert_exporter": "python",
   "pygments_lexer": "ipython3",
   "version": "3.8.2"
  }
 },
 "nbformat": 4,
 "nbformat_minor": 5
}
