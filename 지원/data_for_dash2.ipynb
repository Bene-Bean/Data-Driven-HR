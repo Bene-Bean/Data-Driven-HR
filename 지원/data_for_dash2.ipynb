{
 "cells": [
  {
   "cell_type": "markdown",
   "metadata": {},
   "source": [
    "# Import Libraries\n",
    "#### Standard"
   ]
  },
  {
   "cell_type": "code",
   "execution_count": 1,
   "metadata": {
    "collapsed": true
   },
   "outputs": [],
   "source": [
    "import os\n",
    "import numpy as np\n",
    "import pandas as pd"
   ]
  },
  {
   "cell_type": "markdown",
   "metadata": {},
   "source": [
    "#### Visualization"
   ]
  },
  {
   "cell_type": "code",
   "execution_count": 2,
   "metadata": {
    "collapsed": true
   },
   "outputs": [],
   "source": [
    "import matplotlib.pyplot as plt\n",
    "import matplotlib.font_manager as fm\n",
    "from matplotlib import colors\n",
    "from matplotlib import rc\n",
    "import seaborn as sns\n",
    "import networkx as nx"
   ]
  },
  {
   "cell_type": "markdown",
   "metadata": {},
   "source": [
    "# Import Data\n",
    "Data Preprocessing 단계에서 생성된 통합 데이터 테이블을 불러온다"
   ]
  },
  {
   "cell_type": "code",
   "execution_count": 3,
   "metadata": {
    "collapsed": true
   },
   "outputs": [],
   "source": [
    "root = os.path.join(os.getcwd(), 'DATA')\n",
    "\n",
    "df_raw = pd.read_csv(os.path.join(root, 'raw_data.csv'), index_col = 0)\n",
    "df_project = pd.read_csv(os.path.join(root, 'project_data.csv'), index_col = 0)\n",
    "\n",
    "code_jeom = pd.read_csv(os.path.join(root, 'jeom_code.csv'), index_col = 0)\n",
    "code_jikwhi = pd.read_csv(os.path.join(root, 'jikwhi_code.csv'), index_col = 0)\n",
    "code_jkmu = pd.read_csv(os.path.join(root, 'jkmu_code.csv'), index_col = 0)"
   ]
  },
  {
   "cell_type": "markdown",
   "metadata": {},
   "source": [
    "직원 데이터는 지속적으로 참고해야 한다"
   ]
  },
  {
   "cell_type": "code",
   "execution_count": 4,
   "metadata": {
    "collapsed": true
   },
   "outputs": [],
   "source": [
    "df_jikwon = pd.read_csv(os.path.join(root, 'jikwon.csv'), encoding='cp949')"
   ]
  },
  {
   "cell_type": "markdown",
   "metadata": {},
   "source": [
    "프로그램 목록 표시를 위해 프로그램 데이터를 불러온다."
   ]
  },
  {
   "cell_type": "code",
   "execution_count": 109,
   "metadata": {
    "collapsed": false
   },
   "outputs": [],
   "source": [
    "program_base = pd.read_excel(os.path.join(root, 'program.xlsx'), sheet_name='data')"
   ]
  },
  {
   "cell_type": "markdown",
   "metadata": {},
   "source": [
    "----"
   ]
  },
  {
   "cell_type": "markdown",
   "metadata": {},
   "source": [
    "# Drop Data\n"
   ]
  },
  {
   "cell_type": "markdown",
   "metadata": {},
   "source": [
    "요청구분은 무수정, 수정, 신규, 폐기, 총 4종류가 있는데 우리는 신규/수정한 이력만을 볼 것이다  \n",
    "이를 통해 프로그램을 신규/수정한 이력이 없는 직원들도 제거된다"
   ]
  },
  {
   "cell_type": "code",
   "execution_count": 5,
   "metadata": {
    "collapsed": false,
    "scrolled": true
   },
   "outputs": [
    {
     "data": {
      "text/html": [
       "<div>\n",
       "<table border=\"1\" class=\"dataframe\">\n",
       "  <thead>\n",
       "    <tr style=\"text-align: right;\">\n",
       "      <th></th>\n",
       "      <th>요청번호</th>\n",
       "    </tr>\n",
       "    <tr>\n",
       "      <th>요청구분</th>\n",
       "      <th></th>\n",
       "    </tr>\n",
       "  </thead>\n",
       "  <tbody>\n",
       "    <tr>\n",
       "      <th>무수정</th>\n",
       "      <td>5557</td>\n",
       "    </tr>\n",
       "    <tr>\n",
       "      <th>수정</th>\n",
       "      <td>189113</td>\n",
       "    </tr>\n",
       "    <tr>\n",
       "      <th>신규</th>\n",
       "      <td>166315</td>\n",
       "    </tr>\n",
       "    <tr>\n",
       "      <th>폐기</th>\n",
       "      <td>8934</td>\n",
       "    </tr>\n",
       "  </tbody>\n",
       "</table>\n",
       "</div>"
      ],
      "text/plain": [
       "        요청번호\n",
       "요청구분        \n",
       "무수정     5557\n",
       "수정    189113\n",
       "신규    166315\n",
       "폐기      8934"
      ]
     },
     "execution_count": 5,
     "metadata": {},
     "output_type": "execute_result"
    }
   ],
   "source": [
    "df_raw[['요청구분', '요청번호']].groupby('요청구분').count()"
   ]
  },
  {
   "cell_type": "code",
   "execution_count": 6,
   "metadata": {
    "collapsed": false
   },
   "outputs": [
    {
     "name": "stdout",
     "output_type": "stream",
     "text": [
      "(370040, 23)->(355428, 23)\n"
     ]
    }
   ],
   "source": [
    "print(df_raw.shape, end=\"->\")\n",
    "df = df_raw[(df_raw['요청구분'] == '신규') | (df_raw['요청구분'] == '수정')]\n",
    "print(df.shape)"
   ]
  },
  {
   "cell_type": "code",
   "execution_count": 7,
   "metadata": {
    "collapsed": false
   },
   "outputs": [
    {
     "data": {
      "text/plain": [
       "array(['수정', '신규'], dtype=object)"
      ]
     },
     "execution_count": 7,
     "metadata": {},
     "output_type": "execute_result"
    }
   ],
   "source": [
    "df['요청구분'].unique()"
   ]
  },
  {
   "cell_type": "markdown",
   "metadata": {},
   "source": [
    "# 분류하기"
   ]
  },
  {
   "cell_type": "markdown",
   "metadata": {},
   "source": [
    "### 프로그램종류\n",
    "프로그램 종류를 파악해서 어떤 언어/툴 등을 사용했는지 파악 가능"
   ]
  },
  {
   "cell_type": "code",
   "execution_count": 99,
   "metadata": {
    "collapsed": false,
    "scrolled": true
   },
   "outputs": [
    {
     "data": {
      "text/html": [
       "<div>\n",
       "<table border=\"1\" class=\"dataframe\">\n",
       "  <thead>\n",
       "    <tr style=\"text-align: right;\">\n",
       "      <th></th>\n",
       "      <th>프로그램종류</th>\n",
       "    </tr>\n",
       "  </thead>\n",
       "  <tbody>\n",
       "    <tr>\n",
       "      <th>0</th>\n",
       "      <td>온라인서비스</td>\n",
       "    </tr>\n",
       "    <tr>\n",
       "      <th>1</th>\n",
       "      <td>채널화면_txt</td>\n",
       "    </tr>\n",
       "    <tr>\n",
       "      <th>2</th>\n",
       "      <td>배치</td>\n",
       "    </tr>\n",
       "    <tr>\n",
       "      <th>3</th>\n",
       "      <td>거래코드</td>\n",
       "    </tr>\n",
       "    <tr>\n",
       "      <th>4</th>\n",
       "      <td>채널화면_MAP</td>\n",
       "    </tr>\n",
       "    <tr>\n",
       "      <th>5</th>\n",
       "      <td>IO포맷 ALL</td>\n",
       "    </tr>\n",
       "    <tr>\n",
       "      <th>6</th>\n",
       "      <td>DBIO MAP</td>\n",
       "    </tr>\n",
       "    <tr>\n",
       "      <th>7</th>\n",
       "      <td>DBIO</td>\n",
       "    </tr>\n",
       "    <tr>\n",
       "      <th>8</th>\n",
       "      <td>공통모듈</td>\n",
       "    </tr>\n",
       "    <tr>\n",
       "      <th>9</th>\n",
       "      <td>채널화면_mrd</td>\n",
       "    </tr>\n",
       "    <tr>\n",
       "      <th>10</th>\n",
       "      <td>채널매핑룰</td>\n",
       "    </tr>\n",
       "    <tr>\n",
       "      <th>11</th>\n",
       "      <td>웹_JSP</td>\n",
       "    </tr>\n",
       "    <tr>\n",
       "      <th>12</th>\n",
       "      <td>연동코드</td>\n",
       "    </tr>\n",
       "    <tr>\n",
       "      <th>13</th>\n",
       "      <td>SHELL</td>\n",
       "    </tr>\n",
       "    <tr>\n",
       "      <th>14</th>\n",
       "      <td>상주배치</td>\n",
       "    </tr>\n",
       "    <tr>\n",
       "      <th>15</th>\n",
       "      <td>IO포맷</td>\n",
       "    </tr>\n",
       "    <tr>\n",
       "      <th>16</th>\n",
       "      <td>Header FILE</td>\n",
       "    </tr>\n",
       "    <tr>\n",
       "      <th>17</th>\n",
       "      <td>XML</td>\n",
       "    </tr>\n",
       "    <tr>\n",
       "      <th>18</th>\n",
       "      <td>Java</td>\n",
       "    </tr>\n",
       "    <tr>\n",
       "      <th>19</th>\n",
       "      <td>HTML5_xml</td>\n",
       "    </tr>\n",
       "    <tr>\n",
       "      <th>20</th>\n",
       "      <td>MODULE</td>\n",
       "    </tr>\n",
       "    <tr>\n",
       "      <th>21</th>\n",
       "      <td>배치(*.pc)</td>\n",
       "    </tr>\n",
       "    <tr>\n",
       "      <th>22</th>\n",
       "      <td>HTML5_스크립트</td>\n",
       "    </tr>\n",
       "    <tr>\n",
       "      <th>23</th>\n",
       "      <td>FLEX(/bin 파일)</td>\n",
       "    </tr>\n",
       "    <tr>\n",
       "      <th>24</th>\n",
       "      <td>SCRIPT</td>\n",
       "    </tr>\n",
       "    <tr>\n",
       "      <th>25</th>\n",
       "      <td>FLEX(/src 파일)</td>\n",
       "    </tr>\n",
       "    <tr>\n",
       "      <th>26</th>\n",
       "      <td>프로프레임소스(.c)</td>\n",
       "    </tr>\n",
       "    <tr>\n",
       "      <th>27</th>\n",
       "      <td>웹_비지니스(.xml)</td>\n",
       "    </tr>\n",
       "    <tr>\n",
       "      <th>28</th>\n",
       "      <td>웹_서식(.xml)</td>\n",
       "    </tr>\n",
       "    <tr>\n",
       "      <th>29</th>\n",
       "      <td>Image</td>\n",
       "    </tr>\n",
       "    <tr>\n",
       "      <th>...</th>\n",
       "      <td>...</td>\n",
       "    </tr>\n",
       "    <tr>\n",
       "      <th>41</th>\n",
       "      <td>.net(dll)</td>\n",
       "    </tr>\n",
       "    <tr>\n",
       "      <th>42</th>\n",
       "      <td>화면_VB</td>\n",
       "    </tr>\n",
       "    <tr>\n",
       "      <th>43</th>\n",
       "      <td>CTL</td>\n",
       "    </tr>\n",
       "    <tr>\n",
       "      <th>44</th>\n",
       "      <td>2PC배치</td>\n",
       "    </tr>\n",
       "    <tr>\n",
       "      <th>45</th>\n",
       "      <td>채널매핑룰.rule</td>\n",
       "    </tr>\n",
       "    <tr>\n",
       "      <th>46</th>\n",
       "      <td>채널매핑룰.chl</td>\n",
       "    </tr>\n",
       "    <tr>\n",
       "      <th>47</th>\n",
       "      <td>HTML5_이미지</td>\n",
       "    </tr>\n",
       "    <tr>\n",
       "      <th>48</th>\n",
       "      <td>웹_기타(IT)</td>\n",
       "    </tr>\n",
       "    <tr>\n",
       "      <th>49</th>\n",
       "      <td>후행성배치</td>\n",
       "    </tr>\n",
       "    <tr>\n",
       "      <th>50</th>\n",
       "      <td>GIT프로젝트</td>\n",
       "    </tr>\n",
       "    <tr>\n",
       "      <th>51</th>\n",
       "      <td>HTML5_html</td>\n",
       "    </tr>\n",
       "    <tr>\n",
       "      <th>52</th>\n",
       "      <td>웹_기타(본부)</td>\n",
       "    </tr>\n",
       "    <tr>\n",
       "      <th>53</th>\n",
       "      <td>ONL_OMM</td>\n",
       "    </tr>\n",
       "    <tr>\n",
       "      <th>54</th>\n",
       "      <td>ONL_JAVA</td>\n",
       "    </tr>\n",
       "    <tr>\n",
       "      <th>55</th>\n",
       "      <td>ONL_DBIO</td>\n",
       "    </tr>\n",
       "    <tr>\n",
       "      <th>56</th>\n",
       "      <td>채널화면_scn</td>\n",
       "    </tr>\n",
       "    <tr>\n",
       "      <th>57</th>\n",
       "      <td>채널화면_trn</td>\n",
       "    </tr>\n",
       "    <tr>\n",
       "      <th>58</th>\n",
       "      <td>배치코드</td>\n",
       "    </tr>\n",
       "    <tr>\n",
       "      <th>59</th>\n",
       "      <td>채널화면_js</td>\n",
       "    </tr>\n",
       "    <tr>\n",
       "      <th>60</th>\n",
       "      <td>BAT_Shell</td>\n",
       "    </tr>\n",
       "    <tr>\n",
       "      <th>61</th>\n",
       "      <td>BAT_Bean</td>\n",
       "    </tr>\n",
       "    <tr>\n",
       "      <th>62</th>\n",
       "      <td>BAT_배치</td>\n",
       "    </tr>\n",
       "    <tr>\n",
       "      <th>63</th>\n",
       "      <td>ONL_Bean</td>\n",
       "    </tr>\n",
       "    <tr>\n",
       "      <th>64</th>\n",
       "      <td>BAT_DBIO</td>\n",
       "    </tr>\n",
       "    <tr>\n",
       "      <th>65</th>\n",
       "      <td>BAT_OMM</td>\n",
       "    </tr>\n",
       "    <tr>\n",
       "      <th>66</th>\n",
       "      <td>BAT_JAVA</td>\n",
       "    </tr>\n",
       "    <tr>\n",
       "      <th>67</th>\n",
       "      <td>ONL_JAVA Module</td>\n",
       "    </tr>\n",
       "    <tr>\n",
       "      <th>68</th>\n",
       "      <td>웹_C관련</td>\n",
       "    </tr>\n",
       "    <tr>\n",
       "      <th>69</th>\n",
       "      <td>CONFIG</td>\n",
       "    </tr>\n",
       "    <tr>\n",
       "      <th>70</th>\n",
       "      <td>웹_xadl(소스)</td>\n",
       "    </tr>\n",
       "  </tbody>\n",
       "</table>\n",
       "<p>71 rows × 1 columns</p>\n",
       "</div>"
      ],
      "text/plain": [
       "             프로그램종류\n",
       "0            온라인서비스\n",
       "1          채널화면_txt\n",
       "2                배치\n",
       "3              거래코드\n",
       "4          채널화면_MAP\n",
       "5          IO포맷 ALL\n",
       "6          DBIO MAP\n",
       "7              DBIO\n",
       "8              공통모듈\n",
       "9          채널화면_mrd\n",
       "10            채널매핑룰\n",
       "11            웹_JSP\n",
       "12             연동코드\n",
       "13            SHELL\n",
       "14             상주배치\n",
       "15             IO포맷\n",
       "16      Header FILE\n",
       "17              XML\n",
       "18             Java\n",
       "19        HTML5_xml\n",
       "20           MODULE\n",
       "21         배치(*.pc)\n",
       "22       HTML5_스크립트\n",
       "23    FLEX(/bin 파일)\n",
       "24           SCRIPT\n",
       "25    FLEX(/src 파일)\n",
       "26      프로프레임소스(.c)\n",
       "27     웹_비지니스(.xml)\n",
       "28       웹_서식(.xml)\n",
       "29            Image\n",
       "..              ...\n",
       "41        .net(dll)\n",
       "42            화면_VB\n",
       "43              CTL\n",
       "44            2PC배치\n",
       "45       채널매핑룰.rule\n",
       "46        채널매핑룰.chl\n",
       "47        HTML5_이미지\n",
       "48         웹_기타(IT)\n",
       "49            후행성배치\n",
       "50          GIT프로젝트\n",
       "51       HTML5_html\n",
       "52         웹_기타(본부)\n",
       "53          ONL_OMM\n",
       "54         ONL_JAVA\n",
       "55         ONL_DBIO\n",
       "56         채널화면_scn\n",
       "57         채널화면_trn\n",
       "58             배치코드\n",
       "59          채널화면_js\n",
       "60        BAT_Shell\n",
       "61         BAT_Bean\n",
       "62           BAT_배치\n",
       "63         ONL_Bean\n",
       "64         BAT_DBIO\n",
       "65          BAT_OMM\n",
       "66         BAT_JAVA\n",
       "67  ONL_JAVA Module\n",
       "68            웹_C관련\n",
       "69           CONFIG\n",
       "70       웹_xadl(소스)\n",
       "\n",
       "[71 rows x 1 columns]"
      ]
     },
     "execution_count": 99,
     "metadata": {},
     "output_type": "execute_result"
    }
   ],
   "source": [
    "df[['프로그램종류']].drop_duplicates().reset_index(drop=True)"
   ]
  },
  {
   "cell_type": "markdown",
   "metadata": {},
   "source": [
    "기술 스택을 파악하기에는 프로그램 종류에 대한 정보가 조금은 부족한 것 같다\n",
    "\n",
    "각 프로그램 종류에 따라 어떤 언어나 툴을 사용하는지 파악할 수 있다면 좀 더 다양성을 줄이고 포괄적으로 데이터를 볼 수 있을 듯 하다\n",
    "\n",
    "언어/툴/종류에 따라..\n",
    "\n",
    "**몇가지 알아낸것**\n",
    "1. 신자금세탁방지(AP) 프로그램종류 BAT_ : 배치성 코드\n",
    "2. 신자금세탁방지(AP) 프로그램종류 ONL_ : 서비스 코드\n",
    "3. 금융개발부 DBIO / DBIO MAP : 프로프레임3.0 // 글로개발부 DBI / DBIO MAP : 프로프레임4.0\n",
    ">  금융개발부는 프로프레임3.0 사용 <-> 글로벌개발부은 프로프레임4.0 사용\n",
    "4. 금융개발부 IO포맷 / 화면매핑 : iDev@BuildLink\n",
    "5. 금융개발부 화면 : iDev@Tool\n",
    "6. ICT운영부 클라우드 : 내부 gitlab 를 사용하여 프로젝트 관리 > 형상관리에서 끌어다가 GIT프로젝트로 표현\n"
   ]
  },
  {
   "cell_type": "code",
   "execution_count": 100,
   "metadata": {
    "collapsed": true
   },
   "outputs": [],
   "source": [
    "def add_class(row):\n",
    "    program = row['프로그램종류']\n",
    "    if program == '.net(dll)':\n",
    "        return \"VB\"\n",
    "    elif program == '2PC배치':\n",
    "        return \"C\"\n",
    "    elif program == 'BAT_Bean':\n",
    "        return \"JAVA\"\n",
    "    elif program == 'BAT_DBIO':\n",
    "        return \"JAVA\"\n",
    "    elif program == 'BAT_JAVA':\n",
    "        return \"JAVA\"\n",
    "    elif program == 'BAT_OMM':\n",
    "        return \"JAVA\"\n",
    "    elif program == 'BAT_Shell':\n",
    "        return \"JAVA\"\n",
    "    elif program == 'BAT_배치':\n",
    "        return \"JAVA\"\n",
    "    elif program == 'CONFIG':\n",
    "        return \"Shell\"\n",
    "    elif program == 'CTL':\n",
    "        return \"JAVA\"\n",
    "    elif program == 'DBIO':\n",
    "        return \"프로프레임\"\n",
    "    elif program == 'DBIO MAP':\n",
    "        return \"프로프레임\"\n",
    "    elif program == 'FLEX(.mxml)':\n",
    "        return \"FLEX\"        \n",
    "    elif program == 'FLEX(.swf)':\n",
    "        return \"FLEX\"        \n",
    "    elif program == 'FLEX(/bin 파일)':\n",
    "        return \"FLEX\"\n",
    "    elif program == 'FLEX(/src 파일)':\n",
    "        return \"FLEX\"\n",
    "    elif program == 'GIT프로젝트':\n",
    "        return \"Cloud\"\n",
    "    elif program == 'HTML':\n",
    "        return \"HTML \"\n",
    "    elif program == 'HTML5_html':\n",
    "        return \"HTML \"\n",
    "    elif program == 'HTML5_xml':\n",
    "        return \"HTML \"\n",
    "    elif program == 'HTML5_스크립트':\n",
    "        return \"HTML \"\n",
    "    elif program == 'HTML5_이미지':\n",
    "        return \"HTML \"\n",
    "    elif program == 'Header FILE':\n",
    "        return \"HEADER\"\n",
    "    elif program == 'IO포맷':\n",
    "        return \"iDev@BuildLink\"\n",
    "    elif program == 'IO포맷 ALL':\n",
    "        return \"iDev@BuildLink\"\n",
    "    elif program == 'Image':\n",
    "        return \"기타\"\n",
    "    elif program == 'Java':\n",
    "        return \"JAVA\"\n",
    "    elif program == 'MODULE':\n",
    "        return \"C\"\n",
    "    elif program == 'ONL_Bean':\n",
    "        return \"JAVA\"\n",
    "    elif program == 'ONL_DBIO':\n",
    "        return \"JAVA\"\n",
    "    elif program == 'ONL_JAVA':\n",
    "        return \"JAVA\"\n",
    "    elif program == 'ONL_JAVA Module':\n",
    "        return \"JAVA\"\n",
    "    elif program == 'ONL_OMM':\n",
    "        return \"JAVA\"\n",
    "    elif program == 'PACKAGE':\n",
    "        return \"기타\"\n",
    "    elif program == 'SCRIPT':\n",
    "        return \"Shell\"\n",
    "    elif program == 'SHELL':\n",
    "        return \"Shell\"\n",
    "    elif program == 'SQL':\n",
    "        return \"SQL\"\n",
    "    elif program == 'XML':\n",
    "        return \"xml\"\n",
    "    elif program == '거래코드':\n",
    "        return \"C\"\n",
    "    elif program == '공통모듈':\n",
    "        return \"C\"\n",
    "    elif program == '배치':\n",
    "        return \"C\"        \n",
    "    elif program == '배치(*.pc)':\n",
    "        return \"C\"\n",
    "    elif program == '배치코드':\n",
    "        return \"C\"\n",
    "    elif program == '상주배치':\n",
    "        return \"C\"\n",
    "    elif program == '스크립트(긴급)':\n",
    "        return \"Shell\"\n",
    "    elif program == '스크립트(일반)':\n",
    "        return \"Shell\"\n",
    "    elif program == '실행모듈(서버)':\n",
    "        return \"Server\"\n",
    "    elif program == '연동코드':\n",
    "        return \"C\"\n",
    "    elif program == '온라인서비스':\n",
    "        return \"C\"\n",
    "    elif program.startswith('웹'):\n",
    "        return \"Web\"\n",
    "    elif program == '채널매핑룰':\n",
    "        return \"iDev@BuildLink\"\n",
    "    elif program == '채널매핑룰.chl':\n",
    "        return \"iDev@BuildLink\"\n",
    "    elif program == '채널매핑룰.rule':\n",
    "        return \"iDev@BuildLink\"\n",
    "    elif program == '채널화면_MAP':\n",
    "        return \"iDev@Tool\"\n",
    "    elif program == '채널화면_js':\n",
    "        return \"iDev@Tool\"\n",
    "    elif program == '채널화면_mrd':\n",
    "        return \"iDev@Tool\"\n",
    "    elif program == '채널화면_scn':\n",
    "        return \"iDev@Tool\"\n",
    "    elif program == '채널화면_trn':\n",
    "        return \"iDev@Tool\"\n",
    "    elif program == '채널화면_txt':\n",
    "        return \"iDev@Tool\"\n",
    "    elif program == '프로프레임소스(.c)':\n",
    "        return \"C\"\n",
    "    elif program == '화면_VB':\n",
    "        return \"VB\"\n",
    "    elif program == '후행성배치':\n",
    "        return \"C\""
   ]
  },
  {
   "cell_type": "code",
   "execution_count": 101,
   "metadata": {
    "collapsed": false
   },
   "outputs": [
    {
     "name": "stderr",
     "output_type": "stream",
     "text": [
      "C:\\Program Files\\Anaconda3\\lib\\site-packages\\ipykernel\\__main__.py:1: SettingWithCopyWarning: \n",
      "A value is trying to be set on a copy of a slice from a DataFrame.\n",
      "Try using .loc[row_indexer,col_indexer] = value instead\n",
      "\n",
      "See the caveats in the documentation: http://pandas.pydata.org/pandas-docs/stable/indexing.html#indexing-view-versus-copy\n",
      "  if __name__ == '__main__':\n"
     ]
    }
   ],
   "source": [
    "df['A'] = df.apply(lambda x: add_class(x), axis=1)"
   ]
  },
  {
   "cell_type": "code",
   "execution_count": 102,
   "metadata": {
    "collapsed": false
   },
   "outputs": [
    {
     "name": "stderr",
     "output_type": "stream",
     "text": [
      "C:\\Program Files\\Anaconda3\\lib\\site-packages\\ipykernel\\__main__.py:1: SettingWithCopyWarning: \n",
      "A value is trying to be set on a copy of a slice from a DataFrame.\n",
      "Try using .loc[row_indexer,col_indexer] = value instead\n",
      "\n",
      "See the caveats in the documentation: http://pandas.pydata.org/pandas-docs/stable/indexing.html#indexing-view-versus-copy\n",
      "  if __name__ == '__main__':\n"
     ]
    }
   ],
   "source": [
    "df['A_COUNT'] = df.groupby(['A', '프로그램종류'])[['JIKWON_NO']].transform('count')"
   ]
  },
  {
   "cell_type": "code",
   "execution_count": 103,
   "metadata": {
    "collapsed": false
   },
   "outputs": [
    {
     "name": "stderr",
     "output_type": "stream",
     "text": [
      "C:\\Program Files\\Anaconda3\\lib\\site-packages\\ipykernel\\__main__.py:1: SettingWithCopyWarning: \n",
      "A value is trying to be set on a copy of a slice from a DataFrame.\n",
      "Try using .loc[row_indexer,col_indexer] = value instead\n",
      "\n",
      "See the caveats in the documentation: http://pandas.pydata.org/pandas-docs/stable/indexing.html#indexing-view-versus-copy\n",
      "  if __name__ == '__main__':\n"
     ]
    }
   ],
   "source": [
    "df['B_COUNT'] = df.groupby(['시스템유형', '업무그룹', '업무'])[['JIKWON_NO']].transform('count')"
   ]
  },
  {
   "cell_type": "code",
   "execution_count": 104,
   "metadata": {
    "collapsed": false
   },
   "outputs": [
    {
     "data": {
      "text/plain": [
       "Index(['JIKWON_NO', 'JEOM_NO', 'JIKGUN', 'JIKGEUB', 'JIKWHI', 'JIKWHI2',\n",
       "       'JUJKMU_C', 'JUJKMU_RATE', 'BUJKMU_C', 'BUJKMU_RATE', 'JUMJANG_G',\n",
       "       'HOBONG', 'BUIM_ILJA', '시스템유형', '업무그룹', '업무', '프로그램종류', '프로그램명',\n",
       "       '프로젝트번호', '요청일자', '요청구분', '요청번호', '프로그램경로'],\n",
       "      dtype='object')"
      ]
     },
     "execution_count": 104,
     "metadata": {},
     "output_type": "execute_result"
    }
   ],
   "source": [
    "df_raw.columns"
   ]
  },
  {
   "cell_type": "code",
   "execution_count": 126,
   "metadata": {
    "collapsed": false
   },
   "outputs": [
    {
     "name": "stderr",
     "output_type": "stream",
     "text": [
      "C:\\Program Files\\Anaconda3\\lib\\site-packages\\ipykernel\\__main__.py:2: SettingWithCopyWarning: \n",
      "A value is trying to be set on a copy of a slice from a DataFrame.\n",
      "Try using .loc[row_indexer,col_indexer] = value instead\n",
      "\n",
      "See the caveats in the documentation: http://pandas.pydata.org/pandas-docs/stable/indexing.html#indexing-view-versus-copy\n",
      "  from ipykernel import kernelapp as app\n"
     ]
    },
    {
     "data": {
      "text/html": [
       "<div>\n",
       "<table border=\"1\" class=\"dataframe\">\n",
       "  <thead>\n",
       "    <tr style=\"text-align: right;\">\n",
       "      <th></th>\n",
       "      <th>프로그램명</th>\n",
       "      <th>프로그램설명</th>\n",
       "    </tr>\n",
       "  </thead>\n",
       "  <tbody>\n",
       "  </tbody>\n",
       "</table>\n",
       "</div>"
      ],
      "text/plain": [
       "Empty DataFrame\n",
       "Columns: [프로그램명, 프로그램설명]\n",
       "Index: []"
      ]
     },
     "execution_count": 126,
     "metadata": {},
     "output_type": "execute_result"
    }
   ],
   "source": [
    "df_program = program_base[['프로그램명', '프로그램설명']]\n",
    "df_program['프로그램설명'] = np.where(pd.notnull(df_program['프로그램설명']) == True, df_program['프로그램설명'], df_program['프로그램명'])\n",
    "df_program[df_program['프로그램설명'].isnull()]"
   ]
  },
  {
   "cell_type": "markdown",
   "metadata": {},
   "source": [
    "# Export Data"
   ]
  },
  {
   "cell_type": "code",
   "execution_count": 127,
   "metadata": {
    "collapsed": true
   },
   "outputs": [],
   "source": [
    "data_for_dash = pd.merge(left=df[['JIKWON_NO', '시스템유형', '업무그룹', '업무', '프로그램종류', '프로그램명', 'A', 'A_COUNT', 'B_COUNT']],\n",
    "                         right=df_jikwon[['JIKWON_NO', 'NAME']],\n",
    "                         how='left', left_on='JIKWON_NO', right_on='JIKWON_NO')"
   ]
  },
  {
   "cell_type": "code",
   "execution_count": 128,
   "metadata": {
    "collapsed": false
   },
   "outputs": [
    {
     "data": {
      "text/html": [
       "<div>\n",
       "<table border=\"1\" class=\"dataframe\">\n",
       "  <thead>\n",
       "    <tr style=\"text-align: right;\">\n",
       "      <th></th>\n",
       "      <th>JIKWON_NO</th>\n",
       "      <th>시스템유형</th>\n",
       "      <th>업무그룹</th>\n",
       "      <th>업무</th>\n",
       "      <th>프로그램종류</th>\n",
       "      <th>프로그램명</th>\n",
       "      <th>A</th>\n",
       "      <th>A_COUNT</th>\n",
       "      <th>B_COUNT</th>\n",
       "      <th>NAME</th>\n",
       "      <th>프로그램설명</th>\n",
       "    </tr>\n",
       "  </thead>\n",
       "  <tbody>\n",
       "  </tbody>\n",
       "</table>\n",
       "</div>"
      ],
      "text/plain": [
       "Empty DataFrame\n",
       "Columns: [JIKWON_NO, 시스템유형, 업무그룹, 업무, 프로그램종류, 프로그램명, A, A_COUNT, B_COUNT, NAME, 프로그램설명]\n",
       "Index: []"
      ]
     },
     "execution_count": 128,
     "metadata": {},
     "output_type": "execute_result"
    }
   ],
   "source": [
    "data_for_dash2 = pd.merge(left=data_for_dash, right=df_program,\n",
    "                       how='left', left_on='프로그램명', right_on='프로그램명')\n",
    "data_for_dash2['프로그램설명'] = np.where(pd.notnull(data_for_dash2['프로그램설명']) == True, data_for_dash2['프로그램설명'], data_for_dash2['프로그램명'])\n",
    "data_for_dash2[data_for_dash2['프로그램설명'].isnull()]"
   ]
  },
  {
   "cell_type": "code",
   "execution_count": 129,
   "metadata": {
    "collapsed": true
   },
   "outputs": [],
   "source": [
    "data_for_dash2.to_csv(os.path.join(root, 'data_for_dash2.csv'), na_rep='NaN')"
   ]
  }
 ],
 "metadata": {
  "anaconda-cloud": {},
  "kernelspec": {
   "display_name": "Python [default]",
   "language": "python",
   "name": "python3"
  },
  "language_info": {
   "codemirror_mode": {
    "name": "ipython",
    "version": 3
   },
   "file_extension": ".py",
   "mimetype": "text/x-python",
   "name": "python",
   "nbconvert_exporter": "python",
   "pygments_lexer": "ipython3",
   "version": "3.5.2"
  }
 },
 "nbformat": 4,
 "nbformat_minor": 4
}
