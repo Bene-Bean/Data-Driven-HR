{
 "cells": [
  {
   "cell_type": "markdown",
   "metadata": {},
   "source": [
    "# Import Libraries\n",
    "#### Standard"
   ]
  },
  {
   "cell_type": "code",
   "execution_count": 1,
   "metadata": {
    "collapsed": true
   },
   "outputs": [],
   "source": [
    "import os\n",
    "import numpy as np\n",
    "import pandas as pd"
   ]
  },
  {
   "cell_type": "markdown",
   "metadata": {},
   "source": [
    "#### Visualization"
   ]
  },
  {
   "cell_type": "code",
   "execution_count": 2,
   "metadata": {
    "collapsed": true
   },
   "outputs": [],
   "source": [
    "import matplotlib.pyplot as plt\n",
    "import matplotlib.font_manager as fm\n",
    "from matplotlib import colors\n",
    "from matplotlib import rc\n",
    "import seaborn as sns\n",
    "import networkx as nx"
   ]
  },
  {
   "cell_type": "markdown",
   "metadata": {},
   "source": [
    "# Import Data\n",
    "Data Preprocessing 단계에서 생성된 통합 데이터 테이블을 불러온다"
   ]
  },
  {
   "cell_type": "code",
   "execution_count": 3,
   "metadata": {
    "collapsed": true
   },
   "outputs": [],
   "source": [
    "root = os.path.join(os.getcwd(), 'DATA')\n",
    "\n",
    "df_raw = pd.read_csv(os.path.join(root, 'raw_data.csv'), index_col = 0)\n",
    "df_project = pd.read_csv(os.path.join(root, 'project_data.csv'), index_col = 0)\n",
    "\n",
    "code_jeom = pd.read_csv(os.path.join(root, 'jeom_code.csv'), index_col = 0)\n",
    "code_jikwhi = pd.read_csv(os.path.join(root, 'jikwhi_code.csv'), index_col = 0)\n",
    "code_jkmu = pd.read_csv(os.path.join(root, 'jkmu_code.csv'), index_col = 0)"
   ]
  },
  {
   "cell_type": "markdown",
   "metadata": {},
   "source": [
    "직원 데이터는 지속적으로 참고해야 한다"
   ]
  },
  {
   "cell_type": "code",
   "execution_count": 4,
   "metadata": {
    "collapsed": true
   },
   "outputs": [],
   "source": [
    "df_jikwon = pd.read_csv(os.path.join(root, 'jikwon.csv'), encoding='cp949')"
   ]
  },
  {
   "cell_type": "markdown",
   "metadata": {},
   "source": [
    "프로그램 목록 표시를 위해 프로그램 데이터를 불러온다."
   ]
  },
  {
   "cell_type": "code",
   "execution_count": 6,
   "metadata": {
    "collapsed": false
   },
   "outputs": [],
   "source": [
    "program_base = pd.read_excel(os.path.join(root, 'program.xlsx'), sheet_name='data')"
   ]
  },
  {
   "cell_type": "markdown",
   "metadata": {},
   "source": [
    "----"
   ]
  },
  {
   "cell_type": "markdown",
   "metadata": {},
   "source": [
    "# Drop Data\n"
   ]
  },
  {
   "cell_type": "markdown",
   "metadata": {},
   "source": [
    "요청구분은 무수정, 수정, 신규, 폐기, 총 4종류가 있는데 우리는 신규/수정한 이력만을 볼 것이다  \n",
    "이를 통해 프로그램을 신규/수정한 이력이 없는 직원들도 제거된다"
   ]
  },
  {
   "cell_type": "code",
   "execution_count": 7,
   "metadata": {
    "collapsed": false,
    "scrolled": true
   },
   "outputs": [
    {
     "data": {
      "text/plain": "        요청번호\n요청구분        \n무수정     5557\n수정    189113\n신규    166315\n폐기      8934",
      "text/html": "<div>\n<style scoped>\n    .dataframe tbody tr th:only-of-type {\n        vertical-align: middle;\n    }\n\n    .dataframe tbody tr th {\n        vertical-align: top;\n    }\n\n    .dataframe thead th {\n        text-align: right;\n    }\n</style>\n<table border=\"1\" class=\"dataframe\">\n  <thead>\n    <tr style=\"text-align: right;\">\n      <th></th>\n      <th>요청번호</th>\n    </tr>\n    <tr>\n      <th>요청구분</th>\n      <th></th>\n    </tr>\n  </thead>\n  <tbody>\n    <tr>\n      <th>무수정</th>\n      <td>5557</td>\n    </tr>\n    <tr>\n      <th>수정</th>\n      <td>189113</td>\n    </tr>\n    <tr>\n      <th>신규</th>\n      <td>166315</td>\n    </tr>\n    <tr>\n      <th>폐기</th>\n      <td>8934</td>\n    </tr>\n  </tbody>\n</table>\n</div>"
     },
     "execution_count": 7,
     "metadata": {},
     "output_type": "execute_result"
    }
   ],
   "source": [
    "df_raw[['요청구분', '요청번호']].groupby('요청구분').count()"
   ]
  },
  {
   "cell_type": "code",
   "execution_count": 8,
   "metadata": {
    "collapsed": false
   },
   "outputs": [
    {
     "name": "stdout",
     "output_type": "stream",
     "text": [
      "(370040, 23)->(355428, 23)\n"
     ]
    }
   ],
   "source": [
    "print(df_raw.shape, end=\"->\")\n",
    "df = df_raw[(df_raw['요청구분'] == '신규') | (df_raw['요청구분'] == '수정')]\n",
    "print(df.shape)"
   ]
  },
  {
   "cell_type": "code",
   "execution_count": 9,
   "metadata": {
    "collapsed": false
   },
   "outputs": [
    {
     "data": {
      "text/plain": "array(['수정', '신규'], dtype=object)"
     },
     "execution_count": 9,
     "metadata": {},
     "output_type": "execute_result"
    }
   ],
   "source": [
    "df['요청구분'].unique()"
   ]
  },
  {
   "cell_type": "markdown",
   "metadata": {},
   "source": [
    "# 분류하기"
   ]
  },
  {
   "cell_type": "markdown",
   "metadata": {},
   "source": [
    "### 프로그램종류\n",
    "프로그램 종류를 파악해서 어떤 언어/툴 등을 사용했는지 파악 가능"
   ]
  },
  {
   "cell_type": "code",
   "execution_count": 10,
   "metadata": {
    "collapsed": false,
    "scrolled": true
   },
   "outputs": [
    {
     "data": {
      "text/plain": "             프로그램종류\n0            온라인서비스\n1          채널화면_txt\n2                배치\n3              거래코드\n4          채널화면_MAP\n..              ...\n66         BAT_JAVA\n67  ONL_JAVA Module\n68            웹_C관련\n69           CONFIG\n70       웹_xadl(소스)\n\n[71 rows x 1 columns]",
      "text/html": "<div>\n<style scoped>\n    .dataframe tbody tr th:only-of-type {\n        vertical-align: middle;\n    }\n\n    .dataframe tbody tr th {\n        vertical-align: top;\n    }\n\n    .dataframe thead th {\n        text-align: right;\n    }\n</style>\n<table border=\"1\" class=\"dataframe\">\n  <thead>\n    <tr style=\"text-align: right;\">\n      <th></th>\n      <th>프로그램종류</th>\n    </tr>\n  </thead>\n  <tbody>\n    <tr>\n      <th>0</th>\n      <td>온라인서비스</td>\n    </tr>\n    <tr>\n      <th>1</th>\n      <td>채널화면_txt</td>\n    </tr>\n    <tr>\n      <th>2</th>\n      <td>배치</td>\n    </tr>\n    <tr>\n      <th>3</th>\n      <td>거래코드</td>\n    </tr>\n    <tr>\n      <th>4</th>\n      <td>채널화면_MAP</td>\n    </tr>\n    <tr>\n      <th>...</th>\n      <td>...</td>\n    </tr>\n    <tr>\n      <th>66</th>\n      <td>BAT_JAVA</td>\n    </tr>\n    <tr>\n      <th>67</th>\n      <td>ONL_JAVA Module</td>\n    </tr>\n    <tr>\n      <th>68</th>\n      <td>웹_C관련</td>\n    </tr>\n    <tr>\n      <th>69</th>\n      <td>CONFIG</td>\n    </tr>\n    <tr>\n      <th>70</th>\n      <td>웹_xadl(소스)</td>\n    </tr>\n  </tbody>\n</table>\n<p>71 rows × 1 columns</p>\n</div>"
     },
     "execution_count": 10,
     "metadata": {},
     "output_type": "execute_result"
    }
   ],
   "source": [
    "df[['프로그램종류']].drop_duplicates().reset_index(drop=True)"
   ]
  },
  {
   "cell_type": "markdown",
   "metadata": {},
   "source": [
    "기술 스택을 파악하기에는 프로그램 종류에 대한 정보가 조금은 부족한 것 같다\n",
    "\n",
    "각 프로그램 종류에 따라 어떤 언어나 툴을 사용하는지 파악할 수 있다면 좀 더 다양성을 줄이고 포괄적으로 데이터를 볼 수 있을 듯 하다\n",
    "\n",
    "언어/툴/종류에 따라..\n",
    "\n",
    "**몇가지 알아낸것**\n",
    "1. 신자금세탁방지(AP) 프로그램종류 BAT_ : 배치성 코드\n",
    "2. 신자금세탁방지(AP) 프로그램종류 ONL_ : 서비스 코드\n",
    "3. 금융개발부 DBIO / DBIO MAP : 프로프레임3.0 // 글로개발부 DBI / DBIO MAP : 프로프레임4.0\n",
    ">  금융개발부는 프로프레임3.0 사용 <-> 글로벌개발부은 프로프레임4.0 사용\n",
    "4. 금융개발부 IO포맷 / 화면매핑 : iDev@BuildLink\n",
    "5. 금융개발부 화면 : iDev@Tool\n",
    "6. ICT운영부 클라우드 : 내부 gitlab 를 사용하여 프로젝트 관리 > 형상관리에서 끌어다가 GIT프로젝트로 표현\n"
   ]
  },
  {
   "cell_type": "code",
   "execution_count": 11,
   "metadata": {
    "collapsed": true
   },
   "outputs": [],
   "source": [
    "def add_class(row):\n",
    "    program = row['프로그램종류']\n",
    "    if program == '.net(dll)':\n",
    "        return \"VB\"\n",
    "    elif program == '2PC배치':\n",
    "        return \"C\"\n",
    "    elif program == 'BAT_Bean':\n",
    "        return \"JAVA\"\n",
    "    elif program == 'BAT_DBIO':\n",
    "        return \"JAVA\"\n",
    "    elif program == 'BAT_JAVA':\n",
    "        return \"JAVA\"\n",
    "    elif program == 'BAT_OMM':\n",
    "        return \"JAVA\"\n",
    "    elif program == 'BAT_Shell':\n",
    "        return \"JAVA\"\n",
    "    elif program == 'BAT_배치':\n",
    "        return \"JAVA\"\n",
    "    elif program == 'CONFIG':\n",
    "        return \"Shell\"\n",
    "    elif program == 'CTL':\n",
    "        return \"JAVA\"\n",
    "    elif program == 'DBIO':\n",
    "        return \"프로프레임\"\n",
    "    elif program == 'DBIO MAP':\n",
    "        return \"프로프레임\"\n",
    "    elif program == 'FLEX(.mxml)':\n",
    "        return \"FLEX\"        \n",
    "    elif program == 'FLEX(.swf)':\n",
    "        return \"FLEX\"        \n",
    "    elif program == 'FLEX(/bin 파일)':\n",
    "        return \"FLEX\"\n",
    "    elif program == 'FLEX(/src 파일)':\n",
    "        return \"FLEX\"\n",
    "    elif program == 'GIT프로젝트':\n",
    "        return \"Cloud\"\n",
    "    elif program == 'HTML':\n",
    "        return \"HTML \"\n",
    "    elif program == 'HTML5_html':\n",
    "        return \"HTML \"\n",
    "    elif program == 'HTML5_xml':\n",
    "        return \"HTML \"\n",
    "    elif program == 'HTML5_스크립트':\n",
    "        return \"HTML \"\n",
    "    elif program == 'HTML5_이미지':\n",
    "        return \"HTML \"\n",
    "    elif program == 'Header FILE':\n",
    "        return \"HEADER\"\n",
    "    elif program == 'IO포맷':\n",
    "        return \"iDev@BuildLink\"\n",
    "    elif program == 'IO포맷 ALL':\n",
    "        return \"iDev@BuildLink\"\n",
    "    elif program == 'Image':\n",
    "        return \"기타\"\n",
    "    elif program == 'Java':\n",
    "        return \"JAVA\"\n",
    "    elif program == 'MODULE':\n",
    "        return \"C\"\n",
    "    elif program == 'ONL_Bean':\n",
    "        return \"JAVA\"\n",
    "    elif program == 'ONL_DBIO':\n",
    "        return \"JAVA\"\n",
    "    elif program == 'ONL_JAVA':\n",
    "        return \"JAVA\"\n",
    "    elif program == 'ONL_JAVA Module':\n",
    "        return \"JAVA\"\n",
    "    elif program == 'ONL_OMM':\n",
    "        return \"JAVA\"\n",
    "    elif program == 'PACKAGE':\n",
    "        return \"기타\"\n",
    "    elif program == 'SCRIPT':\n",
    "        return \"Shell\"\n",
    "    elif program == 'SHELL':\n",
    "        return \"Shell\"\n",
    "    elif program == 'SQL':\n",
    "        return \"SQL\"\n",
    "    elif program == 'XML':\n",
    "        return \"xml\"\n",
    "    elif program == '거래코드':\n",
    "        return \"C\"\n",
    "    elif program == '공통모듈':\n",
    "        return \"C\"\n",
    "    elif program == '배치':\n",
    "        return \"C\"        \n",
    "    elif program == '배치(*.pc)':\n",
    "        return \"C\"\n",
    "    elif program == '배치코드':\n",
    "        return \"C\"\n",
    "    elif program == '상주배치':\n",
    "        return \"C\"\n",
    "    elif program == '스크립트(긴급)':\n",
    "        return \"Shell\"\n",
    "    elif program == '스크립트(일반)':\n",
    "        return \"Shell\"\n",
    "    elif program == '실행모듈(서버)':\n",
    "        return \"Server\"\n",
    "    elif program == '연동코드':\n",
    "        return \"C\"\n",
    "    elif program == '온라인서비스':\n",
    "        return \"C\"\n",
    "    elif program.startswith('웹'):\n",
    "        return \"Web\"\n",
    "    elif program == '채널매핑룰':\n",
    "        return \"iDev@BuildLink\"\n",
    "    elif program == '채널매핑룰.chl':\n",
    "        return \"iDev@BuildLink\"\n",
    "    elif program == '채널매핑룰.rule':\n",
    "        return \"iDev@BuildLink\"\n",
    "    elif program == '채널화면_MAP':\n",
    "        return \"iDev@Tool\"\n",
    "    elif program == '채널화면_js':\n",
    "        return \"iDev@Tool\"\n",
    "    elif program == '채널화면_mrd':\n",
    "        return \"iDev@Tool\"\n",
    "    elif program == '채널화면_scn':\n",
    "        return \"iDev@Tool\"\n",
    "    elif program == '채널화면_trn':\n",
    "        return \"iDev@Tool\"\n",
    "    elif program == '채널화면_txt':\n",
    "        return \"iDev@Tool\"\n",
    "    elif program == '프로프레임소스(.c)':\n",
    "        return \"C\"\n",
    "    elif program == '화면_VB':\n",
    "        return \"VB\"\n",
    "    elif program == '후행성배치':\n",
    "        return \"C\""
   ]
  },
  {
   "cell_type": "code",
   "execution_count": 12,
   "metadata": {
    "collapsed": false
   },
   "outputs": [
    {
     "name": "stderr",
     "output_type": "stream",
     "text": [
      "C:\\Anaconda3\\lib\\site-packages\\ipykernel_launcher.py:1: SettingWithCopyWarning: \n",
      "A value is trying to be set on a copy of a slice from a DataFrame.\n",
      "Try using .loc[row_indexer,col_indexer] = value instead\n",
      "\n",
      "See the caveats in the documentation: http://pandas.pydata.org/pandas-docs/stable/user_guide/indexing.html#returning-a-view-versus-a-copy\n",
      "  \"\"\"Entry point for launching an IPython kernel.\n"
     ]
    }
   ],
   "source": [
    "df['A'] = df.apply(lambda x: add_class(x), axis=1)"
   ]
  },
  {
   "cell_type": "code",
   "execution_count": 13,
   "metadata": {
    "collapsed": false
   },
   "outputs": [
    {
     "name": "stderr",
     "output_type": "stream",
     "text": [
      "C:\\Anaconda3\\lib\\site-packages\\ipykernel_launcher.py:1: SettingWithCopyWarning: \n",
      "A value is trying to be set on a copy of a slice from a DataFrame.\n",
      "Try using .loc[row_indexer,col_indexer] = value instead\n",
      "\n",
      "See the caveats in the documentation: http://pandas.pydata.org/pandas-docs/stable/user_guide/indexing.html#returning-a-view-versus-a-copy\n",
      "  \"\"\"Entry point for launching an IPython kernel.\n"
     ]
    }
   ],
   "source": [
    "df['A_COUNT'] = df.groupby(['A', '프로그램종류'])[['JIKWON_NO']].transform('count')"
   ]
  },
  {
   "cell_type": "code",
   "execution_count": 14,
   "metadata": {
    "collapsed": false
   },
   "outputs": [
    {
     "name": "stderr",
     "output_type": "stream",
     "text": [
      "C:\\Anaconda3\\lib\\site-packages\\ipykernel_launcher.py:1: SettingWithCopyWarning: \n",
      "A value is trying to be set on a copy of a slice from a DataFrame.\n",
      "Try using .loc[row_indexer,col_indexer] = value instead\n",
      "\n",
      "See the caveats in the documentation: http://pandas.pydata.org/pandas-docs/stable/user_guide/indexing.html#returning-a-view-versus-a-copy\n",
      "  \"\"\"Entry point for launching an IPython kernel.\n"
     ]
    }
   ],
   "source": [
    "df['B_COUNT'] = df.groupby(['시스템유형', '업무그룹', '업무'])[['JIKWON_NO']].transform('count')"
   ]
  },
  {
   "cell_type": "code",
   "execution_count": 15,
   "metadata": {
    "collapsed": false
   },
   "outputs": [
    {
     "data": {
      "text/plain": "Index(['JIKWON_NO', 'JEOM_NO', 'JIKGUN', 'JIKGEUB', 'JIKWHI', 'JIKWHI2',\n       'JUJKMU_C', 'JUJKMU_RATE', 'BUJKMU_C', 'BUJKMU_RATE', 'JUMJANG_G',\n       'HOBONG', 'BUIM_ILJA', '시스템유형', '업무그룹', '업무', '프로그램종류', '프로그램명',\n       '프로젝트번호', '요청일자', '요청구분', '요청번호', '프로그램경로'],\n      dtype='object')"
     },
     "execution_count": 15,
     "metadata": {},
     "output_type": "execute_result"
    }
   ],
   "source": [
    "df_raw.columns"
   ]
  },
  {
   "cell_type": "code",
   "execution_count": 16,
   "metadata": {
    "collapsed": false
   },
   "outputs": [
    {
     "name": "stderr",
     "output_type": "stream",
     "text": [
      "C:\\Anaconda3\\lib\\site-packages\\ipykernel_launcher.py:2: SettingWithCopyWarning: \n",
      "A value is trying to be set on a copy of a slice from a DataFrame.\n",
      "Try using .loc[row_indexer,col_indexer] = value instead\n",
      "\n",
      "See the caveats in the documentation: http://pandas.pydata.org/pandas-docs/stable/user_guide/indexing.html#returning-a-view-versus-a-copy\n",
      "  \n"
     ]
    },
    {
     "data": {
      "text/plain": "Empty DataFrame\nColumns: [프로그램명, 프로그램설명]\nIndex: []",
      "text/html": "<div>\n<style scoped>\n    .dataframe tbody tr th:only-of-type {\n        vertical-align: middle;\n    }\n\n    .dataframe tbody tr th {\n        vertical-align: top;\n    }\n\n    .dataframe thead th {\n        text-align: right;\n    }\n</style>\n<table border=\"1\" class=\"dataframe\">\n  <thead>\n    <tr style=\"text-align: right;\">\n      <th></th>\n      <th>프로그램명</th>\n      <th>프로그램설명</th>\n    </tr>\n  </thead>\n  <tbody>\n  </tbody>\n</table>\n</div>"
     },
     "execution_count": 16,
     "metadata": {},
     "output_type": "execute_result"
    }
   ],
   "source": [
    "df_program = program_base[['프로그램명', '프로그램설명']]\n",
    "df_program['프로그램설명'] = np.where(pd.notnull(df_program['프로그램설명']) == True, df_program['프로그램설명'], df_program['프로그램명'])\n",
    "df_program[df_program['프로그램설명'].isnull()]"
   ]
  },
  {
   "cell_type": "markdown",
   "metadata": {},
   "source": [
    "# Export Data"
   ]
  },
  {
   "cell_type": "code",
   "execution_count": 17,
   "metadata": {
    "collapsed": true
   },
   "outputs": [],
   "source": [
    "data_for_dash = pd.merge(left=df[['JIKWON_NO', '시스템유형', '업무그룹', '업무', '프로그램종류', '프로그램명', 'A', 'A_COUNT', 'B_COUNT']],\n",
    "                         right=df_jikwon[['JIKWON_NO', 'NAME']],\n",
    "                         how='left', left_on='JIKWON_NO', right_on='JIKWON_NO')"
   ]
  },
  {
   "cell_type": "code",
   "execution_count": 18,
   "metadata": {
    "collapsed": false
   },
   "outputs": [
    {
     "data": {
      "text/plain": "Empty DataFrame\nColumns: [JIKWON_NO, 시스템유형, 업무그룹, 업무, 프로그램종류, 프로그램명, A, A_COUNT, B_COUNT, NAME, 프로그램설명]\nIndex: []",
      "text/html": "<div>\n<style scoped>\n    .dataframe tbody tr th:only-of-type {\n        vertical-align: middle;\n    }\n\n    .dataframe tbody tr th {\n        vertical-align: top;\n    }\n\n    .dataframe thead th {\n        text-align: right;\n    }\n</style>\n<table border=\"1\" class=\"dataframe\">\n  <thead>\n    <tr style=\"text-align: right;\">\n      <th></th>\n      <th>JIKWON_NO</th>\n      <th>시스템유형</th>\n      <th>업무그룹</th>\n      <th>업무</th>\n      <th>프로그램종류</th>\n      <th>프로그램명</th>\n      <th>A</th>\n      <th>A_COUNT</th>\n      <th>B_COUNT</th>\n      <th>NAME</th>\n      <th>프로그램설명</th>\n    </tr>\n  </thead>\n  <tbody>\n  </tbody>\n</table>\n</div>"
     },
     "execution_count": 18,
     "metadata": {},
     "output_type": "execute_result"
    }
   ],
   "source": [
    "data_for_dash2 = pd.merge(left=data_for_dash, right=df_program,\n",
    "                       how='left', left_on='프로그램명', right_on='프로그램명')\n",
    "data_for_dash2['프로그램설명'] = np.where(pd.notnull(data_for_dash2['프로그램설명']) == True, data_for_dash2['프로그램설명'], data_for_dash2['프로그램명'])\n",
    "data_for_dash2[data_for_dash2['프로그램설명'].isnull()]"
   ]
  },
  {
   "cell_type": "code",
   "execution_count": 19,
   "metadata": {
    "collapsed": true
   },
   "outputs": [],
   "source": [
    "data_for_dash2.to_csv(os.path.join(root, 'data_for_dash2.csv'), na_rep='NaN')"
   ]
  }
 ],
 "metadata": {
  "anaconda-cloud": {},
  "kernelspec": {
   "display_name": "Python [default]",
   "language": "python",
   "name": "python3"
  },
  "language_info": {
   "codemirror_mode": {
    "name": "ipython",
    "version": 3
   },
   "file_extension": ".py",
   "mimetype": "text/x-python",
   "name": "python",
   "nbconvert_exporter": "python",
   "pygments_lexer": "ipython3",
   "version": "3.5.2"
  }
 },
 "nbformat": 4,
 "nbformat_minor": 4
}